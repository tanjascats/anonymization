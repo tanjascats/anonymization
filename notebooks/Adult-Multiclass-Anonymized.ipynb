{
 "cells": [
  {
   "cell_type": "code",
   "execution_count": null,
   "metadata": {},
   "outputs": [],
   "source": [
    "# This is a multiclass classification of anonymized Adult datasets on target 'marital-status' for 4 classifiers:\n",
    "# Gradient Boosting\n",
    "# Linear SVC\n",
    "# Logistic Regression\n",
    "# Random Forest\n",
    "# k = {3, 7, 11, 15, 19, 23, 27, 31, 35, 100}"
   ]
  },
  {
   "cell_type": "code",
   "execution_count": 2,
   "metadata": {},
   "outputs": [],
   "source": [
    "import pandas as pd\n",
    "import matplotlib.pyplot as plt\n",
    "import math\n",
    "import numpy as np\n",
    "\n",
    "from sklearn import metrics, preprocessing, model_selection\n",
    "from sklearn.ensemble import GradientBoostingClassifier as GradientBoosting, RandomForestClassifier as RandomForest\n",
    "from sklearn.svm import LinearSVC\n",
    "from sklearn.linear_model import LogisticRegression"
   ]
  },
  {
   "cell_type": "code",
   "execution_count": 3,
   "metadata": {},
   "outputs": [],
   "source": [
    "def read_anon_data(filename):\n",
    "    filepath = \"../output/marital-status/\"\n",
    "    filepath += filename\n",
    "    dataset = pd.read_csv(filepath, sep=r'\\s*,\\s*', na_values=\"*\", engine='python', index_col=False)\n",
    "    return dataset"
   ]
  },
  {
   "cell_type": "code",
   "execution_count": 4,
   "metadata": {},
   "outputs": [
    {
     "data": {
      "text/html": [
       "<div>\n",
       "<style scoped>\n",
       "    .dataframe tbody tr th:only-of-type {\n",
       "        vertical-align: middle;\n",
       "    }\n",
       "\n",
       "    .dataframe tbody tr th {\n",
       "        vertical-align: top;\n",
       "    }\n",
       "\n",
       "    .dataframe thead th {\n",
       "        text-align: right;\n",
       "    }\n",
       "</style>\n",
       "<table border=\"1\" class=\"dataframe\">\n",
       "  <thead>\n",
       "    <tr style=\"text-align: right;\">\n",
       "      <th></th>\n",
       "      <th>age</th>\n",
       "      <th>education-num</th>\n",
       "      <th>capital-gain</th>\n",
       "      <th>capital-loss</th>\n",
       "      <th>hours-per-week</th>\n",
       "      <th>workclass</th>\n",
       "      <th>native-country</th>\n",
       "      <th>sex</th>\n",
       "      <th>race</th>\n",
       "      <th>relationship</th>\n",
       "      <th>occupation</th>\n",
       "      <th>income</th>\n",
       "      <th>marital-status</th>\n",
       "    </tr>\n",
       "  </thead>\n",
       "  <tbody>\n",
       "    <tr>\n",
       "      <th>0</th>\n",
       "      <td>[22 - 55]</td>\n",
       "      <td>[9 - 13]</td>\n",
       "      <td>[0 - 2174]</td>\n",
       "      <td>0</td>\n",
       "      <td>[37 - 47]</td>\n",
       "      <td>State-gov</td>\n",
       "      <td>United-States</td>\n",
       "      <td>Male</td>\n",
       "      <td>White</td>\n",
       "      <td>Not-in-family</td>\n",
       "      <td>Adm-clerical</td>\n",
       "      <td>&lt;=50K</td>\n",
       "      <td>Never-married</td>\n",
       "    </tr>\n",
       "    <tr>\n",
       "      <th>1</th>\n",
       "      <td>[22 - 55]</td>\n",
       "      <td>[9 - 13]</td>\n",
       "      <td>[0 - 2174]</td>\n",
       "      <td>0</td>\n",
       "      <td>[37 - 47]</td>\n",
       "      <td>State-gov</td>\n",
       "      <td>United-States</td>\n",
       "      <td>Male</td>\n",
       "      <td>White</td>\n",
       "      <td>Not-in-family</td>\n",
       "      <td>Adm-clerical</td>\n",
       "      <td>&lt;=50K</td>\n",
       "      <td>Never-married</td>\n",
       "    </tr>\n",
       "    <tr>\n",
       "      <th>2</th>\n",
       "      <td>[22 - 55]</td>\n",
       "      <td>[9 - 13]</td>\n",
       "      <td>[0 - 2174]</td>\n",
       "      <td>0</td>\n",
       "      <td>[37 - 47]</td>\n",
       "      <td>State-gov</td>\n",
       "      <td>United-States</td>\n",
       "      <td>Male</td>\n",
       "      <td>White</td>\n",
       "      <td>Not-in-family</td>\n",
       "      <td>Adm-clerical</td>\n",
       "      <td>&lt;=50K</td>\n",
       "      <td>Divorced</td>\n",
       "    </tr>\n",
       "    <tr>\n",
       "      <th>3</th>\n",
       "      <td>[22 - 55]</td>\n",
       "      <td>[9 - 13]</td>\n",
       "      <td>[0 - 2174]</td>\n",
       "      <td>0</td>\n",
       "      <td>[37 - 47]</td>\n",
       "      <td>State-gov</td>\n",
       "      <td>United-States</td>\n",
       "      <td>Male</td>\n",
       "      <td>White</td>\n",
       "      <td>Not-in-family</td>\n",
       "      <td>Adm-clerical</td>\n",
       "      <td>&lt;=50K</td>\n",
       "      <td>Never-married</td>\n",
       "    </tr>\n",
       "    <tr>\n",
       "      <th>4</th>\n",
       "      <td>[22 - 55]</td>\n",
       "      <td>[9 - 13]</td>\n",
       "      <td>[0 - 2174]</td>\n",
       "      <td>0</td>\n",
       "      <td>[37 - 47]</td>\n",
       "      <td>State-gov</td>\n",
       "      <td>United-States</td>\n",
       "      <td>Male</td>\n",
       "      <td>White</td>\n",
       "      <td>Not-in-family</td>\n",
       "      <td>Adm-clerical</td>\n",
       "      <td>&lt;=50K</td>\n",
       "      <td>Never-married</td>\n",
       "    </tr>\n",
       "  </tbody>\n",
       "</table>\n",
       "</div>"
      ],
      "text/plain": [
       "         age education-num capital-gain capital-loss hours-per-week  \\\n",
       "0  [22 - 55]      [9 - 13]   [0 - 2174]            0      [37 - 47]   \n",
       "1  [22 - 55]      [9 - 13]   [0 - 2174]            0      [37 - 47]   \n",
       "2  [22 - 55]      [9 - 13]   [0 - 2174]            0      [37 - 47]   \n",
       "3  [22 - 55]      [9 - 13]   [0 - 2174]            0      [37 - 47]   \n",
       "4  [22 - 55]      [9 - 13]   [0 - 2174]            0      [37 - 47]   \n",
       "\n",
       "   workclass native-country   sex   race   relationship    occupation income  \\\n",
       "0  State-gov  United-States  Male  White  Not-in-family  Adm-clerical  <=50K   \n",
       "1  State-gov  United-States  Male  White  Not-in-family  Adm-clerical  <=50K   \n",
       "2  State-gov  United-States  Male  White  Not-in-family  Adm-clerical  <=50K   \n",
       "3  State-gov  United-States  Male  White  Not-in-family  Adm-clerical  <=50K   \n",
       "4  State-gov  United-States  Male  White  Not-in-family  Adm-clerical  <=50K   \n",
       "\n",
       "  marital-status  \n",
       "0  Never-married  \n",
       "1  Never-married  \n",
       "2       Divorced  \n",
       "3  Never-married  \n",
       "4  Never-married  "
      ]
     },
     "execution_count": 4,
     "metadata": {},
     "output_type": "execute_result"
    }
   ],
   "source": [
    "dataset = read_anon_data(\"anonymized_equal_weights_k_15.csv\")\n",
    "dataset.head()"
   ]
  },
  {
   "cell_type": "code",
   "execution_count": 5,
   "metadata": {},
   "outputs": [],
   "source": [
    "# Preprocessing\n",
    "def number_encode_features(ds):\n",
    "    result = ds.copy()\n",
    "    encoders = {}\n",
    "    for feature in result.columns:\n",
    "        if result.dtypes[feature] == np.object:\n",
    "            encoders[feature] = preprocessing.LabelEncoder()\n",
    "            result[feature] = encoders[feature].fit_transform(result[feature].astype(str))\n",
    "    return result, encoders\n",
    "\n",
    "dataset_encoded, encoders = number_encode_features(dataset)"
   ]
  },
  {
   "cell_type": "code",
   "execution_count": 6,
   "metadata": {},
   "outputs": [],
   "source": [
    "# Target will be 'marital-status'\n",
    "y = dataset_encoded['marital-status']\n",
    "X = dataset_encoded.drop('marital-status', axis=1)"
   ]
  },
  {
   "cell_type": "code",
   "execution_count": 10,
   "metadata": {},
   "outputs": [],
   "source": [
    "# Scoring\n",
    "def f1_micro(clf, X, y):\n",
    "    # cross validation scores on number encoded data\n",
    "    scores = model_selection.cross_val_score(clf, X, y, cv=10, scoring='f1_micro')\n",
    "    print(\"F1 score (number encoded data): %0.2f (+/- %0.2f)\" \n",
    "          % (scores.mean(), scores.std() * 2))"
   ]
  },
  {
   "cell_type": "code",
   "execution_count": 11,
   "metadata": {},
   "outputs": [],
   "source": [
    "# Gradient Boosting\n",
    "clf = GradientBoosting(random_state=0)"
   ]
  },
  {
   "cell_type": "code",
   "execution_count": 12,
   "metadata": {},
   "outputs": [
    {
     "name": "stdout",
     "output_type": "stream",
     "text": [
      "F1 score (number encoded data): 0.78 (+/- 0.06)\n"
     ]
    }
   ],
   "source": [
    "f1_micro(clf, X, y)"
   ]
  },
  {
   "cell_type": "code",
   "execution_count": 13,
   "metadata": {},
   "outputs": [],
   "source": [
    "# Linear SVC\n",
    "clf = LinearSVC(random_state=0)"
   ]
  },
  {
   "cell_type": "code",
   "execution_count": 14,
   "metadata": {},
   "outputs": [
    {
     "name": "stdout",
     "output_type": "stream",
     "text": [
      "F1 score (number encoded data): 0.48 (+/- 0.27)\n"
     ]
    }
   ],
   "source": [
    "f1_micro(clf, X, y)"
   ]
  },
  {
   "cell_type": "code",
   "execution_count": 15,
   "metadata": {},
   "outputs": [],
   "source": [
    "clf = LogisticRegression(random_state=0)"
   ]
  },
  {
   "cell_type": "code",
   "execution_count": 16,
   "metadata": {},
   "outputs": [
    {
     "name": "stdout",
     "output_type": "stream",
     "text": [
      "F1 score (number encoded data): 0.68 (+/- 0.05)\n"
     ]
    }
   ],
   "source": [
    "f1_micro(clf, X, y)"
   ]
  },
  {
   "cell_type": "code",
   "execution_count": 17,
   "metadata": {},
   "outputs": [],
   "source": [
    "clf = RandomForest(random_state=0)"
   ]
  },
  {
   "cell_type": "code",
   "execution_count": 18,
   "metadata": {},
   "outputs": [
    {
     "name": "stdout",
     "output_type": "stream",
     "text": [
      "F1 score (number encoded data): 0.69 (+/- 0.09)\n"
     ]
    }
   ],
   "source": [
    "f1_micro(clf, X, y)"
   ]
  }
 ],
 "metadata": {
  "kernelspec": {
   "display_name": "Python 3",
   "language": "python",
   "name": "python3"
  },
  "language_info": {
   "codemirror_mode": {
    "name": "ipython",
    "version": 3
   },
   "file_extension": ".py",
   "mimetype": "text/x-python",
   "name": "python",
   "nbconvert_exporter": "python",
   "pygments_lexer": "ipython3",
   "version": "3.7.0"
  }
 },
 "nbformat": 4,
 "nbformat_minor": 2
}
