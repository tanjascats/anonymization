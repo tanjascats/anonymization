{
 "cells": [
  {
   "cell_type": "code",
   "execution_count": 1,
   "metadata": {},
   "outputs": [],
   "source": [
    "# This notebook is only for storing the results for Linear SVC (that uses binary features which take up a lot of memory)\n",
    "import pandas as pd\n",
    "import matplotlib.pyplot as plt\n",
    "import math\n",
    "import numpy as np\n",
    "import pickle\n",
    "import os.path\n",
    "\n",
    "from sklearn import metrics, preprocessing, model_selection\n",
    "from sklearn.svm import LinearSVC"
   ]
  },
  {
   "cell_type": "code",
   "execution_count": 2,
   "metadata": {},
   "outputs": [],
   "source": [
    "def read_anon_data(filename):\n",
    "    filepath = \"../output/marital-status/\"\n",
    "    filepath += filename\n",
    "    dataset = pd.read_csv(filepath, sep=r'\\s*,\\s*', na_values=\"*\", engine='python', index_col=False)\n",
    "    return dataset"
   ]
  },
  {
   "cell_type": "code",
   "execution_count": 3,
   "metadata": {},
   "outputs": [],
   "source": [
    "k = 3"
   ]
  },
  {
   "cell_type": "code",
   "execution_count": 4,
   "metadata": {},
   "outputs": [
    {
     "data": {
      "text/html": [
       "<div>\n",
       "<style scoped>\n",
       "    .dataframe tbody tr th:only-of-type {\n",
       "        vertical-align: middle;\n",
       "    }\n",
       "\n",
       "    .dataframe tbody tr th {\n",
       "        vertical-align: top;\n",
       "    }\n",
       "\n",
       "    .dataframe thead th {\n",
       "        text-align: right;\n",
       "    }\n",
       "</style>\n",
       "<table border=\"1\" class=\"dataframe\">\n",
       "  <thead>\n",
       "    <tr style=\"text-align: right;\">\n",
       "      <th></th>\n",
       "      <th>age</th>\n",
       "      <th>education-num</th>\n",
       "      <th>capital-gain</th>\n",
       "      <th>capital-loss</th>\n",
       "      <th>hours-per-week</th>\n",
       "      <th>workclass</th>\n",
       "      <th>native-country</th>\n",
       "      <th>sex</th>\n",
       "      <th>race</th>\n",
       "      <th>relationship</th>\n",
       "      <th>occupation</th>\n",
       "      <th>income</th>\n",
       "      <th>marital-status</th>\n",
       "    </tr>\n",
       "  </thead>\n",
       "  <tbody>\n",
       "    <tr>\n",
       "      <th>0</th>\n",
       "      <td>[39 - 42]</td>\n",
       "      <td>13</td>\n",
       "      <td>[0 - 2174]</td>\n",
       "      <td>0</td>\n",
       "      <td>40</td>\n",
       "      <td>State-gov</td>\n",
       "      <td>United-States</td>\n",
       "      <td>Male</td>\n",
       "      <td>White</td>\n",
       "      <td>Not-in-family</td>\n",
       "      <td>Adm-clerical</td>\n",
       "      <td>&lt;=50K</td>\n",
       "      <td>Never-married</td>\n",
       "    </tr>\n",
       "    <tr>\n",
       "      <th>1</th>\n",
       "      <td>[39 - 42]</td>\n",
       "      <td>13</td>\n",
       "      <td>[0 - 2174]</td>\n",
       "      <td>0</td>\n",
       "      <td>40</td>\n",
       "      <td>State-gov</td>\n",
       "      <td>United-States</td>\n",
       "      <td>Male</td>\n",
       "      <td>White</td>\n",
       "      <td>Not-in-family</td>\n",
       "      <td>Adm-clerical</td>\n",
       "      <td>&lt;=50K</td>\n",
       "      <td>Never-married</td>\n",
       "    </tr>\n",
       "    <tr>\n",
       "      <th>2</th>\n",
       "      <td>[39 - 42]</td>\n",
       "      <td>13</td>\n",
       "      <td>[0 - 2174]</td>\n",
       "      <td>0</td>\n",
       "      <td>40</td>\n",
       "      <td>State-gov</td>\n",
       "      <td>United-States</td>\n",
       "      <td>Male</td>\n",
       "      <td>White</td>\n",
       "      <td>Not-in-family</td>\n",
       "      <td>Adm-clerical</td>\n",
       "      <td>&lt;=50K</td>\n",
       "      <td>Divorced</td>\n",
       "    </tr>\n",
       "    <tr>\n",
       "      <th>3</th>\n",
       "      <td>[47 - 51]</td>\n",
       "      <td>13</td>\n",
       "      <td>0</td>\n",
       "      <td>0</td>\n",
       "      <td>[13 - 30]</td>\n",
       "      <td>Self-emp-not-inc</td>\n",
       "      <td>United-States</td>\n",
       "      <td>Male</td>\n",
       "      <td>White</td>\n",
       "      <td>Husband</td>\n",
       "      <td>Exec-managerial</td>\n",
       "      <td>&lt;=50K</td>\n",
       "      <td>Married-civ-spouse</td>\n",
       "    </tr>\n",
       "    <tr>\n",
       "      <th>4</th>\n",
       "      <td>[47 - 51]</td>\n",
       "      <td>13</td>\n",
       "      <td>0</td>\n",
       "      <td>0</td>\n",
       "      <td>[13 - 30]</td>\n",
       "      <td>Self-emp-not-inc</td>\n",
       "      <td>United-States</td>\n",
       "      <td>Male</td>\n",
       "      <td>White</td>\n",
       "      <td>Husband</td>\n",
       "      <td>Exec-managerial</td>\n",
       "      <td>&lt;=50K</td>\n",
       "      <td>Married-civ-spouse</td>\n",
       "    </tr>\n",
       "  </tbody>\n",
       "</table>\n",
       "</div>"
      ],
      "text/plain": [
       "         age education-num capital-gain capital-loss hours-per-week  \\\n",
       "0  [39 - 42]            13   [0 - 2174]            0             40   \n",
       "1  [39 - 42]            13   [0 - 2174]            0             40   \n",
       "2  [39 - 42]            13   [0 - 2174]            0             40   \n",
       "3  [47 - 51]            13            0            0      [13 - 30]   \n",
       "4  [47 - 51]            13            0            0      [13 - 30]   \n",
       "\n",
       "          workclass native-country   sex   race   relationship  \\\n",
       "0         State-gov  United-States  Male  White  Not-in-family   \n",
       "1         State-gov  United-States  Male  White  Not-in-family   \n",
       "2         State-gov  United-States  Male  White  Not-in-family   \n",
       "3  Self-emp-not-inc  United-States  Male  White        Husband   \n",
       "4  Self-emp-not-inc  United-States  Male  White        Husband   \n",
       "\n",
       "        occupation income      marital-status  \n",
       "0     Adm-clerical  <=50K       Never-married  \n",
       "1     Adm-clerical  <=50K       Never-married  \n",
       "2     Adm-clerical  <=50K            Divorced  \n",
       "3  Exec-managerial  <=50K  Married-civ-spouse  \n",
       "4  Exec-managerial  <=50K  Married-civ-spouse  "
      ]
     },
     "execution_count": 4,
     "metadata": {},
     "output_type": "execute_result"
    }
   ],
   "source": [
    "dataset = read_anon_data(\"anonymized_equal_weights_k_\" + str(k) + \".csv\")\n",
    "dataset.head()"
   ]
  },
  {
   "cell_type": "code",
   "execution_count": 5,
   "metadata": {},
   "outputs": [],
   "source": [
    "# Scoring\n",
    "def f1_micro(clf, X, y):\n",
    "    # cross validation scores on number encoded data\n",
    "    scores = model_selection.cross_val_score(clf, X, y, cv=10, scoring='f1_micro')\n",
    "    print(\"F1 score: %0.2f (+/- %0.2f)\" \n",
    "          % (scores.mean(), scores.std() * 2))\n",
    "    return scores.mean()"
   ]
  },
  {
   "cell_type": "code",
   "execution_count": 6,
   "metadata": {},
   "outputs": [],
   "source": [
    "# Linear SVC - binary attributes needed\n",
    "clf = LinearSVC(random_state=0)"
   ]
  },
  {
   "cell_type": "code",
   "execution_count": 7,
   "metadata": {},
   "outputs": [
    {
     "data": {
      "text/html": [
       "<div>\n",
       "<style scoped>\n",
       "    .dataframe tbody tr th:only-of-type {\n",
       "        vertical-align: middle;\n",
       "    }\n",
       "\n",
       "    .dataframe tbody tr th {\n",
       "        vertical-align: top;\n",
       "    }\n",
       "\n",
       "    .dataframe thead th {\n",
       "        text-align: right;\n",
       "    }\n",
       "</style>\n",
       "<table border=\"1\" class=\"dataframe\">\n",
       "  <thead>\n",
       "    <tr style=\"text-align: right;\">\n",
       "      <th></th>\n",
       "      <th>age</th>\n",
       "      <th>education-num</th>\n",
       "      <th>capital-gain</th>\n",
       "      <th>capital-loss</th>\n",
       "      <th>hours-per-week</th>\n",
       "      <th>workclass</th>\n",
       "      <th>native-country</th>\n",
       "      <th>sex</th>\n",
       "      <th>race</th>\n",
       "      <th>relationship</th>\n",
       "      <th>occupation</th>\n",
       "      <th>income</th>\n",
       "    </tr>\n",
       "  </thead>\n",
       "  <tbody>\n",
       "    <tr>\n",
       "      <th>0</th>\n",
       "      <td>[39 - 42]</td>\n",
       "      <td>13</td>\n",
       "      <td>[0 - 2174]</td>\n",
       "      <td>0</td>\n",
       "      <td>40</td>\n",
       "      <td>State-gov</td>\n",
       "      <td>United-States</td>\n",
       "      <td>Male</td>\n",
       "      <td>White</td>\n",
       "      <td>Not-in-family</td>\n",
       "      <td>Adm-clerical</td>\n",
       "      <td>&lt;=50K</td>\n",
       "    </tr>\n",
       "    <tr>\n",
       "      <th>1</th>\n",
       "      <td>[39 - 42]</td>\n",
       "      <td>13</td>\n",
       "      <td>[0 - 2174]</td>\n",
       "      <td>0</td>\n",
       "      <td>40</td>\n",
       "      <td>State-gov</td>\n",
       "      <td>United-States</td>\n",
       "      <td>Male</td>\n",
       "      <td>White</td>\n",
       "      <td>Not-in-family</td>\n",
       "      <td>Adm-clerical</td>\n",
       "      <td>&lt;=50K</td>\n",
       "    </tr>\n",
       "    <tr>\n",
       "      <th>2</th>\n",
       "      <td>[39 - 42]</td>\n",
       "      <td>13</td>\n",
       "      <td>[0 - 2174]</td>\n",
       "      <td>0</td>\n",
       "      <td>40</td>\n",
       "      <td>State-gov</td>\n",
       "      <td>United-States</td>\n",
       "      <td>Male</td>\n",
       "      <td>White</td>\n",
       "      <td>Not-in-family</td>\n",
       "      <td>Adm-clerical</td>\n",
       "      <td>&lt;=50K</td>\n",
       "    </tr>\n",
       "    <tr>\n",
       "      <th>3</th>\n",
       "      <td>[47 - 51]</td>\n",
       "      <td>13</td>\n",
       "      <td>0</td>\n",
       "      <td>0</td>\n",
       "      <td>[13 - 30]</td>\n",
       "      <td>Self-emp-not-inc</td>\n",
       "      <td>United-States</td>\n",
       "      <td>Male</td>\n",
       "      <td>White</td>\n",
       "      <td>Husband</td>\n",
       "      <td>Exec-managerial</td>\n",
       "      <td>&lt;=50K</td>\n",
       "    </tr>\n",
       "    <tr>\n",
       "      <th>4</th>\n",
       "      <td>[47 - 51]</td>\n",
       "      <td>13</td>\n",
       "      <td>0</td>\n",
       "      <td>0</td>\n",
       "      <td>[13 - 30]</td>\n",
       "      <td>Self-emp-not-inc</td>\n",
       "      <td>United-States</td>\n",
       "      <td>Male</td>\n",
       "      <td>White</td>\n",
       "      <td>Husband</td>\n",
       "      <td>Exec-managerial</td>\n",
       "      <td>&lt;=50K</td>\n",
       "    </tr>\n",
       "  </tbody>\n",
       "</table>\n",
       "</div>"
      ],
      "text/plain": [
       "         age education-num capital-gain capital-loss hours-per-week  \\\n",
       "0  [39 - 42]            13   [0 - 2174]            0             40   \n",
       "1  [39 - 42]            13   [0 - 2174]            0             40   \n",
       "2  [39 - 42]            13   [0 - 2174]            0             40   \n",
       "3  [47 - 51]            13            0            0      [13 - 30]   \n",
       "4  [47 - 51]            13            0            0      [13 - 30]   \n",
       "\n",
       "          workclass native-country   sex   race   relationship  \\\n",
       "0         State-gov  United-States  Male  White  Not-in-family   \n",
       "1         State-gov  United-States  Male  White  Not-in-family   \n",
       "2         State-gov  United-States  Male  White  Not-in-family   \n",
       "3  Self-emp-not-inc  United-States  Male  White        Husband   \n",
       "4  Self-emp-not-inc  United-States  Male  White        Husband   \n",
       "\n",
       "        occupation income  \n",
       "0     Adm-clerical  <=50K  \n",
       "1     Adm-clerical  <=50K  \n",
       "2     Adm-clerical  <=50K  \n",
       "3  Exec-managerial  <=50K  \n",
       "4  Exec-managerial  <=50K  "
      ]
     },
     "execution_count": 7,
     "metadata": {},
     "output_type": "execute_result"
    }
   ],
   "source": [
    "# we can try with binary encoded features\n",
    "# Target will be 'marital-status'\n",
    "y = dataset['marital-status']\n",
    "X = dataset.drop('marital-status', axis=1)\n",
    "X.head()"
   ]
  },
  {
   "cell_type": "code",
   "execution_count": 8,
   "metadata": {
    "scrolled": true
   },
   "outputs": [
    {
     "data": {
      "text/plain": [
       "(30162, 2732)"
      ]
     },
     "execution_count": 8,
     "metadata": {},
     "output_type": "execute_result"
    }
   ],
   "source": [
    "X = pd.get_dummies(X)\n",
    "X.shape"
   ]
  },
  {
   "cell_type": "code",
   "execution_count": 9,
   "metadata": {},
   "outputs": [
    {
     "name": "stdout",
     "output_type": "stream",
     "text": [
      "F1 score: 0.80 (+/- 0.03)\n"
     ]
    }
   ],
   "source": [
    "score = f1_micro(clf, X, y)"
   ]
  },
  {
   "cell_type": "code",
   "execution_count": 10,
   "metadata": {},
   "outputs": [],
   "source": [
    "# unpickle\n",
    "file_path = '../output/marital-status/classification-res/adult_multiclass_k' + str(k)\n",
    "if os.path.exists(file_path):\n",
    "    infile = open(file_path, 'rb')\n",
    "    scores = pickle.load(infile)\n",
    "    infile.close()\n",
    "else:\n",
    "    scores = {}"
   ]
  },
  {
   "cell_type": "code",
   "execution_count": 11,
   "metadata": {},
   "outputs": [],
   "source": [
    "# add LinearSVC score\n",
    "scores['Linear SVC'] = score"
   ]
  },
  {
   "cell_type": "code",
   "execution_count": 12,
   "metadata": {},
   "outputs": [],
   "source": [
    "# pickle\n",
    "filename = '../output/marital-status/classification-res/adult_multiclass_k' + str(k)\n",
    "outfile = open(filename,'wb')\n",
    "pickle.dump(scores, outfile)\n",
    "outfile.close()"
   ]
  }
 ],
 "metadata": {
  "kernelspec": {
   "display_name": "Python 3",
   "language": "python",
   "name": "python3"
  },
  "language_info": {
   "codemirror_mode": {
    "name": "ipython",
    "version": 3
   },
   "file_extension": ".py",
   "mimetype": "text/x-python",
   "name": "python",
   "nbconvert_exporter": "python",
   "pygments_lexer": "ipython3",
   "version": "3.7.0"
  }
 },
 "nbformat": 4,
 "nbformat_minor": 2
}
