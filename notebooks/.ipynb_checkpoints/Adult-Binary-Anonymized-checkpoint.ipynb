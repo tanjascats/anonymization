{
 "cells": [
  {
   "cell_type": "code",
   "execution_count": 2,
   "metadata": {},
   "outputs": [],
   "source": [
    "# This is a binary classification of anonymized Adult datasets on target 'income' for 4 classifiers:\n",
    "# Gradient Boosting\n",
    "# Linear SVC\n",
    "# Logistic Regression\n",
    "# Random Forest\n",
    "# k = {3, 7, 11, 15, 19}"
   ]
  },
  {
   "cell_type": "code",
   "execution_count": 3,
   "metadata": {},
   "outputs": [
    {
     "name": "stderr",
     "output_type": "stream",
     "text": [
      "c:\\users\\tsarcevic\\appdata\\local\\programs\\python\\python37-32\\lib\\site-packages\\sklearn\\ensemble\\weight_boosting.py:29: DeprecationWarning: numpy.core.umath_tests is an internal NumPy module and should not be imported. It will be removed in a future NumPy release.\n",
      "  from numpy.core.umath_tests import inner1d\n"
     ]
    }
   ],
   "source": [
    "import pandas as pd\n",
    "import matplotlib.pyplot as plt\n",
    "import math\n",
    "import numpy as np\n",
    "\n",
    "import warnings\n",
    "warnings.filterwarnings(\"ignore\", category=DeprecationWarning) \n",
    "\n",
    "from sklearn import metrics, preprocessing, model_selection\n",
    "from sklearn.ensemble import GradientBoostingClassifier as GradientBoosting, RandomForestClassifier as RandomForest\n",
    "from sklearn.svm import LinearSVC\n",
    "from sklearn.linear_model import LogisticRegression"
   ]
  },
  {
   "cell_type": "code",
   "execution_count": 4,
   "metadata": {},
   "outputs": [],
   "source": [
    "def read_anon_data(filename):\n",
    "    filepath = \"../original_algorithm/output/\"\n",
    "    filepath += filename\n",
    "    dataset = pd.read_csv(filepath, sep=r'\\s*,\\s*', na_values=\"*\", engine='python', index_col=False)\n",
    "    return dataset"
   ]
  },
  {
   "cell_type": "code",
   "execution_count": 4,
   "metadata": {},
   "outputs": [
    {
     "data": {
      "text/html": [
       "<div>\n",
       "<style scoped>\n",
       "    .dataframe tbody tr th:only-of-type {\n",
       "        vertical-align: middle;\n",
       "    }\n",
       "\n",
       "    .dataframe tbody tr th {\n",
       "        vertical-align: top;\n",
       "    }\n",
       "\n",
       "    .dataframe thead th {\n",
       "        text-align: right;\n",
       "    }\n",
       "</style>\n",
       "<table border=\"1\" class=\"dataframe\">\n",
       "  <thead>\n",
       "    <tr style=\"text-align: right;\">\n",
       "      <th></th>\n",
       "      <th>age</th>\n",
       "      <th>education-num</th>\n",
       "      <th>capital-gain</th>\n",
       "      <th>capital-loss</th>\n",
       "      <th>hours-per-week</th>\n",
       "      <th>workclass</th>\n",
       "      <th>native-country</th>\n",
       "      <th>sex</th>\n",
       "      <th>race</th>\n",
       "      <th>relationship</th>\n",
       "      <th>occupation</th>\n",
       "      <th>marital-status</th>\n",
       "      <th>income</th>\n",
       "    </tr>\n",
       "  </thead>\n",
       "  <tbody>\n",
       "    <tr>\n",
       "      <th>0</th>\n",
       "      <td>[39 - 44]</td>\n",
       "      <td>13</td>\n",
       "      <td>[0 - 2174]</td>\n",
       "      <td>0</td>\n",
       "      <td>40</td>\n",
       "      <td>State-gov</td>\n",
       "      <td>United-States</td>\n",
       "      <td>Male</td>\n",
       "      <td>White</td>\n",
       "      <td>Not-in-family</td>\n",
       "      <td>Adm-clerical</td>\n",
       "      <td>Never-married</td>\n",
       "      <td>&lt;=50K</td>\n",
       "    </tr>\n",
       "    <tr>\n",
       "      <th>1</th>\n",
       "      <td>[39 - 44]</td>\n",
       "      <td>13</td>\n",
       "      <td>[0 - 2174]</td>\n",
       "      <td>0</td>\n",
       "      <td>40</td>\n",
       "      <td>State-gov</td>\n",
       "      <td>United-States</td>\n",
       "      <td>Male</td>\n",
       "      <td>White</td>\n",
       "      <td>Not-in-family</td>\n",
       "      <td>Adm-clerical</td>\n",
       "      <td>Never-married</td>\n",
       "      <td>&lt;=50K</td>\n",
       "    </tr>\n",
       "    <tr>\n",
       "      <th>2</th>\n",
       "      <td>[39 - 44]</td>\n",
       "      <td>13</td>\n",
       "      <td>[0 - 2174]</td>\n",
       "      <td>0</td>\n",
       "      <td>40</td>\n",
       "      <td>State-gov</td>\n",
       "      <td>United-States</td>\n",
       "      <td>Male</td>\n",
       "      <td>White</td>\n",
       "      <td>Not-in-family</td>\n",
       "      <td>Adm-clerical</td>\n",
       "      <td>Never-married</td>\n",
       "      <td>&lt;=50K</td>\n",
       "    </tr>\n",
       "    <tr>\n",
       "      <th>3</th>\n",
       "      <td>[50 - 56]</td>\n",
       "      <td>13</td>\n",
       "      <td>0</td>\n",
       "      <td>0</td>\n",
       "      <td>[13 - 25]</td>\n",
       "      <td>Self-emp-not-inc</td>\n",
       "      <td>United-States</td>\n",
       "      <td>Male</td>\n",
       "      <td>White</td>\n",
       "      <td>Husband</td>\n",
       "      <td>Exec-managerial</td>\n",
       "      <td>Married-civ-spouse</td>\n",
       "      <td>&lt;=50K</td>\n",
       "    </tr>\n",
       "    <tr>\n",
       "      <th>4</th>\n",
       "      <td>[50 - 56]</td>\n",
       "      <td>13</td>\n",
       "      <td>0</td>\n",
       "      <td>0</td>\n",
       "      <td>[13 - 25]</td>\n",
       "      <td>Self-emp-not-inc</td>\n",
       "      <td>United-States</td>\n",
       "      <td>Male</td>\n",
       "      <td>White</td>\n",
       "      <td>Husband</td>\n",
       "      <td>Exec-managerial</td>\n",
       "      <td>Married-civ-spouse</td>\n",
       "      <td>&lt;=50K</td>\n",
       "    </tr>\n",
       "  </tbody>\n",
       "</table>\n",
       "</div>"
      ],
      "text/plain": [
       "         age education-num capital-gain capital-loss hours-per-week  \\\n",
       "0  [39 - 44]            13   [0 - 2174]            0             40   \n",
       "1  [39 - 44]            13   [0 - 2174]            0             40   \n",
       "2  [39 - 44]            13   [0 - 2174]            0             40   \n",
       "3  [50 - 56]            13            0            0      [13 - 25]   \n",
       "4  [50 - 56]            13            0            0      [13 - 25]   \n",
       "\n",
       "          workclass native-country   sex   race   relationship  \\\n",
       "0         State-gov  United-States  Male  White  Not-in-family   \n",
       "1         State-gov  United-States  Male  White  Not-in-family   \n",
       "2         State-gov  United-States  Male  White  Not-in-family   \n",
       "3  Self-emp-not-inc  United-States  Male  White        Husband   \n",
       "4  Self-emp-not-inc  United-States  Male  White        Husband   \n",
       "\n",
       "        occupation      marital-status income  \n",
       "0     Adm-clerical       Never-married  <=50K  \n",
       "1     Adm-clerical       Never-married  <=50K  \n",
       "2     Adm-clerical       Never-married  <=50K  \n",
       "3  Exec-managerial  Married-civ-spouse  <=50K  \n",
       "4  Exec-managerial  Married-civ-spouse  <=50K  "
      ]
     },
     "execution_count": 4,
     "metadata": {},
     "output_type": "execute_result"
    }
   ],
   "source": [
    "dataset = read_anon_data(\"anonymized_equal_weights_k_3.csv\")\n",
    "dataset.head()"
   ]
  },
  {
   "cell_type": "code",
   "execution_count": 5,
   "metadata": {},
   "outputs": [],
   "source": [
    "# Preprocessing\n",
    "def number_encode_features(ds):\n",
    "    result = ds.copy()\n",
    "    encoders = {}\n",
    "    for feature in result.columns:\n",
    "        if result.dtypes[feature] == np.object:\n",
    "            encoders[feature] = preprocessing.LabelEncoder()\n",
    "            result[feature] = encoders[feature].fit_transform(result[feature].astype(str))\n",
    "    return result, encoders\n",
    "\n",
    "dataset_encoded, encoders = number_encode_features(dataset)"
   ]
  },
  {
   "cell_type": "code",
   "execution_count": 6,
   "metadata": {},
   "outputs": [],
   "source": [
    "# Target will be 'income'\n",
    "y = dataset_encoded['income']\n",
    "X = dataset_encoded.drop('income', axis=1)"
   ]
  },
  {
   "cell_type": "markdown",
   "metadata": {},
   "source": [
    "## k = 3\n",
    "### Gradient Boosting\n",
    "\n",
    "Expected f1 score: 0.62"
   ]
  },
  {
   "cell_type": "code",
   "execution_count": 7,
   "metadata": {},
   "outputs": [],
   "source": [
    "# Gradient Boosting\n",
    "clf = GradientBoosting(random_state=0)"
   ]
  },
  {
   "cell_type": "code",
   "execution_count": 8,
   "metadata": {},
   "outputs": [
    {
     "name": "stdout",
     "output_type": "stream",
     "text": [
      "F1 score (number encoded data): 0.63 (+/- 0.03)\n"
     ]
    }
   ],
   "source": [
    "# cross validation scores on number encoded data\n",
    "scores = model_selection.cross_val_score(clf, X, y, cv=10, scoring='f1')\n",
    "print(\"F1 score (number encoded data): %0.2f (+/- %0.2f)\" \n",
    "      % (scores.mean(), scores.std() * 2))"
   ]
  },
  {
   "cell_type": "markdown",
   "metadata": {},
   "source": [
    "### Linear SVC\n",
    "\n",
    "Expected value: 0.59"
   ]
  },
  {
   "cell_type": "code",
   "execution_count": 9,
   "metadata": {},
   "outputs": [],
   "source": [
    "# Linear SVC\n",
    "clf = LinearSVC(random_state=0)"
   ]
  },
  {
   "cell_type": "code",
   "execution_count": 10,
   "metadata": {},
   "outputs": [
    {
     "name": "stderr",
     "output_type": "stream",
     "text": [
      "c:\\users\\tsarcevic\\appdata\\local\\programs\\python\\python37-32\\lib\\site-packages\\sklearn\\metrics\\classification.py:1135: UndefinedMetricWarning: F-score is ill-defined and being set to 0.0 due to no predicted samples.\n",
      "  'precision', 'predicted', average, warn_for)\n",
      "c:\\users\\tsarcevic\\appdata\\local\\programs\\python\\python37-32\\lib\\site-packages\\sklearn\\metrics\\classification.py:1135: UndefinedMetricWarning: F-score is ill-defined and being set to 0.0 due to no predicted samples.\n",
      "  'precision', 'predicted', average, warn_for)\n"
     ]
    },
    {
     "name": "stdout",
     "output_type": "stream",
     "text": [
      "F1 score: 0.30 (+/- 0.40)\n"
     ]
    }
   ],
   "source": [
    "# cross validation scores for number encoded data\n",
    "scores = model_selection.cross_val_score(clf, X, y, cv=10, scoring='f1')\n",
    "print(\"F1 score: %0.2f (+/- %0.2f)\" \n",
    "      % (scores.mean(), scores.std() * 2))"
   ]
  },
  {
   "cell_type": "markdown",
   "metadata": {},
   "source": [
    "### Logistic Regression\n",
    "\n",
    "Expected value: 0.59"
   ]
  },
  {
   "cell_type": "code",
   "execution_count": 11,
   "metadata": {},
   "outputs": [],
   "source": [
    "clf = LogisticRegression(random_state=0)"
   ]
  },
  {
   "cell_type": "code",
   "execution_count": 12,
   "metadata": {},
   "outputs": [
    {
     "name": "stdout",
     "output_type": "stream",
     "text": [
      "F1 score: 0.34 (+/- 0.04)\n"
     ]
    }
   ],
   "source": [
    "# cross validation scores for number encoded data\n",
    "scores = model_selection.cross_val_score(clf, X, y, cv=10, scoring='f1')\n",
    "print(\"F1 score: %0.2f (+/- %0.2f)\" \n",
    "      % (scores.mean(), scores.std() * 2))"
   ]
  },
  {
   "cell_type": "markdown",
   "metadata": {},
   "source": [
    "### Random Forest\n",
    "\n",
    "Expected value: 0.56"
   ]
  },
  {
   "cell_type": "code",
   "execution_count": 13,
   "metadata": {},
   "outputs": [],
   "source": [
    "clf = RandomForest(random_state=0)"
   ]
  },
  {
   "cell_type": "code",
   "execution_count": 14,
   "metadata": {},
   "outputs": [
    {
     "name": "stdout",
     "output_type": "stream",
     "text": [
      "F1 score: 0.58 (+/- 0.06)\n"
     ]
    }
   ],
   "source": [
    "# cross validation scores for number encoded data\n",
    "scores = model_selection.cross_val_score(clf, X, y, cv=10, scoring='f1')\n",
    "print(\"F1 score: %0.2f (+/- %0.2f)\" \n",
    "      % (scores.mean(), scores.std() * 2))"
   ]
  },
  {
   "cell_type": "markdown",
   "metadata": {},
   "source": [
    "## k=7"
   ]
  },
  {
   "cell_type": "code",
   "execution_count": 7,
   "metadata": {},
   "outputs": [
    {
     "data": {
      "text/html": [
       "<div>\n",
       "<style scoped>\n",
       "    .dataframe tbody tr th:only-of-type {\n",
       "        vertical-align: middle;\n",
       "    }\n",
       "\n",
       "    .dataframe tbody tr th {\n",
       "        vertical-align: top;\n",
       "    }\n",
       "\n",
       "    .dataframe thead th {\n",
       "        text-align: right;\n",
       "    }\n",
       "</style>\n",
       "<table border=\"1\" class=\"dataframe\">\n",
       "  <thead>\n",
       "    <tr style=\"text-align: right;\">\n",
       "      <th></th>\n",
       "      <th>age</th>\n",
       "      <th>education-num</th>\n",
       "      <th>capital-gain</th>\n",
       "      <th>capital-loss</th>\n",
       "      <th>hours-per-week</th>\n",
       "      <th>workclass</th>\n",
       "      <th>native-country</th>\n",
       "      <th>sex</th>\n",
       "      <th>race</th>\n",
       "      <th>relationship</th>\n",
       "      <th>occupation</th>\n",
       "      <th>marital-status</th>\n",
       "      <th>income</th>\n",
       "    </tr>\n",
       "  </thead>\n",
       "  <tbody>\n",
       "    <tr>\n",
       "      <th>0</th>\n",
       "      <td>[25 - 43]</td>\n",
       "      <td>[10 - 13]</td>\n",
       "      <td>[0 - 2174]</td>\n",
       "      <td>0</td>\n",
       "      <td>[25 - 60]</td>\n",
       "      <td>NaN</td>\n",
       "      <td>United-States</td>\n",
       "      <td>Male</td>\n",
       "      <td>White</td>\n",
       "      <td>Not-in-family</td>\n",
       "      <td>Other</td>\n",
       "      <td>Never-married</td>\n",
       "      <td>&lt;=50K</td>\n",
       "    </tr>\n",
       "    <tr>\n",
       "      <th>1</th>\n",
       "      <td>[25 - 43]</td>\n",
       "      <td>[10 - 13]</td>\n",
       "      <td>[0 - 2174]</td>\n",
       "      <td>0</td>\n",
       "      <td>[25 - 60]</td>\n",
       "      <td>NaN</td>\n",
       "      <td>United-States</td>\n",
       "      <td>Male</td>\n",
       "      <td>White</td>\n",
       "      <td>Not-in-family</td>\n",
       "      <td>Other</td>\n",
       "      <td>Never-married</td>\n",
       "      <td>&lt;=50K</td>\n",
       "    </tr>\n",
       "    <tr>\n",
       "      <th>2</th>\n",
       "      <td>[25 - 43]</td>\n",
       "      <td>[10 - 13]</td>\n",
       "      <td>[0 - 2174]</td>\n",
       "      <td>0</td>\n",
       "      <td>[25 - 60]</td>\n",
       "      <td>NaN</td>\n",
       "      <td>United-States</td>\n",
       "      <td>Male</td>\n",
       "      <td>White</td>\n",
       "      <td>Not-in-family</td>\n",
       "      <td>Other</td>\n",
       "      <td>Never-married</td>\n",
       "      <td>&lt;=50K</td>\n",
       "    </tr>\n",
       "    <tr>\n",
       "      <th>3</th>\n",
       "      <td>[25 - 43]</td>\n",
       "      <td>[10 - 13]</td>\n",
       "      <td>[0 - 2174]</td>\n",
       "      <td>0</td>\n",
       "      <td>[25 - 60]</td>\n",
       "      <td>NaN</td>\n",
       "      <td>United-States</td>\n",
       "      <td>Male</td>\n",
       "      <td>White</td>\n",
       "      <td>Not-in-family</td>\n",
       "      <td>Other</td>\n",
       "      <td>Never-married</td>\n",
       "      <td>&lt;=50K</td>\n",
       "    </tr>\n",
       "    <tr>\n",
       "      <th>4</th>\n",
       "      <td>[25 - 43]</td>\n",
       "      <td>[10 - 13]</td>\n",
       "      <td>[0 - 2174]</td>\n",
       "      <td>0</td>\n",
       "      <td>[25 - 60]</td>\n",
       "      <td>NaN</td>\n",
       "      <td>United-States</td>\n",
       "      <td>Male</td>\n",
       "      <td>White</td>\n",
       "      <td>Not-in-family</td>\n",
       "      <td>Other</td>\n",
       "      <td>Never-married</td>\n",
       "      <td>&lt;=50K</td>\n",
       "    </tr>\n",
       "  </tbody>\n",
       "</table>\n",
       "</div>"
      ],
      "text/plain": [
       "         age education-num capital-gain capital-loss hours-per-week workclass  \\\n",
       "0  [25 - 43]     [10 - 13]   [0 - 2174]            0      [25 - 60]       NaN   \n",
       "1  [25 - 43]     [10 - 13]   [0 - 2174]            0      [25 - 60]       NaN   \n",
       "2  [25 - 43]     [10 - 13]   [0 - 2174]            0      [25 - 60]       NaN   \n",
       "3  [25 - 43]     [10 - 13]   [0 - 2174]            0      [25 - 60]       NaN   \n",
       "4  [25 - 43]     [10 - 13]   [0 - 2174]            0      [25 - 60]       NaN   \n",
       "\n",
       "  native-country   sex   race   relationship occupation marital-status income  \n",
       "0  United-States  Male  White  Not-in-family      Other  Never-married  <=50K  \n",
       "1  United-States  Male  White  Not-in-family      Other  Never-married  <=50K  \n",
       "2  United-States  Male  White  Not-in-family      Other  Never-married  <=50K  \n",
       "3  United-States  Male  White  Not-in-family      Other  Never-married  <=50K  \n",
       "4  United-States  Male  White  Not-in-family      Other  Never-married  <=50K  "
      ]
     },
     "execution_count": 7,
     "metadata": {},
     "output_type": "execute_result"
    }
   ],
   "source": [
    "dataset = read_anon_data(\"anonymized_equal_weights_k_7.csv\")\n",
    "dataset.head()"
   ]
  },
  {
   "cell_type": "code",
   "execution_count": 8,
   "metadata": {},
   "outputs": [],
   "source": [
    "# Preprocessing\n",
    "def number_encode_features(ds):\n",
    "    result = ds.copy()\n",
    "    encoders = {}\n",
    "    for feature in result.columns:\n",
    "        if result.dtypes[feature] == np.object:\n",
    "            encoders[feature] = preprocessing.LabelEncoder()\n",
    "            result[feature] = encoders[feature].fit_transform(result[feature].astype(str))\n",
    "    return result, encoders\n",
    "\n",
    "dataset_encoded, encoders = number_encode_features(dataset)"
   ]
  },
  {
   "cell_type": "code",
   "execution_count": 9,
   "metadata": {},
   "outputs": [],
   "source": [
    "# Target will be 'income'\n",
    "y = dataset_encoded['income']\n",
    "X = dataset_encoded.drop('income', axis=1)"
   ]
  },
  {
   "cell_type": "markdown",
   "metadata": {},
   "source": [
    "### Gradient Boosting\n",
    "Expected f1 score: 0.57"
   ]
  },
  {
   "cell_type": "code",
   "execution_count": 10,
   "metadata": {},
   "outputs": [],
   "source": [
    "# Gradient Boosting\n",
    "clf = GradientBoosting(random_state=0)"
   ]
  },
  {
   "cell_type": "code",
   "execution_count": 11,
   "metadata": {},
   "outputs": [
    {
     "name": "stdout",
     "output_type": "stream",
     "text": [
      "F1 score (number encoded data): 0.44 (+/- 0.29)\n"
     ]
    }
   ],
   "source": [
    "# cross validation scores on number encoded data\n",
    "scores = model_selection.cross_val_score(clf, X, y, cv=10, scoring='f1')\n",
    "print(\"F1 score (number encoded data): %0.2f (+/- %0.2f)\" \n",
    "      % (scores.mean(), scores.std() * 2))"
   ]
  }
 ],
 "metadata": {
  "kernelspec": {
   "display_name": "Python 3",
   "language": "python",
   "name": "python3"
  },
  "language_info": {
   "codemirror_mode": {
    "name": "ipython",
    "version": 3
   },
   "file_extension": ".py",
   "mimetype": "text/x-python",
   "name": "python",
   "nbconvert_exporter": "python",
   "pygments_lexer": "ipython3",
   "version": "3.7.0"
  }
 },
 "nbformat": 4,
 "nbformat_minor": 2
}
