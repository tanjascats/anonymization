{
 "cells": [
  {
   "cell_type": "markdown",
   "metadata": {},
   "source": [
    "This notebook will compare results from paper to the ones obtained in the experiment, for every setting and classifier.\n",
    "\n",
    "Settings:\n",
    "<ol>\n",
    "    <li>target edu-num; Logistic regression; equal weights</li>\n",
    "    <li>target edu-num; Logistic regression; age preferred</li>\n",
    "    <li>target edu-num; Logistic regression; race preferred</li>\n",
    "    <li>target edu-num; Linear SVC; equal weights</li>\n",
    "    <li>target edu-num; Linear SVC; age preferres</li>\n",
    "    <li>target edu-num; Linear SVC; race preferred</li>\n",
    "    <li>target edu-num; Random Forest; equal weights</li>\n",
    "    <li>target edu-num; Random Forest; age preferres</li>\n",
    "    <li>target edu-num; Random Forest; race preferred</li>\n",
    "    <li>target edu-num; Gradient Boosting; equal weights</li>\n",
    "    <li>target edu-num; Gradient Boosting; age preferres</li>\n",
    "    <li>target edu-num; Gradient Boosting; race preferred</li>\n",
    "    <li>...</li>\n",
    "</ol>"
   ]
  },
  {
   "cell_type": "code",
   "execution_count": null,
   "metadata": {},
   "outputs": [],
   "source": [
    "# read the results from paper -> data/paper_results"
   ]
  },
  {
   "cell_type": "code",
   "execution_count": null,
   "metadata": {},
   "outputs": [],
   "source": [
    "# read experiment results -> output/classification-res (pic)"
   ]
  }
 ],
 "metadata": {
  "kernelspec": {
   "display_name": "Python 3",
   "language": "python",
   "name": "python3"
  },
  "language_info": {
   "codemirror_mode": {
    "name": "ipython",
    "version": 3
   },
   "file_extension": ".py",
   "mimetype": "text/x-python",
   "name": "python",
   "nbconvert_exporter": "python",
   "pygments_lexer": "ipython3",
   "version": "3.7.0"
  }
 },
 "nbformat": 4,
 "nbformat_minor": 2
}
