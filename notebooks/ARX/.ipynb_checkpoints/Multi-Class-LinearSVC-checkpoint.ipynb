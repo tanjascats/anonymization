{
 "cells": [
  {
   "cell_type": "markdown",
   "metadata": {},
   "source": [
    "# Multi-class Classification of Anonymized 'Adult' Dataset - Linear SVC"
   ]
  },
  {
   "cell_type": "markdown",
   "metadata": {},
   "source": [
    "## 1. Classification of 3-anonymous dataset using Linear SVC"
   ]
  },
  {
   "cell_type": "code",
   "execution_count": 2,
   "metadata": {},
   "outputs": [],
   "source": [
    "import pandas as pd\n",
    "import matplotlib.pyplot as plt\n",
    "import numpy as np\n",
    "import seaborn as sns\n",
    "import pickle\n",
    "from sklearn import metrics, preprocessing, model_selection\n",
    "from sklearn.svm import LinearSVC"
   ]
  },
  {
   "cell_type": "code",
   "execution_count": 3,
   "metadata": {},
   "outputs": [],
   "source": [
    "def read_anon_data(d, k, extension): # extension is optional\n",
    "    directory = \"../../data/ARX/\"\n",
    "    ext = \".csv\"\n",
    "    filepath = directory + d + \"/adult_k\" + str(k) + extension + ext\n",
    "    dataset = pd.read_csv(filepath, sep=r'\\s*,\\s*', engine='python')\n",
    "    return dataset"
   ]
  },
  {
   "cell_type": "code",
   "execution_count": 4,
   "metadata": {},
   "outputs": [],
   "source": [
    "def number_encode_features(ds):\n",
    "    result = ds.copy()\n",
    "    encoders = {}\n",
    "    for feature in result.columns:\n",
    "        if result.dtypes[feature] == np.object:\n",
    "            encoders[feature] = preprocessing.LabelEncoder()\n",
    "            result[feature] = encoders[feature].fit_transform(result[feature].astype(str))\n",
    "    return result, encoders"
   ]
  },
  {
   "cell_type": "code",
   "execution_count": 5,
   "metadata": {},
   "outputs": [],
   "source": [
    "scaler = preprocessing.StandardScaler()"
   ]
  },
  {
   "cell_type": "code",
   "execution_count": 6,
   "metadata": {},
   "outputs": [],
   "source": [
    "clf = LinearSVC()"
   ]
  },
  {
   "cell_type": "markdown",
   "metadata": {},
   "source": [
    "## 1.1. Partial anonymization on all attributes with defined hierarchies"
   ]
  },
  {
   "cell_type": "markdown",
   "metadata": {},
   "source": [
    "This is the case where every attaribute is anonymized locally, no matter numerical or categorical. We will compare results with number-encoded data and binary data. For original data, binary attributes showed much better performance."
   ]
  },
  {
   "cell_type": "code",
   "execution_count": 10,
   "metadata": {},
   "outputs": [
    {
     "data": {
      "text/html": [
       "<div>\n",
       "<style scoped>\n",
       "    .dataframe tbody tr th:only-of-type {\n",
       "        vertical-align: middle;\n",
       "    }\n",
       "\n",
       "    .dataframe tbody tr th {\n",
       "        vertical-align: top;\n",
       "    }\n",
       "\n",
       "    .dataframe thead th {\n",
       "        text-align: right;\n",
       "    }\n",
       "</style>\n",
       "<table border=\"1\" class=\"dataframe\">\n",
       "  <thead>\n",
       "    <tr style=\"text-align: right;\">\n",
       "      <th></th>\n",
       "      <th>age</th>\n",
       "      <th>workclass</th>\n",
       "      <th>fnlwgt</th>\n",
       "      <th>education-num</th>\n",
       "      <th>marital-status</th>\n",
       "      <th>occupation</th>\n",
       "      <th>relationship</th>\n",
       "      <th>race</th>\n",
       "      <th>sex</th>\n",
       "      <th>capital-gain</th>\n",
       "      <th>capital-loss</th>\n",
       "      <th>hours-per-week</th>\n",
       "      <th>native-country</th>\n",
       "      <th>income</th>\n",
       "    </tr>\n",
       "  </thead>\n",
       "  <tbody>\n",
       "    <tr>\n",
       "      <th>0</th>\n",
       "      <td>NaN</td>\n",
       "      <td>NaN</td>\n",
       "      <td>NaN</td>\n",
       "      <td>3</td>\n",
       "      <td>NaN</td>\n",
       "      <td>NaN</td>\n",
       "      <td>NaN</td>\n",
       "      <td>NaN</td>\n",
       "      <td>Female</td>\n",
       "      <td>0</td>\n",
       "      <td>0</td>\n",
       "      <td>NaN</td>\n",
       "      <td>Non-US</td>\n",
       "      <td>&lt;=50K</td>\n",
       "    </tr>\n",
       "    <tr>\n",
       "      <th>1</th>\n",
       "      <td>NaN</td>\n",
       "      <td>NaN</td>\n",
       "      <td>NaN</td>\n",
       "      <td>3</td>\n",
       "      <td>NaN</td>\n",
       "      <td>NaN</td>\n",
       "      <td>NaN</td>\n",
       "      <td>NaN</td>\n",
       "      <td>Female</td>\n",
       "      <td>0</td>\n",
       "      <td>0</td>\n",
       "      <td>NaN</td>\n",
       "      <td>Non-US</td>\n",
       "      <td>&lt;=50K</td>\n",
       "    </tr>\n",
       "    <tr>\n",
       "      <th>2</th>\n",
       "      <td>NaN</td>\n",
       "      <td>NaN</td>\n",
       "      <td>NaN</td>\n",
       "      <td>2</td>\n",
       "      <td>NaN</td>\n",
       "      <td>NaN</td>\n",
       "      <td>NaN</td>\n",
       "      <td>NaN</td>\n",
       "      <td>Female</td>\n",
       "      <td>0</td>\n",
       "      <td>0</td>\n",
       "      <td>NaN</td>\n",
       "      <td>Non-US</td>\n",
       "      <td>&lt;=50K</td>\n",
       "    </tr>\n",
       "    <tr>\n",
       "      <th>3</th>\n",
       "      <td>NaN</td>\n",
       "      <td>NaN</td>\n",
       "      <td>NaN</td>\n",
       "      <td>2</td>\n",
       "      <td>NaN</td>\n",
       "      <td>NaN</td>\n",
       "      <td>NaN</td>\n",
       "      <td>NaN</td>\n",
       "      <td>Male</td>\n",
       "      <td>0</td>\n",
       "      <td>0</td>\n",
       "      <td>NaN</td>\n",
       "      <td>Non-US</td>\n",
       "      <td>&lt;=50K</td>\n",
       "    </tr>\n",
       "    <tr>\n",
       "      <th>4</th>\n",
       "      <td>NaN</td>\n",
       "      <td>NaN</td>\n",
       "      <td>NaN</td>\n",
       "      <td>3</td>\n",
       "      <td>NaN</td>\n",
       "      <td>NaN</td>\n",
       "      <td>NaN</td>\n",
       "      <td>NaN</td>\n",
       "      <td>Male</td>\n",
       "      <td>0</td>\n",
       "      <td>2179</td>\n",
       "      <td>NaN</td>\n",
       "      <td>Non-US</td>\n",
       "      <td>&lt;=50K</td>\n",
       "    </tr>\n",
       "    <tr>\n",
       "      <th>5</th>\n",
       "      <td>NaN</td>\n",
       "      <td>NaN</td>\n",
       "      <td>NaN</td>\n",
       "      <td>3</td>\n",
       "      <td>NaN</td>\n",
       "      <td>NaN</td>\n",
       "      <td>NaN</td>\n",
       "      <td>NaN</td>\n",
       "      <td>Male</td>\n",
       "      <td>0</td>\n",
       "      <td>0</td>\n",
       "      <td>NaN</td>\n",
       "      <td>Non-US</td>\n",
       "      <td>&lt;=50K</td>\n",
       "    </tr>\n",
       "    <tr>\n",
       "      <th>6</th>\n",
       "      <td>NaN</td>\n",
       "      <td>NaN</td>\n",
       "      <td>NaN</td>\n",
       "      <td>3</td>\n",
       "      <td>NaN</td>\n",
       "      <td>NaN</td>\n",
       "      <td>NaN</td>\n",
       "      <td>NaN</td>\n",
       "      <td>Male</td>\n",
       "      <td>0</td>\n",
       "      <td>0</td>\n",
       "      <td>NaN</td>\n",
       "      <td>Non-US</td>\n",
       "      <td>&lt;=50K</td>\n",
       "    </tr>\n",
       "    <tr>\n",
       "      <th>7</th>\n",
       "      <td>NaN</td>\n",
       "      <td>NaN</td>\n",
       "      <td>NaN</td>\n",
       "      <td>1</td>\n",
       "      <td>NaN</td>\n",
       "      <td>NaN</td>\n",
       "      <td>NaN</td>\n",
       "      <td>NaN</td>\n",
       "      <td>Male</td>\n",
       "      <td>0</td>\n",
       "      <td>0</td>\n",
       "      <td>NaN</td>\n",
       "      <td>Non-US</td>\n",
       "      <td>&lt;=50K</td>\n",
       "    </tr>\n",
       "    <tr>\n",
       "      <th>8</th>\n",
       "      <td>NaN</td>\n",
       "      <td>NaN</td>\n",
       "      <td>NaN</td>\n",
       "      <td>3</td>\n",
       "      <td>NaN</td>\n",
       "      <td>NaN</td>\n",
       "      <td>NaN</td>\n",
       "      <td>NaN</td>\n",
       "      <td>Female</td>\n",
       "      <td>0</td>\n",
       "      <td>0</td>\n",
       "      <td>NaN</td>\n",
       "      <td>United-States</td>\n",
       "      <td>&lt;=50K</td>\n",
       "    </tr>\n",
       "    <tr>\n",
       "      <th>9</th>\n",
       "      <td>NaN</td>\n",
       "      <td>NaN</td>\n",
       "      <td>NaN</td>\n",
       "      <td>3</td>\n",
       "      <td>NaN</td>\n",
       "      <td>NaN</td>\n",
       "      <td>NaN</td>\n",
       "      <td>NaN</td>\n",
       "      <td>Female</td>\n",
       "      <td>0</td>\n",
       "      <td>0</td>\n",
       "      <td>NaN</td>\n",
       "      <td>United-States</td>\n",
       "      <td>&lt;=50K</td>\n",
       "    </tr>\n",
       "  </tbody>\n",
       "</table>\n",
       "</div>"
      ],
      "text/plain": [
       "   age workclass  fnlwgt  education-num marital-status occupation  \\\n",
       "0  NaN       NaN     NaN              3            NaN        NaN   \n",
       "1  NaN       NaN     NaN              3            NaN        NaN   \n",
       "2  NaN       NaN     NaN              2            NaN        NaN   \n",
       "3  NaN       NaN     NaN              2            NaN        NaN   \n",
       "4  NaN       NaN     NaN              3            NaN        NaN   \n",
       "5  NaN       NaN     NaN              3            NaN        NaN   \n",
       "6  NaN       NaN     NaN              3            NaN        NaN   \n",
       "7  NaN       NaN     NaN              1            NaN        NaN   \n",
       "8  NaN       NaN     NaN              3            NaN        NaN   \n",
       "9  NaN       NaN     NaN              3            NaN        NaN   \n",
       "\n",
       "  relationship race     sex  capital-gain  capital-loss hours-per-week  \\\n",
       "0          NaN  NaN  Female             0             0            NaN   \n",
       "1          NaN  NaN  Female             0             0            NaN   \n",
       "2          NaN  NaN  Female             0             0            NaN   \n",
       "3          NaN  NaN    Male             0             0            NaN   \n",
       "4          NaN  NaN    Male             0          2179            NaN   \n",
       "5          NaN  NaN    Male             0             0            NaN   \n",
       "6          NaN  NaN    Male             0             0            NaN   \n",
       "7          NaN  NaN    Male             0             0            NaN   \n",
       "8          NaN  NaN  Female             0             0            NaN   \n",
       "9          NaN  NaN  Female             0             0            NaN   \n",
       "\n",
       "  native-country income  \n",
       "0         Non-US  <=50K  \n",
       "1         Non-US  <=50K  \n",
       "2         Non-US  <=50K  \n",
       "3         Non-US  <=50K  \n",
       "4         Non-US  <=50K  \n",
       "5         Non-US  <=50K  \n",
       "6         Non-US  <=50K  \n",
       "7         Non-US  <=50K  \n",
       "8  United-States  <=50K  \n",
       "9  United-States  <=50K  "
      ]
     },
     "execution_count": 10,
     "metadata": {},
     "output_type": "execute_result"
    }
   ],
   "source": [
    "dataset = read_anon_data(\"multi-class-edu\", 3, \"\")\n",
    "dataset.head(10)"
   ]
  },
  {
   "cell_type": "markdown",
   "metadata": {},
   "source": [
    "### Number-encoded data"
   ]
  },
  {
   "cell_type": "code",
   "execution_count": 11,
   "metadata": {},
   "outputs": [
    {
     "name": "stdout",
     "output_type": "stream",
     "text": [
      "F1 score: 0.45 (+/- 0.10)\n",
      "0.4504011670313639\n"
     ]
    }
   ],
   "source": [
    "# preprocess\n",
    "del dataset['fnlwgt']\n",
    "dataset_encoded, encoders = number_encode_features(dataset)\n",
    "# define target\n",
    "y = dataset_encoded['education-num']\n",
    "X = dataset_encoded.drop('education-num', axis=1)\n",
    "# more preprocessing\n",
    "X = pd.DataFrame(scaler.fit_transform(X), columns=X.columns)\n",
    "# cross validation scores\n",
    "scores = model_selection.cross_val_score(clf, X, y, cv=10, scoring=\"f1_micro\")\n",
    "print(\"F1 score: %0.2f (+/- %0.2f)\" \n",
    "      % (scores.mean(), scores.std() * 2))\n",
    "# prediction\n",
    "predicted = model_selection.cross_val_predict(clf, X, y, cv=10)\n",
    "f1_k3 = metrics.f1_score(y, predicted, average='micro')\n",
    "print(f1_k3)"
   ]
  },
  {
   "cell_type": "markdown",
   "metadata": {},
   "source": [
    "### Binary data"
   ]
  },
  {
   "cell_type": "code",
   "execution_count": 12,
   "metadata": {},
   "outputs": [
    {
     "name": "stdout",
     "output_type": "stream",
     "text": [
      "F1 score: 0.31 (+/- 0.33)\n"
     ]
    },
    {
     "data": {
      "text/plain": [
       "0.31526423977189844"
      ]
     },
     "execution_count": 12,
     "metadata": {},
     "output_type": "execute_result"
    }
   ],
   "source": [
    "# with binary data\n",
    "binary_data = pd.get_dummies(dataset)\n",
    "# redefine target value\n",
    "y_bin = binary_data['education-num']\n",
    "X_bin = binary_data.drop('education-num', axis=1)\n",
    "\n",
    "# scale \n",
    "X_bin = pd.DataFrame(scaler.fit_transform(X_bin), columns=X_bin.columns)\n",
    "\n",
    "# cross validation scores \n",
    "scores = model_selection.cross_val_score(clf, X_bin, y_bin, cv=10, scoring='f1_micro')\n",
    "print(\"F1 score: %0.2f (+/- %0.2f)\" \n",
    "      % (scores.mean(), scores.std() * 2))\n",
    "\n",
    "# prediction\n",
    "predicted = model_selection.cross_val_predict(clf, X_bin, y_bin, cv=10)\n",
    "metrics.f1_score(y_bin, predicted, average='micro')"
   ]
  },
  {
   "cell_type": "markdown",
   "metadata": {},
   "source": [
    "## 1.2. Partial anonymization on non-continuous attributes"
   ]
  },
  {
   "cell_type": "markdown",
   "metadata": {},
   "source": [
    "In this case categorical attributes are anonymized in the same manner as in previous case. For the continuous attributes we performed global anonymization, meaning all values withing the column are anonymized on the same anonymization level. This reduces number of different values for such attribues and avoids mixing numerical and categorical data in the same attribute. "
   ]
  },
  {
   "cell_type": "code",
   "execution_count": 21,
   "metadata": {},
   "outputs": [
    {
     "data": {
      "text/plain": [
       "(30053, 13)"
      ]
     },
     "execution_count": 21,
     "metadata": {},
     "output_type": "execute_result"
    }
   ],
   "source": [
    "# read dataset\n",
    "dataset = read_anon_data(\"without-contin-hie\", 3, \"_done\")\n",
    "dataset.head()\n",
    "dataset.shape"
   ]
  },
  {
   "cell_type": "markdown",
   "metadata": {},
   "source": [
    "### Number-encoded data"
   ]
  },
  {
   "cell_type": "code",
   "execution_count": 23,
   "metadata": {},
   "outputs": [
    {
     "name": "stdout",
     "output_type": "stream",
     "text": [
      "F1 score: 0.45 (+/- 0.13)\n",
      "0.4479752437360663\n"
     ]
    }
   ],
   "source": [
    "# preprocess\n",
    "dataset_encoded, encoders = number_encode_features(dataset)\n",
    "# define target\n",
    "y = dataset_encoded['education-num']\n",
    "X = dataset_encoded.drop('education-num', axis=1)\n",
    "# more preprocessing\n",
    "X = pd.DataFrame(scaler.fit_transform(X), columns=X.columns)\n",
    "# cross validation scores\n",
    "scores = model_selection.cross_val_score(clf, X, y, cv=10, scoring=\"f1_micro\")\n",
    "print(\"F1 score: %0.2f (+/- %0.2f)\" \n",
    "      % (scores.mean(), scores.std() * 2))\n",
    "# prediction\n",
    "predicted = model_selection.cross_val_predict(clf, X, y, cv=10)\n",
    "f1_k3_2 = metrics.f1_score(y, predicted, average='micro')\n",
    "print(f1_k3_2)"
   ]
  },
  {
   "cell_type": "markdown",
   "metadata": {},
   "source": [
    "### Binary data"
   ]
  },
  {
   "cell_type": "code",
   "execution_count": 16,
   "metadata": {},
   "outputs": [
    {
     "name": "stdout",
     "output_type": "stream",
     "text": [
      "F1 score: 0.32 (+/- 0.28)\n"
     ]
    },
    {
     "data": {
      "text/plain": [
       "0.32086731649094885"
      ]
     },
     "execution_count": 16,
     "metadata": {},
     "output_type": "execute_result"
    }
   ],
   "source": [
    "# try binary data\n",
    "binary_data = pd.get_dummies(dataset)\n",
    "# redefine target value\n",
    "y_bin = binary_data['education-num']\n",
    "X_bin = binary_data.drop('education-num', axis=1)\n",
    "\n",
    "# scale \n",
    "X_bin = pd.DataFrame(scaler.fit_transform(X_bin), columns=X_bin.columns)\n",
    "\n",
    "# cross validation scores \n",
    "scores = model_selection.cross_val_score(clf, X_bin, y_bin, cv=10, scoring='f1_micro')\n",
    "print(\"F1 score: %0.2f (+/- %0.2f)\" \n",
    "      % (scores.mean(), scores.std() * 2))\n",
    "\n",
    "# prediction\n",
    "predicted = model_selection.cross_val_predict(clf, X_bin, y_bin, cv=10)\n",
    "metrics.f1_score(y_bin, predicted, average='micro')"
   ]
  },
  {
   "cell_type": "code",
   "execution_count": null,
   "metadata": {},
   "outputs": [],
   "source": [
    "# TOOO perform for all k"
   ]
  },
  {
   "cell_type": "markdown",
   "metadata": {},
   "source": [
    "## 2. Comparison of differently anonymized datasets"
   ]
  },
  {
   "cell_type": "code",
   "execution_count": 9,
   "metadata": {},
   "outputs": [
    {
     "name": "stdout",
     "output_type": "stream",
     "text": [
      "Classified anonymous data with k=7\n",
      "\t f1_score=0.41693746269646526\n",
      "Classified anonymous data with k=11\n",
      "\t f1_score=0.4473789783364536\n",
      "Classified anonymous data with k=15\n",
      "\t f1_score=0.40813192682601146\n",
      "Classified anonymous data with k=19\n",
      "\t f1_score=0.42347346015697745\n",
      "Classified anonymous data with k=23\n",
      "\t f1_score=0.39635965784762284\n",
      "Classified anonymous data with k=27\n",
      "\t f1_score=0.3877063855182017\n",
      "Classified anonymous data with k=31\n",
      "\t f1_score=0.4082952058882037\n",
      "Classified anonymous data with k=35\n",
      "\t f1_score=0.42702738545189306\n",
      "Classified anonymous data with k=100\n",
      "\t f1_score=0.3872422253166235\n"
     ]
    }
   ],
   "source": [
    "k_values = [1, 3, 7, 11, 15, 19, 23, 27, 31, 35, 100]\n",
    "f1_scores1 = [0.6095418075724421, 0.4504011670313639]\n",
    "f1_scores2 = [0.6095418075724421, 0.4479752437360663]\n",
    "\n",
    "for k in k_values:\n",
    "    if k is 1 or k is 3:\n",
    "        continue\n",
    "    dataset1 = read_anon_data(\"multi-class-edu\", k, \"\")\n",
    "    dataset2 = read_anon_data(\"without-contin-hie\", k, \"_done\")\n",
    "    \n",
    "    # preprocess\n",
    "    if 'fnlwgt' in dataset1.columns:\n",
    "        del dataset1['fnlwgt']\n",
    "    if 'fnlwgt' in dataset2.columns:\n",
    "        del dataset2['fnlwgt']\n",
    "    dataset_encoded1, encoders1 = number_encode_features(dataset1)\n",
    "    dataset_encoded2, encoders2 = number_encode_features(dataset2)\n",
    "    \n",
    "    # define target\n",
    "    y1 = dataset_encoded1['education-num']\n",
    "    X1 = dataset_encoded1.drop('education-num', axis=1)\n",
    "    \n",
    "    y2 = dataset_encoded2['education-num']\n",
    "    X2 = dataset_encoded2.drop('education-num', axis=1)\n",
    "    \n",
    "    # more preprocessing\n",
    "    X1 = pd.DataFrame(scaler.fit_transform(X1), columns=X1.columns)\n",
    "    X2 = pd.DataFrame(scaler.fit_transform(X2), columns=X2.columns)\n",
    "    \n",
    "    # prediction\n",
    "    predicted1 = model_selection.cross_val_predict(clf, X1, y1, cv=10)\n",
    "    f1_scores1.append(metrics.f1_score(y1, predicted1, average='micro'))\n",
    "    \n",
    "    predicted2 = model_selection.cross_val_predict(clf, X2, y2, cv=10)\n",
    "    f1_scores2.append(metrics.f1_score(y2, predicted2, average='micro'))\n",
    "    \n",
    "    # log\n",
    "    print(\"Classified anonymous data with k=\" + str(k) + \n",
    "          \"\\n\\t f1_score=\" + str(metrics.f1_score(y2, predicted2, average='micro')))"
   ]
  },
  {
   "cell_type": "code",
   "execution_count": 11,
   "metadata": {},
   "outputs": [
    {
     "data": {
      "text/plain": [
       "<matplotlib.legend.Legend at 0x1dc75250>"
      ]
     },
     "execution_count": 11,
     "metadata": {},
     "output_type": "execute_result"
    },
    {
     "data": {
      "image/png": "[encoded data removed]",
      "text/plain": [
       "<Figure size 698.4x432 with 1 Axes>"
      ]
     },
     "metadata": {},
     "output_type": "display_data"
    }
   ],
   "source": [
    "# visualize\n",
    "plt.figure(figsize=(9.7,6))\n",
    "line1, = plt.plot(k_values, f1_scores1, marker='o', label='All anonymized locally')\n",
    "line2, = plt.plot(k_values, f1_scores2, marker='o', label='Only categorical anonymized locally')\n",
    "plt.ylabel('f1 score')\n",
    "plt.xlabel('k')\n",
    "plt.title('Linear SVC')\n",
    "plt.legend(handles=[line1, line2])"
   ]
  },
  {
   "cell_type": "code",
   "execution_count": 12,
   "metadata": {},
   "outputs": [],
   "source": [
    "# pickle f1 scores 2.1\n",
    "outfile = open('../../data/ARX/multi-class-edu/SVC_f1_scores', 'wb')\n",
    "pickle.dump(f1_scores1, outfile)\n",
    "outfile.close()"
   ]
  },
  {
   "cell_type": "code",
   "execution_count": 13,
   "metadata": {},
   "outputs": [],
   "source": [
    "# pickle f1 scores 2.3\n",
    "outfile = open('../../data/ARX/without-contin-hie/SVC_f1_scores', 'wb')\n",
    "pickle.dump(f1_scores2, outfile)\n",
    "outfile.close()"
   ]
  }
 ],
 "metadata": {
  "kernelspec": {
   "display_name": "Python 3",
   "language": "python",
   "name": "python3"
  },
  "language_info": {
   "codemirror_mode": {
    "name": "ipython",
    "version": 3
   },
   "file_extension": ".py",
   "mimetype": "text/x-python",
   "name": "python",
   "nbconvert_exporter": "python",
   "pygments_lexer": "ipython3",
   "version": "3.7.0"
  }
 },
 "nbformat": 4,
 "nbformat_minor": 2
}
