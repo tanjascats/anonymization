{
 "cells": [
  {
   "cell_type": "markdown",
   "metadata": {},
   "source": [
    "# Multi-class Classification of Anonymized 'Adult' Dataset - Logistic Regression"
   ]
  },
  {
   "cell_type": "markdown",
   "metadata": {},
   "source": [
    "This notebook presents classification of Adult dataset. Classification is done using logistic regression on target attribute 'education-num'. \n",
    " <ol>\n",
    "    <li>In the first part we predict 'education-num' based on original data</li>\n",
    "    <li>In the second part we use 3-anonymous data obtained with ARX tool\n",
    "        <ul>\n",
    "            <li>partial anonymization with defined hierarchies\n",
    "            <li>partial anonymization without defined hierarchies\n",
    "            <li>partial anonymization only for **non-countinuous** data with defined hierarchies\n",
    "        </ul>\n",
    "    </li>\n",
    "    <li>In the last part we compare performances on all other chosen k-values</li>\n",
    "  </ol>\n",
    "Anonymization done without any defined hierarchies means that all the attributes have two levels of anonymity: non-anonymous(original value) and completely anonymous(\\*). Furthermore, the used partial anonymization means that it is possible to anonymize only part of a single column."
   ]
  },
  {
   "cell_type": "markdown",
   "metadata": {},
   "source": [
    "## 1. Classification of Original Data Using Logistic Regression"
   ]
  },
  {
   "cell_type": "code",
   "execution_count": 1,
   "metadata": {},
   "outputs": [],
   "source": [
    "import pandas as pd\n",
    "import matplotlib.pyplot as plt\n",
    "import numpy as np\n",
    "import seaborn as sns\n",
    "import pickle\n",
    "from sklearn import metrics, preprocessing, model_selection\n",
    "from sklearn.linear_model import LogisticRegression"
   ]
  },
  {
   "cell_type": "code",
   "execution_count": 3,
   "metadata": {},
   "outputs": [
    {
     "data": {
      "text/html": [
       "<div>\n",
       "<style scoped>\n",
       "    .dataframe tbody tr th:only-of-type {\n",
       "        vertical-align: middle;\n",
       "    }\n",
       "\n",
       "    .dataframe tbody tr th {\n",
       "        vertical-align: top;\n",
       "    }\n",
       "\n",
       "    .dataframe thead th {\n",
       "        text-align: right;\n",
       "    }\n",
       "</style>\n",
       "<table border=\"1\" class=\"dataframe\">\n",
       "  <thead>\n",
       "    <tr style=\"text-align: right;\">\n",
       "      <th></th>\n",
       "      <th>age</th>\n",
       "      <th>workclass</th>\n",
       "      <th>fnlwgt</th>\n",
       "      <th>education-num</th>\n",
       "      <th>marital-status</th>\n",
       "      <th>occupation</th>\n",
       "      <th>relationship</th>\n",
       "      <th>race</th>\n",
       "      <th>sex</th>\n",
       "      <th>capital-gain</th>\n",
       "      <th>capital-loss</th>\n",
       "      <th>hours-per-week</th>\n",
       "      <th>native-country</th>\n",
       "      <th>income</th>\n",
       "    </tr>\n",
       "  </thead>\n",
       "  <tbody>\n",
       "    <tr>\n",
       "      <th>0</th>\n",
       "      <td>39</td>\n",
       "      <td>State-gov</td>\n",
       "      <td>77516</td>\n",
       "      <td>3</td>\n",
       "      <td>Never-married</td>\n",
       "      <td>Adm-clerical</td>\n",
       "      <td>Not-in-family</td>\n",
       "      <td>White</td>\n",
       "      <td>Male</td>\n",
       "      <td>2174</td>\n",
       "      <td>0</td>\n",
       "      <td>40</td>\n",
       "      <td>United-States</td>\n",
       "      <td>&lt;=50K</td>\n",
       "    </tr>\n",
       "    <tr>\n",
       "      <th>1</th>\n",
       "      <td>50</td>\n",
       "      <td>Self-emp-not-inc</td>\n",
       "      <td>83311</td>\n",
       "      <td>3</td>\n",
       "      <td>Married-civ-spouse</td>\n",
       "      <td>Exec-managerial</td>\n",
       "      <td>Husband</td>\n",
       "      <td>White</td>\n",
       "      <td>Male</td>\n",
       "      <td>0</td>\n",
       "      <td>0</td>\n",
       "      <td>13</td>\n",
       "      <td>United-States</td>\n",
       "      <td>&lt;=50K</td>\n",
       "    </tr>\n",
       "    <tr>\n",
       "      <th>2</th>\n",
       "      <td>38</td>\n",
       "      <td>Private</td>\n",
       "      <td>215646</td>\n",
       "      <td>2</td>\n",
       "      <td>Divorced</td>\n",
       "      <td>Handlers-cleaners</td>\n",
       "      <td>Not-in-family</td>\n",
       "      <td>White</td>\n",
       "      <td>Male</td>\n",
       "      <td>0</td>\n",
       "      <td>0</td>\n",
       "      <td>40</td>\n",
       "      <td>United-States</td>\n",
       "      <td>&lt;=50K</td>\n",
       "    </tr>\n",
       "    <tr>\n",
       "      <th>3</th>\n",
       "      <td>53</td>\n",
       "      <td>Private</td>\n",
       "      <td>234721</td>\n",
       "      <td>2</td>\n",
       "      <td>Married-civ-spouse</td>\n",
       "      <td>Handlers-cleaners</td>\n",
       "      <td>Husband</td>\n",
       "      <td>Black</td>\n",
       "      <td>Male</td>\n",
       "      <td>0</td>\n",
       "      <td>0</td>\n",
       "      <td>40</td>\n",
       "      <td>United-States</td>\n",
       "      <td>&lt;=50K</td>\n",
       "    </tr>\n",
       "    <tr>\n",
       "      <th>4</th>\n",
       "      <td>28</td>\n",
       "      <td>Private</td>\n",
       "      <td>338409</td>\n",
       "      <td>3</td>\n",
       "      <td>Married-civ-spouse</td>\n",
       "      <td>Prof-specialty</td>\n",
       "      <td>Wife</td>\n",
       "      <td>Black</td>\n",
       "      <td>Female</td>\n",
       "      <td>0</td>\n",
       "      <td>0</td>\n",
       "      <td>40</td>\n",
       "      <td>Non-US</td>\n",
       "      <td>&lt;=50K</td>\n",
       "    </tr>\n",
       "    <tr>\n",
       "      <th>5</th>\n",
       "      <td>37</td>\n",
       "      <td>Private</td>\n",
       "      <td>284582</td>\n",
       "      <td>4</td>\n",
       "      <td>Married-civ-spouse</td>\n",
       "      <td>Exec-managerial</td>\n",
       "      <td>Wife</td>\n",
       "      <td>White</td>\n",
       "      <td>Female</td>\n",
       "      <td>0</td>\n",
       "      <td>0</td>\n",
       "      <td>40</td>\n",
       "      <td>United-States</td>\n",
       "      <td>&lt;=50K</td>\n",
       "    </tr>\n",
       "    <tr>\n",
       "      <th>6</th>\n",
       "      <td>49</td>\n",
       "      <td>Private</td>\n",
       "      <td>160187</td>\n",
       "      <td>2</td>\n",
       "      <td>Married-spouse-absent</td>\n",
       "      <td>Other-service</td>\n",
       "      <td>Not-in-family</td>\n",
       "      <td>Black</td>\n",
       "      <td>Female</td>\n",
       "      <td>0</td>\n",
       "      <td>0</td>\n",
       "      <td>16</td>\n",
       "      <td>Non-US</td>\n",
       "      <td>&lt;=50K</td>\n",
       "    </tr>\n",
       "    <tr>\n",
       "      <th>7</th>\n",
       "      <td>52</td>\n",
       "      <td>Self-emp-not-inc</td>\n",
       "      <td>209642</td>\n",
       "      <td>2</td>\n",
       "      <td>Married-civ-spouse</td>\n",
       "      <td>Exec-managerial</td>\n",
       "      <td>Husband</td>\n",
       "      <td>White</td>\n",
       "      <td>Male</td>\n",
       "      <td>0</td>\n",
       "      <td>0</td>\n",
       "      <td>45</td>\n",
       "      <td>United-States</td>\n",
       "      <td>&gt;50K</td>\n",
       "    </tr>\n",
       "    <tr>\n",
       "      <th>8</th>\n",
       "      <td>31</td>\n",
       "      <td>Private</td>\n",
       "      <td>45781</td>\n",
       "      <td>4</td>\n",
       "      <td>Never-married</td>\n",
       "      <td>Prof-specialty</td>\n",
       "      <td>Not-in-family</td>\n",
       "      <td>White</td>\n",
       "      <td>Female</td>\n",
       "      <td>14084</td>\n",
       "      <td>0</td>\n",
       "      <td>50</td>\n",
       "      <td>United-States</td>\n",
       "      <td>&gt;50K</td>\n",
       "    </tr>\n",
       "    <tr>\n",
       "      <th>9</th>\n",
       "      <td>42</td>\n",
       "      <td>Private</td>\n",
       "      <td>159449</td>\n",
       "      <td>3</td>\n",
       "      <td>Married-civ-spouse</td>\n",
       "      <td>Exec-managerial</td>\n",
       "      <td>Husband</td>\n",
       "      <td>White</td>\n",
       "      <td>Male</td>\n",
       "      <td>5178</td>\n",
       "      <td>0</td>\n",
       "      <td>40</td>\n",
       "      <td>United-States</td>\n",
       "      <td>&gt;50K</td>\n",
       "    </tr>\n",
       "    <tr>\n",
       "      <th>10</th>\n",
       "      <td>37</td>\n",
       "      <td>Private</td>\n",
       "      <td>280464</td>\n",
       "      <td>3</td>\n",
       "      <td>Married-civ-spouse</td>\n",
       "      <td>Exec-managerial</td>\n",
       "      <td>Husband</td>\n",
       "      <td>Black</td>\n",
       "      <td>Male</td>\n",
       "      <td>0</td>\n",
       "      <td>0</td>\n",
       "      <td>80</td>\n",
       "      <td>United-States</td>\n",
       "      <td>&gt;50K</td>\n",
       "    </tr>\n",
       "    <tr>\n",
       "      <th>11</th>\n",
       "      <td>30</td>\n",
       "      <td>State-gov</td>\n",
       "      <td>141297</td>\n",
       "      <td>3</td>\n",
       "      <td>Married-civ-spouse</td>\n",
       "      <td>Prof-specialty</td>\n",
       "      <td>Husband</td>\n",
       "      <td>Asian-Pac-Islander</td>\n",
       "      <td>Male</td>\n",
       "      <td>0</td>\n",
       "      <td>0</td>\n",
       "      <td>40</td>\n",
       "      <td>Non-US</td>\n",
       "      <td>&gt;50K</td>\n",
       "    </tr>\n",
       "    <tr>\n",
       "      <th>12</th>\n",
       "      <td>23</td>\n",
       "      <td>Private</td>\n",
       "      <td>122272</td>\n",
       "      <td>3</td>\n",
       "      <td>Never-married</td>\n",
       "      <td>Adm-clerical</td>\n",
       "      <td>Own-child</td>\n",
       "      <td>White</td>\n",
       "      <td>Female</td>\n",
       "      <td>0</td>\n",
       "      <td>0</td>\n",
       "      <td>30</td>\n",
       "      <td>United-States</td>\n",
       "      <td>&lt;=50K</td>\n",
       "    </tr>\n",
       "    <tr>\n",
       "      <th>13</th>\n",
       "      <td>32</td>\n",
       "      <td>Private</td>\n",
       "      <td>205019</td>\n",
       "      <td>3</td>\n",
       "      <td>Never-married</td>\n",
       "      <td>Sales</td>\n",
       "      <td>Not-in-family</td>\n",
       "      <td>Black</td>\n",
       "      <td>Male</td>\n",
       "      <td>0</td>\n",
       "      <td>0</td>\n",
       "      <td>50</td>\n",
       "      <td>United-States</td>\n",
       "      <td>&lt;=50K</td>\n",
       "    </tr>\n",
       "    <tr>\n",
       "      <th>14</th>\n",
       "      <td>34</td>\n",
       "      <td>Private</td>\n",
       "      <td>245487</td>\n",
       "      <td>1</td>\n",
       "      <td>Married-civ-spouse</td>\n",
       "      <td>Transport-moving</td>\n",
       "      <td>Husband</td>\n",
       "      <td>Amer-Indian-Eskimo</td>\n",
       "      <td>Male</td>\n",
       "      <td>0</td>\n",
       "      <td>0</td>\n",
       "      <td>45</td>\n",
       "      <td>Non-US</td>\n",
       "      <td>&lt;=50K</td>\n",
       "    </tr>\n",
       "    <tr>\n",
       "      <th>15</th>\n",
       "      <td>25</td>\n",
       "      <td>Self-emp-not-inc</td>\n",
       "      <td>176756</td>\n",
       "      <td>2</td>\n",
       "      <td>Never-married</td>\n",
       "      <td>Farming-fishing</td>\n",
       "      <td>Own-child</td>\n",
       "      <td>White</td>\n",
       "      <td>Male</td>\n",
       "      <td>0</td>\n",
       "      <td>0</td>\n",
       "      <td>35</td>\n",
       "      <td>United-States</td>\n",
       "      <td>&lt;=50K</td>\n",
       "    </tr>\n",
       "    <tr>\n",
       "      <th>16</th>\n",
       "      <td>32</td>\n",
       "      <td>Private</td>\n",
       "      <td>186824</td>\n",
       "      <td>2</td>\n",
       "      <td>Never-married</td>\n",
       "      <td>Machine-op-inspct</td>\n",
       "      <td>Unmarried</td>\n",
       "      <td>White</td>\n",
       "      <td>Male</td>\n",
       "      <td>0</td>\n",
       "      <td>0</td>\n",
       "      <td>40</td>\n",
       "      <td>United-States</td>\n",
       "      <td>&lt;=50K</td>\n",
       "    </tr>\n",
       "    <tr>\n",
       "      <th>17</th>\n",
       "      <td>38</td>\n",
       "      <td>Private</td>\n",
       "      <td>28887</td>\n",
       "      <td>2</td>\n",
       "      <td>Married-civ-spouse</td>\n",
       "      <td>Sales</td>\n",
       "      <td>Husband</td>\n",
       "      <td>White</td>\n",
       "      <td>Male</td>\n",
       "      <td>0</td>\n",
       "      <td>0</td>\n",
       "      <td>50</td>\n",
       "      <td>United-States</td>\n",
       "      <td>&lt;=50K</td>\n",
       "    </tr>\n",
       "    <tr>\n",
       "      <th>18</th>\n",
       "      <td>43</td>\n",
       "      <td>Self-emp-not-inc</td>\n",
       "      <td>292175</td>\n",
       "      <td>4</td>\n",
       "      <td>Divorced</td>\n",
       "      <td>Exec-managerial</td>\n",
       "      <td>Unmarried</td>\n",
       "      <td>White</td>\n",
       "      <td>Female</td>\n",
       "      <td>0</td>\n",
       "      <td>0</td>\n",
       "      <td>45</td>\n",
       "      <td>United-States</td>\n",
       "      <td>&gt;50K</td>\n",
       "    </tr>\n",
       "    <tr>\n",
       "      <th>19</th>\n",
       "      <td>40</td>\n",
       "      <td>Private</td>\n",
       "      <td>193524</td>\n",
       "      <td>4</td>\n",
       "      <td>Married-civ-spouse</td>\n",
       "      <td>Prof-specialty</td>\n",
       "      <td>Husband</td>\n",
       "      <td>White</td>\n",
       "      <td>Male</td>\n",
       "      <td>0</td>\n",
       "      <td>0</td>\n",
       "      <td>60</td>\n",
       "      <td>United-States</td>\n",
       "      <td>&gt;50K</td>\n",
       "    </tr>\n",
       "  </tbody>\n",
       "</table>\n",
       "</div>"
      ],
      "text/plain": [
       "    age         workclass  fnlwgt  education-num         marital-status  \\\n",
       "0    39         State-gov   77516              3          Never-married   \n",
       "1    50  Self-emp-not-inc   83311              3     Married-civ-spouse   \n",
       "2    38           Private  215646              2               Divorced   \n",
       "3    53           Private  234721              2     Married-civ-spouse   \n",
       "4    28           Private  338409              3     Married-civ-spouse   \n",
       "5    37           Private  284582              4     Married-civ-spouse   \n",
       "6    49           Private  160187              2  Married-spouse-absent   \n",
       "7    52  Self-emp-not-inc  209642              2     Married-civ-spouse   \n",
       "8    31           Private   45781              4          Never-married   \n",
       "9    42           Private  159449              3     Married-civ-spouse   \n",
       "10   37           Private  280464              3     Married-civ-spouse   \n",
       "11   30         State-gov  141297              3     Married-civ-spouse   \n",
       "12   23           Private  122272              3          Never-married   \n",
       "13   32           Private  205019              3          Never-married   \n",
       "14   34           Private  245487              1     Married-civ-spouse   \n",
       "15   25  Self-emp-not-inc  176756              2          Never-married   \n",
       "16   32           Private  186824              2          Never-married   \n",
       "17   38           Private   28887              2     Married-civ-spouse   \n",
       "18   43  Self-emp-not-inc  292175              4               Divorced   \n",
       "19   40           Private  193524              4     Married-civ-spouse   \n",
       "\n",
       "           occupation   relationship                race     sex  \\\n",
       "0        Adm-clerical  Not-in-family               White    Male   \n",
       "1     Exec-managerial        Husband               White    Male   \n",
       "2   Handlers-cleaners  Not-in-family               White    Male   \n",
       "3   Handlers-cleaners        Husband               Black    Male   \n",
       "4      Prof-specialty           Wife               Black  Female   \n",
       "5     Exec-managerial           Wife               White  Female   \n",
       "6       Other-service  Not-in-family               Black  Female   \n",
       "7     Exec-managerial        Husband               White    Male   \n",
       "8      Prof-specialty  Not-in-family               White  Female   \n",
       "9     Exec-managerial        Husband               White    Male   \n",
       "10    Exec-managerial        Husband               Black    Male   \n",
       "11     Prof-specialty        Husband  Asian-Pac-Islander    Male   \n",
       "12       Adm-clerical      Own-child               White  Female   \n",
       "13              Sales  Not-in-family               Black    Male   \n",
       "14   Transport-moving        Husband  Amer-Indian-Eskimo    Male   \n",
       "15    Farming-fishing      Own-child               White    Male   \n",
       "16  Machine-op-inspct      Unmarried               White    Male   \n",
       "17              Sales        Husband               White    Male   \n",
       "18    Exec-managerial      Unmarried               White  Female   \n",
       "19     Prof-specialty        Husband               White    Male   \n",
       "\n",
       "    capital-gain  capital-loss  hours-per-week native-country income  \n",
       "0           2174             0              40  United-States  <=50K  \n",
       "1              0             0              13  United-States  <=50K  \n",
       "2              0             0              40  United-States  <=50K  \n",
       "3              0             0              40  United-States  <=50K  \n",
       "4              0             0              40         Non-US  <=50K  \n",
       "5              0             0              40  United-States  <=50K  \n",
       "6              0             0              16         Non-US  <=50K  \n",
       "7              0             0              45  United-States   >50K  \n",
       "8          14084             0              50  United-States   >50K  \n",
       "9           5178             0              40  United-States   >50K  \n",
       "10             0             0              80  United-States   >50K  \n",
       "11             0             0              40         Non-US   >50K  \n",
       "12             0             0              30  United-States  <=50K  \n",
       "13             0             0              50  United-States  <=50K  \n",
       "14             0             0              45         Non-US  <=50K  \n",
       "15             0             0              35  United-States  <=50K  \n",
       "16             0             0              40  United-States  <=50K  \n",
       "17             0             0              50  United-States  <=50K  \n",
       "18             0             0              45  United-States   >50K  \n",
       "19             0             0              60  United-States   >50K  "
      ]
     },
     "execution_count": 3,
     "metadata": {},
     "output_type": "execute_result"
    }
   ],
   "source": [
    "# reads the data from the csv file with specific filepath\n",
    "def read_anon_data(k):\n",
    "    directory = \"../../data/ARX/without-hierarchies/adult_k\"\n",
    "    ext = \".csv\"\n",
    "    filepath = directory + str(k) + ext\n",
    "    dataset = pd.read_csv(filepath, sep=r'\\s*,\\s*', na_values=\"*\", engine='python')\n",
    "    return dataset\n",
    "\n",
    "# import non-anonymized dataset\n",
    "dataset = read_anon_data(1)\n",
    "dataset.head(20)"
   ]
  },
  {
   "cell_type": "markdown",
   "metadata": {},
   "source": [
    "We will use *education-num* as a target for our classification task. Instead of 16 continuous levels, we will define clustering into 4 classes: \"elementary-school\", \"high-school\", \"gollege-bachelors\", \"advanced-studies\"."
   ]
  },
  {
   "cell_type": "code",
   "execution_count": 4,
   "metadata": {},
   "outputs": [
    {
     "data": {
      "text/plain": [
       "<matplotlib.axes._subplots.AxesSubplot at 0x1d5a3c30>"
      ]
     },
     "execution_count": 4,
     "metadata": {},
     "output_type": "execute_result"
    },
    {
     "data": {
      "image/png": "[encoded data removed]",
      "text/plain": [
       "<Figure size 432x288 with 1 Axes>"
      ]
     },
     "metadata": {},
     "output_type": "display_data"
    }
   ],
   "source": [
    "dataset['education-num'].value_counts().plot(kind='bar')"
   ]
  },
  {
   "cell_type": "markdown",
   "metadata": {},
   "source": [
    "We are using Logistic Regression classifier which requires numerical data. We want to avoid missleading information that enumerated categorical data can give so we are using binary data. For example, race would be encoded into some numbers and bigger values will suggest that they have bigger importance than some other, when in reality all values of race are treated as equal."
   ]
  },
  {
   "cell_type": "code",
   "execution_count": 5,
   "metadata": {
    "scrolled": true
   },
   "outputs": [
    {
     "data": {
      "text/html": [
       "<div>\n",
       "<style scoped>\n",
       "    .dataframe tbody tr th:only-of-type {\n",
       "        vertical-align: middle;\n",
       "    }\n",
       "\n",
       "    .dataframe tbody tr th {\n",
       "        vertical-align: top;\n",
       "    }\n",
       "\n",
       "    .dataframe thead th {\n",
       "        text-align: right;\n",
       "    }\n",
       "</style>\n",
       "<table border=\"1\" class=\"dataframe\">\n",
       "  <thead>\n",
       "    <tr style=\"text-align: right;\">\n",
       "      <th></th>\n",
       "      <th>age</th>\n",
       "      <th>fnlwgt</th>\n",
       "      <th>education-num</th>\n",
       "      <th>capital-gain</th>\n",
       "      <th>capital-loss</th>\n",
       "      <th>hours-per-week</th>\n",
       "      <th>workclass_Federal-gov</th>\n",
       "      <th>workclass_Local-gov</th>\n",
       "      <th>workclass_Private</th>\n",
       "      <th>workclass_Self-emp-inc</th>\n",
       "      <th>...</th>\n",
       "      <th>race_Asian-Pac-Islander</th>\n",
       "      <th>race_Black</th>\n",
       "      <th>race_Other</th>\n",
       "      <th>race_White</th>\n",
       "      <th>sex_Female</th>\n",
       "      <th>sex_Male</th>\n",
       "      <th>native-country_Non-US</th>\n",
       "      <th>native-country_United-States</th>\n",
       "      <th>income_&lt;=50K</th>\n",
       "      <th>income_&gt;50K</th>\n",
       "    </tr>\n",
       "  </thead>\n",
       "  <tbody>\n",
       "    <tr>\n",
       "      <th>0</th>\n",
       "      <td>39</td>\n",
       "      <td>77516</td>\n",
       "      <td>3</td>\n",
       "      <td>2174</td>\n",
       "      <td>0</td>\n",
       "      <td>40</td>\n",
       "      <td>0</td>\n",
       "      <td>0</td>\n",
       "      <td>0</td>\n",
       "      <td>0</td>\n",
       "      <td>...</td>\n",
       "      <td>0</td>\n",
       "      <td>0</td>\n",
       "      <td>0</td>\n",
       "      <td>1</td>\n",
       "      <td>0</td>\n",
       "      <td>1</td>\n",
       "      <td>0</td>\n",
       "      <td>1</td>\n",
       "      <td>1</td>\n",
       "      <td>0</td>\n",
       "    </tr>\n",
       "    <tr>\n",
       "      <th>1</th>\n",
       "      <td>50</td>\n",
       "      <td>83311</td>\n",
       "      <td>3</td>\n",
       "      <td>0</td>\n",
       "      <td>0</td>\n",
       "      <td>13</td>\n",
       "      <td>0</td>\n",
       "      <td>0</td>\n",
       "      <td>0</td>\n",
       "      <td>0</td>\n",
       "      <td>...</td>\n",
       "      <td>0</td>\n",
       "      <td>0</td>\n",
       "      <td>0</td>\n",
       "      <td>1</td>\n",
       "      <td>0</td>\n",
       "      <td>1</td>\n",
       "      <td>0</td>\n",
       "      <td>1</td>\n",
       "      <td>1</td>\n",
       "      <td>0</td>\n",
       "    </tr>\n",
       "    <tr>\n",
       "      <th>2</th>\n",
       "      <td>38</td>\n",
       "      <td>215646</td>\n",
       "      <td>2</td>\n",
       "      <td>0</td>\n",
       "      <td>0</td>\n",
       "      <td>40</td>\n",
       "      <td>0</td>\n",
       "      <td>0</td>\n",
       "      <td>1</td>\n",
       "      <td>0</td>\n",
       "      <td>...</td>\n",
       "      <td>0</td>\n",
       "      <td>0</td>\n",
       "      <td>0</td>\n",
       "      <td>1</td>\n",
       "      <td>0</td>\n",
       "      <td>1</td>\n",
       "      <td>0</td>\n",
       "      <td>1</td>\n",
       "      <td>1</td>\n",
       "      <td>0</td>\n",
       "    </tr>\n",
       "    <tr>\n",
       "      <th>3</th>\n",
       "      <td>53</td>\n",
       "      <td>234721</td>\n",
       "      <td>2</td>\n",
       "      <td>0</td>\n",
       "      <td>0</td>\n",
       "      <td>40</td>\n",
       "      <td>0</td>\n",
       "      <td>0</td>\n",
       "      <td>1</td>\n",
       "      <td>0</td>\n",
       "      <td>...</td>\n",
       "      <td>0</td>\n",
       "      <td>1</td>\n",
       "      <td>0</td>\n",
       "      <td>0</td>\n",
       "      <td>0</td>\n",
       "      <td>1</td>\n",
       "      <td>0</td>\n",
       "      <td>1</td>\n",
       "      <td>1</td>\n",
       "      <td>0</td>\n",
       "    </tr>\n",
       "    <tr>\n",
       "      <th>4</th>\n",
       "      <td>28</td>\n",
       "      <td>338409</td>\n",
       "      <td>3</td>\n",
       "      <td>0</td>\n",
       "      <td>0</td>\n",
       "      <td>40</td>\n",
       "      <td>0</td>\n",
       "      <td>0</td>\n",
       "      <td>1</td>\n",
       "      <td>0</td>\n",
       "      <td>...</td>\n",
       "      <td>0</td>\n",
       "      <td>1</td>\n",
       "      <td>0</td>\n",
       "      <td>0</td>\n",
       "      <td>1</td>\n",
       "      <td>0</td>\n",
       "      <td>1</td>\n",
       "      <td>0</td>\n",
       "      <td>1</td>\n",
       "      <td>0</td>\n",
       "    </tr>\n",
       "  </tbody>\n",
       "</table>\n",
       "<p>5 rows × 51 columns</p>\n",
       "</div>"
      ],
      "text/plain": [
       "   age  fnlwgt  education-num  capital-gain  capital-loss  hours-per-week  \\\n",
       "0   39   77516              3          2174             0              40   \n",
       "1   50   83311              3             0             0              13   \n",
       "2   38  215646              2             0             0              40   \n",
       "3   53  234721              2             0             0              40   \n",
       "4   28  338409              3             0             0              40   \n",
       "\n",
       "   workclass_Federal-gov  workclass_Local-gov  workclass_Private  \\\n",
       "0                      0                    0                  0   \n",
       "1                      0                    0                  0   \n",
       "2                      0                    0                  1   \n",
       "3                      0                    0                  1   \n",
       "4                      0                    0                  1   \n",
       "\n",
       "   workclass_Self-emp-inc     ...       race_Asian-Pac-Islander  race_Black  \\\n",
       "0                       0     ...                             0           0   \n",
       "1                       0     ...                             0           0   \n",
       "2                       0     ...                             0           0   \n",
       "3                       0     ...                             0           1   \n",
       "4                       0     ...                             0           1   \n",
       "\n",
       "   race_Other  race_White  sex_Female  sex_Male  native-country_Non-US  \\\n",
       "0           0           1           0         1                      0   \n",
       "1           0           1           0         1                      0   \n",
       "2           0           1           0         1                      0   \n",
       "3           0           0           0         1                      0   \n",
       "4           0           0           1         0                      1   \n",
       "\n",
       "   native-country_United-States  income_<=50K  income_>50K  \n",
       "0                             1             1            0  \n",
       "1                             1             1            0  \n",
       "2                             1             1            0  \n",
       "3                             1             1            0  \n",
       "4                             0             1            0  \n",
       "\n",
       "[5 rows x 51 columns]"
      ]
     },
     "execution_count": 5,
     "metadata": {},
     "output_type": "execute_result"
    }
   ],
   "source": [
    "binary_data = pd.get_dummies(dataset)\n",
    "binary_data.head()"
   ]
  },
  {
   "cell_type": "markdown",
   "metadata": {},
   "source": [
    "Following plot shows the correlation between 'dummy' attributes."
   ]
  },
  {
   "cell_type": "code",
   "execution_count": 6,
   "metadata": {},
   "outputs": [
    {
     "data": {
      "text/plain": [
       "<matplotlib.axes._subplots.AxesSubplot at 0x1dad3150>"
      ]
     },
     "execution_count": 6,
     "metadata": {},
     "output_type": "execute_result"
    },
    {
     "data": {
      "image/png": "[encoded data removed]",
      "text/plain": [
       "<Figure size 1440x1440 with 2 Axes>"
      ]
     },
     "metadata": {},
     "output_type": "display_data"
    }
   ],
   "source": [
    "plt.subplots(figsize=(20,20))\n",
    "sns.heatmap(binary_data.corr(), square=True)"
   ]
  },
  {
   "cell_type": "code",
   "execution_count": 7,
   "metadata": {},
   "outputs": [
    {
     "data": {
      "text/plain": [
       "(30162, 50)"
      ]
     },
     "execution_count": 7,
     "metadata": {},
     "output_type": "execute_result"
    }
   ],
   "source": [
    "# define target value\n",
    "y = binary_data['education-num']\n",
    "X = binary_data.drop('education-num', axis=1)\n",
    "\n",
    "# scale\n",
    "scaler = preprocessing.StandardScaler()\n",
    "X = pd.DataFrame(scaler.fit_transform(X), columns=X.columns)\n",
    "X.shape"
   ]
  },
  {
   "cell_type": "code",
   "execution_count": 8,
   "metadata": {},
   "outputs": [],
   "source": [
    "# define classifier\n",
    "clf = LogisticRegression(random_state=0, solver='lbfgs')"
   ]
  },
  {
   "cell_type": "code",
   "execution_count": 9,
   "metadata": {},
   "outputs": [
    {
     "name": "stdout",
     "output_type": "stream",
     "text": [
      "F1 score: 0.61 (+/- 0.02)\n"
     ]
    }
   ],
   "source": [
    "# cross validation scores \n",
    "scores = model_selection.cross_val_score(clf, X, y, cv=10, scoring='f1_micro')\n",
    "print(\"F1 score: %0.2f (+/- %0.2f)\" \n",
    "      % (scores.mean(), scores.std() * 2))\n",
    "\n",
    "# prediction\n",
    "predicted = model_selection.cross_val_predict(clf, X, y, cv=10)\n",
    "f1_k1 = metrics.f1_score(y, predicted, average='micro')"
   ]
  },
  {
   "cell_type": "markdown",
   "metadata": {},
   "source": [
    "This is nice f1 score :)"
   ]
  },
  {
   "cell_type": "code",
   "execution_count": 10,
   "metadata": {},
   "outputs": [
    {
     "data": {
      "text/plain": [
       "0.6146807240899145"
      ]
     },
     "execution_count": 10,
     "metadata": {},
     "output_type": "execute_result"
    }
   ],
   "source": [
    "metrics.accuracy_score(y, predicted)"
   ]
  },
  {
   "cell_type": "code",
   "execution_count": 11,
   "metadata": {},
   "outputs": [
    {
     "data": {
      "text/plain": [
       "array([[  78,  854,  107,    2],\n",
       "       [  63, 8464, 3978,   35],\n",
       "       [  20, 4348, 9347,  322],\n",
       "       [   0,  103, 1790,  651]], dtype=int64)"
      ]
     },
     "execution_count": 11,
     "metadata": {},
     "output_type": "execute_result"
    }
   ],
   "source": [
    "metrics.confusion_matrix(y, predicted)"
   ]
  },
  {
   "cell_type": "markdown",
   "metadata": {},
   "source": [
    "## 2. 3-anonymous data classification using Logistic Regression"
   ]
  },
  {
   "cell_type": "markdown",
   "metadata": {},
   "source": [
    "We check performance of 3-anonymous data obtained with ARX tool with three following settings:\n",
    "<ol>\n",
    "<li>partial anonymization with defined hierarchies\n",
    "<li>partial anonymization without defined hierarchies\n",
    "<li>partial anonymization only for non-countinuous data with defined hierarchies"
   ]
  },
  {
   "cell_type": "markdown",
   "metadata": {},
   "source": [
    "### 2.1. Partial anonymization with defined hierarchies"
   ]
  },
  {
   "cell_type": "code",
   "execution_count": 12,
   "metadata": {},
   "outputs": [],
   "source": [
    "def number_encode_features(ds):\n",
    "    result = ds.copy()\n",
    "    encoders = {}\n",
    "    for feature in result.columns:\n",
    "        if result.dtypes[feature] == np.object:\n",
    "            encoders[feature] = preprocessing.LabelEncoder()\n",
    "            result[feature] = encoders[feature].fit_transform(result[feature].astype(str))\n",
    "    return result, encoders"
   ]
  },
  {
   "cell_type": "code",
   "execution_count": 14,
   "metadata": {},
   "outputs": [
    {
     "name": "stdout",
     "output_type": "stream",
     "text": [
      "F1 score: 0.44 (+/- 0.10)\n"
     ]
    },
    {
     "data": {
      "text/plain": [
       "0.44254359790464826"
      ]
     },
     "execution_count": 14,
     "metadata": {},
     "output_type": "execute_result"
    }
   ],
   "source": [
    "#read data\n",
    "dataset = pd.read_csv(\"../../data/ARX/multi-class-edu/adult_k3.csv\", \n",
    "                      sep=r'\\s*,\\s*', na_values=\"*\", engine='python')\n",
    "\n",
    "# preprocess\n",
    "del dataset['fnlwgt']\n",
    "dataset_encoded, encoders = number_encode_features(dataset)\n",
    "\n",
    "# define target value\n",
    "y = dataset_encoded['education-num']\n",
    "X = dataset_encoded.drop('education-num', axis=1)\n",
    "\n",
    "# scale\n",
    "scaler = preprocessing.StandardScaler()\n",
    "X = pd.DataFrame(scaler.fit_transform(X), columns=X.columns)\n",
    "\n",
    "# cross validation scores \n",
    "scores = model_selection.cross_val_score(clf, X, y, cv=10, scoring='f1_micro')\n",
    "print(\"F1 score: %0.2f (+/- %0.2f)\" \n",
    "      % (scores.mean(), scores.std() * 2))\n",
    "\n",
    "# prediction\n",
    "predicted = model_selection.cross_val_predict(clf, X, y, cv=10)\n",
    "metrics.f1_score(y, predicted, average='micro')"
   ]
  },
  {
   "cell_type": "code",
   "execution_count": 15,
   "metadata": {},
   "outputs": [
    {
     "data": {
      "text/html": [
       "<div>\n",
       "<style scoped>\n",
       "    .dataframe tbody tr th:only-of-type {\n",
       "        vertical-align: middle;\n",
       "    }\n",
       "\n",
       "    .dataframe tbody tr th {\n",
       "        vertical-align: top;\n",
       "    }\n",
       "\n",
       "    .dataframe thead th {\n",
       "        text-align: right;\n",
       "    }\n",
       "</style>\n",
       "<table border=\"1\" class=\"dataframe\">\n",
       "  <thead>\n",
       "    <tr style=\"text-align: right;\">\n",
       "      <th></th>\n",
       "      <th>age</th>\n",
       "      <th>workclass</th>\n",
       "      <th>education-num</th>\n",
       "      <th>marital-status</th>\n",
       "      <th>occupation</th>\n",
       "      <th>relationship</th>\n",
       "      <th>race</th>\n",
       "      <th>sex</th>\n",
       "      <th>capital-gain</th>\n",
       "      <th>capital-loss</th>\n",
       "      <th>hours-per-week</th>\n",
       "      <th>native-country</th>\n",
       "      <th>income</th>\n",
       "    </tr>\n",
       "  </thead>\n",
       "  <tbody>\n",
       "    <tr>\n",
       "      <th>0</th>\n",
       "      <td>NaN</td>\n",
       "      <td>NaN</td>\n",
       "      <td>3</td>\n",
       "      <td>NaN</td>\n",
       "      <td>NaN</td>\n",
       "      <td>NaN</td>\n",
       "      <td>NaN</td>\n",
       "      <td>Female</td>\n",
       "      <td>0</td>\n",
       "      <td>0</td>\n",
       "      <td>NaN</td>\n",
       "      <td>Non-US</td>\n",
       "      <td>&lt;=50K</td>\n",
       "    </tr>\n",
       "    <tr>\n",
       "      <th>1</th>\n",
       "      <td>NaN</td>\n",
       "      <td>NaN</td>\n",
       "      <td>3</td>\n",
       "      <td>NaN</td>\n",
       "      <td>NaN</td>\n",
       "      <td>NaN</td>\n",
       "      <td>NaN</td>\n",
       "      <td>Female</td>\n",
       "      <td>0</td>\n",
       "      <td>0</td>\n",
       "      <td>NaN</td>\n",
       "      <td>Non-US</td>\n",
       "      <td>&lt;=50K</td>\n",
       "    </tr>\n",
       "    <tr>\n",
       "      <th>2</th>\n",
       "      <td>NaN</td>\n",
       "      <td>NaN</td>\n",
       "      <td>2</td>\n",
       "      <td>NaN</td>\n",
       "      <td>NaN</td>\n",
       "      <td>NaN</td>\n",
       "      <td>NaN</td>\n",
       "      <td>Female</td>\n",
       "      <td>0</td>\n",
       "      <td>0</td>\n",
       "      <td>NaN</td>\n",
       "      <td>Non-US</td>\n",
       "      <td>&lt;=50K</td>\n",
       "    </tr>\n",
       "    <tr>\n",
       "      <th>3</th>\n",
       "      <td>NaN</td>\n",
       "      <td>NaN</td>\n",
       "      <td>2</td>\n",
       "      <td>NaN</td>\n",
       "      <td>NaN</td>\n",
       "      <td>NaN</td>\n",
       "      <td>NaN</td>\n",
       "      <td>Male</td>\n",
       "      <td>0</td>\n",
       "      <td>0</td>\n",
       "      <td>NaN</td>\n",
       "      <td>Non-US</td>\n",
       "      <td>&lt;=50K</td>\n",
       "    </tr>\n",
       "    <tr>\n",
       "      <th>4</th>\n",
       "      <td>NaN</td>\n",
       "      <td>NaN</td>\n",
       "      <td>3</td>\n",
       "      <td>NaN</td>\n",
       "      <td>NaN</td>\n",
       "      <td>NaN</td>\n",
       "      <td>NaN</td>\n",
       "      <td>Male</td>\n",
       "      <td>0</td>\n",
       "      <td>2179</td>\n",
       "      <td>NaN</td>\n",
       "      <td>Non-US</td>\n",
       "      <td>&lt;=50K</td>\n",
       "    </tr>\n",
       "  </tbody>\n",
       "</table>\n",
       "</div>"
      ],
      "text/plain": [
       "   age workclass  education-num marital-status occupation relationship race  \\\n",
       "0  NaN       NaN              3            NaN        NaN          NaN  NaN   \n",
       "1  NaN       NaN              3            NaN        NaN          NaN  NaN   \n",
       "2  NaN       NaN              2            NaN        NaN          NaN  NaN   \n",
       "3  NaN       NaN              2            NaN        NaN          NaN  NaN   \n",
       "4  NaN       NaN              3            NaN        NaN          NaN  NaN   \n",
       "\n",
       "      sex  capital-gain  capital-loss hours-per-week native-country income  \n",
       "0  Female             0             0            NaN         Non-US  <=50K  \n",
       "1  Female             0             0            NaN         Non-US  <=50K  \n",
       "2  Female             0             0            NaN         Non-US  <=50K  \n",
       "3    Male             0             0            NaN         Non-US  <=50K  \n",
       "4    Male             0          2179            NaN         Non-US  <=50K  "
      ]
     },
     "execution_count": 15,
     "metadata": {},
     "output_type": "execute_result"
    }
   ],
   "source": [
    "dataset.head()"
   ]
  },
  {
   "cell_type": "markdown",
   "metadata": {},
   "source": [
    "### 2.2. Partial anonymization without hierarchies"
   ]
  },
  {
   "cell_type": "code",
   "execution_count": 16,
   "metadata": {},
   "outputs": [
    {
     "data": {
      "text/html": [
       "<div>\n",
       "<style scoped>\n",
       "    .dataframe tbody tr th:only-of-type {\n",
       "        vertical-align: middle;\n",
       "    }\n",
       "\n",
       "    .dataframe tbody tr th {\n",
       "        vertical-align: top;\n",
       "    }\n",
       "\n",
       "    .dataframe thead th {\n",
       "        text-align: right;\n",
       "    }\n",
       "</style>\n",
       "<table border=\"1\" class=\"dataframe\">\n",
       "  <thead>\n",
       "    <tr style=\"text-align: right;\">\n",
       "      <th></th>\n",
       "      <th>age</th>\n",
       "      <th>workclass</th>\n",
       "      <th>fnlwgt</th>\n",
       "      <th>education-num</th>\n",
       "      <th>marital-status</th>\n",
       "      <th>occupation</th>\n",
       "      <th>relationship</th>\n",
       "      <th>race</th>\n",
       "      <th>sex</th>\n",
       "      <th>capital-gain</th>\n",
       "      <th>capital-loss</th>\n",
       "      <th>hours-per-week</th>\n",
       "      <th>native-country</th>\n",
       "      <th>income</th>\n",
       "    </tr>\n",
       "  </thead>\n",
       "  <tbody>\n",
       "    <tr>\n",
       "      <th>0</th>\n",
       "      <td>42.0</td>\n",
       "      <td>Federal-gov</td>\n",
       "      <td>NaN</td>\n",
       "      <td>3</td>\n",
       "      <td>Divorced</td>\n",
       "      <td>Adm-clerical</td>\n",
       "      <td>Not-in-family</td>\n",
       "      <td>White</td>\n",
       "      <td>Female</td>\n",
       "      <td>0</td>\n",
       "      <td>0</td>\n",
       "      <td>40.0</td>\n",
       "      <td>United-States</td>\n",
       "      <td>&lt;=50K</td>\n",
       "    </tr>\n",
       "    <tr>\n",
       "      <th>1</th>\n",
       "      <td>42.0</td>\n",
       "      <td>Federal-gov</td>\n",
       "      <td>NaN</td>\n",
       "      <td>2</td>\n",
       "      <td>Divorced</td>\n",
       "      <td>Adm-clerical</td>\n",
       "      <td>Not-in-family</td>\n",
       "      <td>White</td>\n",
       "      <td>Female</td>\n",
       "      <td>0</td>\n",
       "      <td>0</td>\n",
       "      <td>40.0</td>\n",
       "      <td>United-States</td>\n",
       "      <td>&lt;=50K</td>\n",
       "    </tr>\n",
       "    <tr>\n",
       "      <th>2</th>\n",
       "      <td>42.0</td>\n",
       "      <td>Federal-gov</td>\n",
       "      <td>NaN</td>\n",
       "      <td>2</td>\n",
       "      <td>Divorced</td>\n",
       "      <td>Adm-clerical</td>\n",
       "      <td>Not-in-family</td>\n",
       "      <td>White</td>\n",
       "      <td>Female</td>\n",
       "      <td>0</td>\n",
       "      <td>0</td>\n",
       "      <td>40.0</td>\n",
       "      <td>United-States</td>\n",
       "      <td>&lt;=50K</td>\n",
       "    </tr>\n",
       "    <tr>\n",
       "      <th>3</th>\n",
       "      <td>37.0</td>\n",
       "      <td>Local-gov</td>\n",
       "      <td>NaN</td>\n",
       "      <td>3</td>\n",
       "      <td>Divorced</td>\n",
       "      <td>Adm-clerical</td>\n",
       "      <td>Unmarried</td>\n",
       "      <td>White</td>\n",
       "      <td>Female</td>\n",
       "      <td>0</td>\n",
       "      <td>0</td>\n",
       "      <td>40.0</td>\n",
       "      <td>United-States</td>\n",
       "      <td>&lt;=50K</td>\n",
       "    </tr>\n",
       "    <tr>\n",
       "      <th>4</th>\n",
       "      <td>37.0</td>\n",
       "      <td>Local-gov</td>\n",
       "      <td>NaN</td>\n",
       "      <td>2</td>\n",
       "      <td>Divorced</td>\n",
       "      <td>Adm-clerical</td>\n",
       "      <td>Unmarried</td>\n",
       "      <td>White</td>\n",
       "      <td>Female</td>\n",
       "      <td>0</td>\n",
       "      <td>0</td>\n",
       "      <td>40.0</td>\n",
       "      <td>United-States</td>\n",
       "      <td>&lt;=50K</td>\n",
       "    </tr>\n",
       "  </tbody>\n",
       "</table>\n",
       "</div>"
      ],
      "text/plain": [
       "    age    workclass  fnlwgt  education-num marital-status    occupation  \\\n",
       "0  42.0  Federal-gov     NaN              3       Divorced  Adm-clerical   \n",
       "1  42.0  Federal-gov     NaN              2       Divorced  Adm-clerical   \n",
       "2  42.0  Federal-gov     NaN              2       Divorced  Adm-clerical   \n",
       "3  37.0    Local-gov     NaN              3       Divorced  Adm-clerical   \n",
       "4  37.0    Local-gov     NaN              2       Divorced  Adm-clerical   \n",
       "\n",
       "    relationship   race     sex  capital-gain  capital-loss  hours-per-week  \\\n",
       "0  Not-in-family  White  Female             0             0            40.0   \n",
       "1  Not-in-family  White  Female             0             0            40.0   \n",
       "2  Not-in-family  White  Female             0             0            40.0   \n",
       "3      Unmarried  White  Female             0             0            40.0   \n",
       "4      Unmarried  White  Female             0             0            40.0   \n",
       "\n",
       "  native-country income  \n",
       "0  United-States  <=50K  \n",
       "1  United-States  <=50K  \n",
       "2  United-States  <=50K  \n",
       "3  United-States  <=50K  \n",
       "4  United-States  <=50K  "
      ]
     },
     "execution_count": 16,
     "metadata": {},
     "output_type": "execute_result"
    }
   ],
   "source": [
    "# import 3-anonymous dataset\n",
    "k = 3\n",
    "dataset = read_anon_data(k) \n",
    "dataset.head()"
   ]
  },
  {
   "cell_type": "markdown",
   "metadata": {},
   "source": [
    "Data is previously 3-anonymized using ARX. Local transformation was performed giving 3-anonymous dataset with values in columns anonymized to different values. Therefore, attribute *race* is in first 17 rows anonymized entirely, and form 18th row on the values are present. Similarily we have the same thing for other attributes.\n",
    "\n",
    "We will treat the completely anonymized values as missing values, which potentially creates the problem. Let's first see the distributions to see what we are dealing with."
   ]
  },
  {
   "cell_type": "code",
   "execution_count": 17,
   "metadata": {},
   "outputs": [
    {
     "name": "stdout",
     "output_type": "stream",
     "text": [
      "<class 'pandas.core.frame.DataFrame'>\n",
      "RangeIndex: 30162 entries, 0 to 30161\n",
      "Data columns (total 14 columns):\n",
      "age               7585 non-null float64\n",
      "workclass         7585 non-null object\n",
      "fnlwgt            0 non-null float64\n",
      "education-num     30162 non-null int64\n",
      "marital-status    7585 non-null object\n",
      "occupation        7585 non-null object\n",
      "relationship      7585 non-null object\n",
      "race              7585 non-null object\n",
      "sex               7585 non-null object\n",
      "capital-gain      30162 non-null int64\n",
      "capital-loss      30162 non-null int64\n",
      "hours-per-week    7585 non-null float64\n",
      "native-country    7585 non-null object\n",
      "income            7585 non-null object\n",
      "dtypes: float64(3), int64(3), object(8)\n",
      "memory usage: 2.3+ MB\n"
     ]
    }
   ],
   "source": [
    "dataset.info()"
   ]
  },
  {
   "cell_type": "code",
   "execution_count": 18,
   "metadata": {},
   "outputs": [
    {
     "data": {
      "text/plain": [
       "<matplotlib.axes._subplots.AxesSubplot at 0x1dc287b0>"
      ]
     },
     "execution_count": 18,
     "metadata": {},
     "output_type": "execute_result"
    },
    {
     "data": {
      "image/png": "[encoded data removed]",
      "text/plain": [
       "<Figure size 432x288 with 1 Axes>"
      ]
     },
     "metadata": {},
     "output_type": "display_data"
    }
   ],
   "source": [
    "sns.heatmap(dataset.isnull(), cbar=False)"
   ]
  },
  {
   "cell_type": "markdown",
   "metadata": {},
   "source": [
    "We see that in *occupation* we have a significant loss of the values, but in the other attributes results are fairly good. We can remove completely anonymized column *fnlwgt*"
   ]
  },
  {
   "cell_type": "code",
   "execution_count": 19,
   "metadata": {},
   "outputs": [
    {
     "data": {
      "text/plain": [
       "(30162, 13)"
      ]
     },
     "execution_count": 19,
     "metadata": {},
     "output_type": "execute_result"
    }
   ],
   "source": [
    "del dataset['fnlwgt']\n",
    "dataset['age'] = dataset['age'].astype(object)\n",
    "dataset['hours-per-week'] = dataset['hours-per-week'].astype(object)\n",
    "dataset.shape"
   ]
  },
  {
   "cell_type": "markdown",
   "metadata": {},
   "source": [
    "We will again group our education values and transfer attributes to binary/encode categorical features with numbers."
   ]
  },
  {
   "cell_type": "code",
   "execution_count": 20,
   "metadata": {},
   "outputs": [],
   "source": [
    "# OPTION 1 use binary data for classification - worked better with the original data\n",
    "# binary_data = pd.get_dummies(dataset)\n",
    "# binary_data.head()\n",
    "\n",
    "# OPTION 2 use number encoded features\n",
    "dataset_encoded, encoders = number_encode_features(dataset)"
   ]
  },
  {
   "cell_type": "markdown",
   "metadata": {},
   "source": [
    "In this case we have much more attributes than with non-anonymized data because we have introduced some new values during anonymization process. Now we have values from multiple levels of anonymization occuring for a single attribute. Thsi leads to havin ga sparse input matrix."
   ]
  },
  {
   "cell_type": "code",
   "execution_count": 21,
   "metadata": {},
   "outputs": [
    {
     "data": {
      "text/plain": [
       "(30162, 12)"
      ]
     },
     "execution_count": 21,
     "metadata": {},
     "output_type": "execute_result"
    }
   ],
   "source": [
    "# define target value\n",
    "y = dataset_encoded['education-num']\n",
    "X = dataset_encoded.drop('education-num', axis=1)\n",
    "\n",
    "# scale\n",
    "scaler = preprocessing.StandardScaler()\n",
    "X = pd.DataFrame(scaler.fit_transform(X), columns=X.columns)\n",
    "X.shape"
   ]
  },
  {
   "cell_type": "code",
   "execution_count": 22,
   "metadata": {},
   "outputs": [
    {
     "name": "stdout",
     "output_type": "stream",
     "text": [
      "F1 score: 0.45 (+/- 0.15)\n"
     ]
    }
   ],
   "source": [
    "# cross validation scores \n",
    "scores = model_selection.cross_val_score(clf, X, y, cv=10, scoring='f1_micro')\n",
    "print(\"F1 score: %0.2f (+/- %0.2f)\" \n",
    "      % (scores.mean(), scores.std() * 2))\n",
    "\n",
    "# prediction\n",
    "predicted = model_selection.cross_val_predict(clf, X, y, cv=10)\n",
    "f1_k3 = metrics.f1_score(y, predicted, average='micro')"
   ]
  },
  {
   "cell_type": "markdown",
   "metadata": {},
   "source": [
    "Let's try option 1."
   ]
  },
  {
   "cell_type": "code",
   "execution_count": 23,
   "metadata": {},
   "outputs": [
    {
     "data": {
      "text/html": [
       "<div>\n",
       "<style scoped>\n",
       "    .dataframe tbody tr th:only-of-type {\n",
       "        vertical-align: middle;\n",
       "    }\n",
       "\n",
       "    .dataframe tbody tr th {\n",
       "        vertical-align: top;\n",
       "    }\n",
       "\n",
       "    .dataframe thead th {\n",
       "        text-align: right;\n",
       "    }\n",
       "</style>\n",
       "<table border=\"1\" class=\"dataframe\">\n",
       "  <thead>\n",
       "    <tr style=\"text-align: right;\">\n",
       "      <th></th>\n",
       "      <th>education-num</th>\n",
       "      <th>capital-gain</th>\n",
       "      <th>capital-loss</th>\n",
       "      <th>age_17.0</th>\n",
       "      <th>age_18.0</th>\n",
       "      <th>age_19.0</th>\n",
       "      <th>age_20.0</th>\n",
       "      <th>age_21.0</th>\n",
       "      <th>age_22.0</th>\n",
       "      <th>age_23.0</th>\n",
       "      <th>...</th>\n",
       "      <th>hours-per-week_44.0</th>\n",
       "      <th>hours-per-week_45.0</th>\n",
       "      <th>hours-per-week_48.0</th>\n",
       "      <th>hours-per-week_50.0</th>\n",
       "      <th>hours-per-week_55.0</th>\n",
       "      <th>hours-per-week_60.0</th>\n",
       "      <th>native-country_Non-US</th>\n",
       "      <th>native-country_United-States</th>\n",
       "      <th>income_&lt;=50K</th>\n",
       "      <th>income_&gt;50K</th>\n",
       "    </tr>\n",
       "  </thead>\n",
       "  <tbody>\n",
       "    <tr>\n",
       "      <th>0</th>\n",
       "      <td>3</td>\n",
       "      <td>0</td>\n",
       "      <td>0</td>\n",
       "      <td>0</td>\n",
       "      <td>0</td>\n",
       "      <td>0</td>\n",
       "      <td>0</td>\n",
       "      <td>0</td>\n",
       "      <td>0</td>\n",
       "      <td>0</td>\n",
       "      <td>...</td>\n",
       "      <td>0</td>\n",
       "      <td>0</td>\n",
       "      <td>0</td>\n",
       "      <td>0</td>\n",
       "      <td>0</td>\n",
       "      <td>0</td>\n",
       "      <td>0</td>\n",
       "      <td>1</td>\n",
       "      <td>1</td>\n",
       "      <td>0</td>\n",
       "    </tr>\n",
       "    <tr>\n",
       "      <th>1</th>\n",
       "      <td>2</td>\n",
       "      <td>0</td>\n",
       "      <td>0</td>\n",
       "      <td>0</td>\n",
       "      <td>0</td>\n",
       "      <td>0</td>\n",
       "      <td>0</td>\n",
       "      <td>0</td>\n",
       "      <td>0</td>\n",
       "      <td>0</td>\n",
       "      <td>...</td>\n",
       "      <td>0</td>\n",
       "      <td>0</td>\n",
       "      <td>0</td>\n",
       "      <td>0</td>\n",
       "      <td>0</td>\n",
       "      <td>0</td>\n",
       "      <td>0</td>\n",
       "      <td>1</td>\n",
       "      <td>1</td>\n",
       "      <td>0</td>\n",
       "    </tr>\n",
       "    <tr>\n",
       "      <th>2</th>\n",
       "      <td>2</td>\n",
       "      <td>0</td>\n",
       "      <td>0</td>\n",
       "      <td>0</td>\n",
       "      <td>0</td>\n",
       "      <td>0</td>\n",
       "      <td>0</td>\n",
       "      <td>0</td>\n",
       "      <td>0</td>\n",
       "      <td>0</td>\n",
       "      <td>...</td>\n",
       "      <td>0</td>\n",
       "      <td>0</td>\n",
       "      <td>0</td>\n",
       "      <td>0</td>\n",
       "      <td>0</td>\n",
       "      <td>0</td>\n",
       "      <td>0</td>\n",
       "      <td>1</td>\n",
       "      <td>1</td>\n",
       "      <td>0</td>\n",
       "    </tr>\n",
       "    <tr>\n",
       "      <th>3</th>\n",
       "      <td>3</td>\n",
       "      <td>0</td>\n",
       "      <td>0</td>\n",
       "      <td>0</td>\n",
       "      <td>0</td>\n",
       "      <td>0</td>\n",
       "      <td>0</td>\n",
       "      <td>0</td>\n",
       "      <td>0</td>\n",
       "      <td>0</td>\n",
       "      <td>...</td>\n",
       "      <td>0</td>\n",
       "      <td>0</td>\n",
       "      <td>0</td>\n",
       "      <td>0</td>\n",
       "      <td>0</td>\n",
       "      <td>0</td>\n",
       "      <td>0</td>\n",
       "      <td>1</td>\n",
       "      <td>1</td>\n",
       "      <td>0</td>\n",
       "    </tr>\n",
       "    <tr>\n",
       "      <th>4</th>\n",
       "      <td>2</td>\n",
       "      <td>0</td>\n",
       "      <td>0</td>\n",
       "      <td>0</td>\n",
       "      <td>0</td>\n",
       "      <td>0</td>\n",
       "      <td>0</td>\n",
       "      <td>0</td>\n",
       "      <td>0</td>\n",
       "      <td>0</td>\n",
       "      <td>...</td>\n",
       "      <td>0</td>\n",
       "      <td>0</td>\n",
       "      <td>0</td>\n",
       "      <td>0</td>\n",
       "      <td>0</td>\n",
       "      <td>0</td>\n",
       "      <td>0</td>\n",
       "      <td>1</td>\n",
       "      <td>1</td>\n",
       "      <td>0</td>\n",
       "    </tr>\n",
       "  </tbody>\n",
       "</table>\n",
       "<p>5 rows × 112 columns</p>\n",
       "</div>"
      ],
      "text/plain": [
       "   education-num  capital-gain  capital-loss  age_17.0  age_18.0  age_19.0  \\\n",
       "0              3             0             0         0         0         0   \n",
       "1              2             0             0         0         0         0   \n",
       "2              2             0             0         0         0         0   \n",
       "3              3             0             0         0         0         0   \n",
       "4              2             0             0         0         0         0   \n",
       "\n",
       "   age_20.0  age_21.0  age_22.0  age_23.0     ...       hours-per-week_44.0  \\\n",
       "0         0         0         0         0     ...                         0   \n",
       "1         0         0         0         0     ...                         0   \n",
       "2         0         0         0         0     ...                         0   \n",
       "3         0         0         0         0     ...                         0   \n",
       "4         0         0         0         0     ...                         0   \n",
       "\n",
       "   hours-per-week_45.0  hours-per-week_48.0  hours-per-week_50.0  \\\n",
       "0                    0                    0                    0   \n",
       "1                    0                    0                    0   \n",
       "2                    0                    0                    0   \n",
       "3                    0                    0                    0   \n",
       "4                    0                    0                    0   \n",
       "\n",
       "   hours-per-week_55.0  hours-per-week_60.0  native-country_Non-US  \\\n",
       "0                    0                    0                      0   \n",
       "1                    0                    0                      0   \n",
       "2                    0                    0                      0   \n",
       "3                    0                    0                      0   \n",
       "4                    0                    0                      0   \n",
       "\n",
       "   native-country_United-States  income_<=50K  income_>50K  \n",
       "0                             1             1            0  \n",
       "1                             1             1            0  \n",
       "2                             1             1            0  \n",
       "3                             1             1            0  \n",
       "4                             1             1            0  \n",
       "\n",
       "[5 rows x 112 columns]"
      ]
     },
     "execution_count": 23,
     "metadata": {},
     "output_type": "execute_result"
    }
   ],
   "source": [
    "# OPTION 1 use binary data for classification - worked better with the original data\n",
    "binary_data = pd.get_dummies(dataset)\n",
    "binary_data.head()"
   ]
  },
  {
   "cell_type": "code",
   "execution_count": 24,
   "metadata": {},
   "outputs": [
    {
     "data": {
      "text/plain": [
       "(30162, 111)"
      ]
     },
     "execution_count": 24,
     "metadata": {},
     "output_type": "execute_result"
    }
   ],
   "source": [
    "# define target value\n",
    "y_bin = binary_data['education-num']\n",
    "X_bin = binary_data.drop('education-num', axis=1)\n",
    "\n",
    "# scale\n",
    "scaler = preprocessing.StandardScaler()\n",
    "X_bin = pd.DataFrame(scaler.fit_transform(X_bin), columns=X_bin.columns)\n",
    "X_bin.shape"
   ]
  },
  {
   "cell_type": "code",
   "execution_count": 25,
   "metadata": {},
   "outputs": [
    {
     "name": "stdout",
     "output_type": "stream",
     "text": [
      "F1 score: 0.44 (+/- 0.13)\n"
     ]
    },
    {
     "data": {
      "text/plain": [
       "0.4445991645116372"
      ]
     },
     "execution_count": 25,
     "metadata": {},
     "output_type": "execute_result"
    }
   ],
   "source": [
    "# cross validation scores \n",
    "scores = model_selection.cross_val_score(clf, X_bin, y_bin, cv=10, scoring='f1_micro')\n",
    "print(\"F1 score: %0.2f (+/- %0.2f)\" \n",
    "      % (scores.mean(), scores.std() * 2))\n",
    "\n",
    "# prediction\n",
    "predicted = model_selection.cross_val_predict(clf, X_bin, y_bin, cv=10)\n",
    "metrics.f1_score(y_bin, predicted, average='micro')"
   ]
  },
  {
   "cell_type": "markdown",
   "metadata": {},
   "source": [
    "We can stick to number-encoded features."
   ]
  },
  {
   "cell_type": "markdown",
   "metadata": {},
   "source": [
    "F1 score for this case seems fine, almost the same as case 1. The important insight here is that for the value of k > 23 data is already completely anonymized and useless."
   ]
  },
  {
   "cell_type": "markdown",
   "metadata": {},
   "source": [
    "### 2.3. Partial anonymization on non-continuous attributes"
   ]
  },
  {
   "cell_type": "code",
   "execution_count": 27,
   "metadata": {},
   "outputs": [
    {
     "name": "stdout",
     "output_type": "stream",
     "text": [
      "F1 score: 0.44 (+/- 0.13)\n"
     ]
    },
    {
     "data": {
      "text/plain": [
       "0.43882474295411433"
      ]
     },
     "execution_count": 27,
     "metadata": {},
     "output_type": "execute_result"
    }
   ],
   "source": [
    "#read data\n",
    "dataset = pd.read_csv(\"../../data/ARX/without-contin-hie/adult_k3_done.csv\", \n",
    "                      sep=r'\\s*,\\s*', na_values=\"*\", engine='python')\n",
    "\n",
    "# preprocess\n",
    "dataset_encoded, encoders = number_encode_features(dataset)\n",
    "\n",
    "# define target value\n",
    "y = dataset_encoded['education-num']\n",
    "X = dataset_encoded.drop('education-num', axis=1)\n",
    "\n",
    "# scale\n",
    "scaler = preprocessing.StandardScaler()\n",
    "X = pd.DataFrame(scaler.fit_transform(X), columns=X.columns)\n",
    "\n",
    "# define classifier\n",
    "clf = LogisticRegression(random_state=0, solver='lbfgs')\n",
    "\n",
    "# cross validation scores \n",
    "scores = model_selection.cross_val_score(clf, X, y, cv=10, scoring='f1_micro')\n",
    "print(\"F1 score: %0.2f (+/- %0.2f)\" \n",
    "      % (scores.mean(), scores.std() * 2))\n",
    "\n",
    "# prediction\n",
    "predicted = model_selection.cross_val_predict(clf, X, y, cv=10)\n",
    "metrics.f1_score(y, predicted, average='micro')"
   ]
  },
  {
   "cell_type": "markdown",
   "metadata": {},
   "source": [
    "## Performance comparison"
   ]
  },
  {
   "cell_type": "markdown",
   "metadata": {},
   "source": [
    "In this part we will perform anonymization using ARX on the adult dataset for a range of values of k: 3,7,11,15,19,23,27,31,35,100. We will continue to perform multi-class classification with target *education-num* clustered in 4 groups, and using Logistic Regression, as described in 2.1. and 2.3., respectively."
   ]
  },
  {
   "cell_type": "code",
   "execution_count": 28,
   "metadata": {},
   "outputs": [],
   "source": [
    "# define k-s\n",
    "# import data\n",
    "# (remove useless columns)\n",
    "# group education values\n",
    "# encode features\n",
    "# define target value\n",
    "# scale\n",
    "# cross validation prediction\n",
    "# store f1 value\n",
    "\n",
    "k_values = [1, 3, 7, 11, 15, 19, 23, 27, 31, 35, 100]\n",
    "f1_scores1 = [0.6146807240899145]\n",
    "f1_scores_bin = [0.6146807240899145]\n",
    "f1_scores2 = [0.6146807240899145]\n",
    "\n",
    "for k in k_values:\n",
    "    if k is 1:\n",
    "        continue\n",
    "    dataset1 = pd.read_csv(\"../../data/ARX/multi-class-edu/adult_k\" + str(k) + \".csv\", \n",
    "                      sep=r'\\s*,\\s*', na_values=\"*\", engine='python')\n",
    "    dataset2 = pd.read_csv(\"../../data/ARX/without-contin-hie/adult_k\" + str(k) + \n",
    "                          \"_done.csv\", sep=r'\\s*,\\s*', na_values=\"*\", engine='python')\n",
    "    \n",
    "    # preprocessing\n",
    "    del dataset1['fnlwgt']\n",
    "    \n",
    "    dataset_encoded1, encoders1 = number_encode_features(dataset1)\n",
    "    binary_data1 = pd.get_dummies(dataset1)\n",
    "    dataset_encoded2, encoders2 = number_encode_features(dataset2)\n",
    "    \n",
    "    # define target\n",
    "    y1 = dataset_encoded1['education-num']\n",
    "    X1 = dataset_encoded1.drop('education-num', axis=1)\n",
    "    \n",
    "    y_bin = binary_data1['education-num']\n",
    "    X_bin = binary_data1.drop('education-num', axis=1)\n",
    "    \n",
    "    y2 = dataset_encoded2['education-num']\n",
    "    X2 = dataset_encoded2.drop('education-num', axis=1)\n",
    "    \n",
    "    # preprocessing 2\n",
    "    X1 = pd.DataFrame(scaler.fit_transform(X1), columns=X1.columns)\n",
    "    X_bin = pd.DataFrame(scaler.fit_transform(X_bin), columns=X_bin.columns)\n",
    "    X2 = pd.DataFrame(scaler.fit_transform(X2), columns=X2.columns)\n",
    "    \n",
    "    predicted1 = model_selection.cross_val_predict(clf, X1, y1, cv=10)\n",
    "    f1_scores1.append(metrics.f1_score(y1, predicted1, average='micro'))\n",
    "    \n",
    "    predicted_bin = model_selection.cross_val_predict(clf, X_bin, y_bin, cv=10)\n",
    "    f1_scores_bin.append(metrics.f1_score(y_bin, predicted_bin, average='micro'))\n",
    "    \n",
    "    predicted2 = model_selection.cross_val_predict(clf, X2, y2, cv=10)\n",
    "    f1_scores2.append(metrics.f1_score(y2, predicted2, average='micro'))"
   ]
  },
  {
   "cell_type": "code",
   "execution_count": 29,
   "metadata": {},
   "outputs": [
    {
     "data": {
      "text/plain": [
       "Text(0.5,0,'k')"
      ]
     },
     "execution_count": 29,
     "metadata": {},
     "output_type": "execute_result"
    },
    {
     "data": {
      "image/png": "[encoded data removed]",
      "text/plain": [
       "<Figure size 1080x720 with 3 Axes>"
      ]
     },
     "metadata": {},
     "output_type": "display_data"
    }
   ],
   "source": [
    "# visualize how f1 score depends on k\n",
    "fig = plt.figure(figsize=(15,10))\n",
    "ax = fig.add_subplot(2, 2, 1)\n",
    "ax.set_title('Logistic Regression - case (2.1) number-encoded data')\n",
    "\n",
    "plt.plot(k_values, f1_scores1, 'bo', k_values, f1_scores1, 'k')\n",
    "plt.ylabel('f1 score')\n",
    "plt.xlabel('k')\n",
    "\n",
    "ax = fig.add_subplot(2, 2, 2)\n",
    "ax.set_title('Logistic Regression - case (2.1) binary data')\n",
    "\n",
    "plt.plot(k_values, f1_scores_bin, 'bo', k_values, f1_scores_bin, 'k')\n",
    "plt.ylabel('f1 score')\n",
    "plt.xlabel('k')\n",
    "\n",
    "ax = fig.add_subplot(2, 2, 3)\n",
    "ax.set_title('Logistic Regression - case (2.3)')\n",
    "\n",
    "plt.plot(k_values, f1_scores2, 'bo', k_values, f1_scores2, 'k')\n",
    "plt.ylabel('f1 score')\n",
    "plt.xlabel('k')"
   ]
  },
  {
   "cell_type": "code",
   "execution_count": 30,
   "metadata": {},
   "outputs": [],
   "source": [
    "# pickle f1 scores 2.1\n",
    "outfile = open('../../data/ARX/multi-class-edu/LR_f1_scores', 'wb')\n",
    "pickle.dump(f1_scores1, outfile)\n",
    "outfile.close()"
   ]
  },
  {
   "cell_type": "code",
   "execution_count": 31,
   "metadata": {},
   "outputs": [],
   "source": [
    "# pickle f1 scores 2.3\n",
    "outfile = open('../../data/ARX/without-contin-hie/LR_f1_scores', 'wb')\n",
    "pickle.dump(f1_scores2, outfile)\n",
    "outfile.close()"
   ]
  }
 ],
 "metadata": {
  "kernelspec": {
   "display_name": "Python 3",
   "language": "python",
   "name": "python3"
  },
  "language_info": {
   "codemirror_mode": {
    "name": "ipython",
    "version": 3
   },
   "file_extension": ".py",
   "mimetype": "text/x-python",
   "name": "python",
   "nbconvert_exporter": "python",
   "pygments_lexer": "ipython3",
   "version": "3.7.0"
  }
 },
 "nbformat": 4,
 "nbformat_minor": 2
}
