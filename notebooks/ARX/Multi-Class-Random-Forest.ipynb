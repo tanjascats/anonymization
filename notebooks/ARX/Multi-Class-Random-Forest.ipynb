{
 "cells": [
  {
   "cell_type": "markdown",
   "metadata": {},
   "source": [
    "# Multi-class Classification of Anonymized 'Adult' Dataset - Random Forest"
   ]
  },
  {
   "cell_type": "markdown",
   "metadata": {},
   "source": [
    "This notebook contains similar experiments as \"Multi-class Classification of Anonymized 'Adult' Dataset - Logistic Regression\". In that notebook we saw results that are similar no matter how we anonymize data. Random Forest, however shows different results and for that reason we examine that in separate notebook. \n",
    "The outline is as follows:\n",
    "<ol>\n",
    "    <li>In the first part we predict 'education-num' attribute based on the original data</li>\n",
    "    <li>In the second part we use 3-anonymous data obtained with ARX tool\n",
    "        <ul>\n",
    "            <li>partial anonymization with defined hierarchies\n",
    "            <li>partial anonymization without defined hierarchies\n",
    "            <li>partial anonymization only for **non-countinuous** data with defined hierarchies\n",
    "        </ul>\n",
    "    </li>\n",
    "    <li>In the last part we compare performances on all other chosen k-values (3,7,11,15,19,23)</li>\n",
    "  </ol>\n",
    "Anonymization done without any defined hierarchies means that all the attributes have two levels of anonymity: non-anonymous(original value) and completely anonymous(\\*). Furthermore, the used partial anonymization means that it is possible to anonymize only part of a single column."
   ]
  },
  {
   "cell_type": "markdown",
   "metadata": {},
   "source": [
    "## 1. Classification of Original Data Using Random Forest"
   ]
  },
  {
   "cell_type": "code",
   "execution_count": 1,
   "metadata": {
    "scrolled": true
   },
   "outputs": [
    {
     "name": "stderr",
     "output_type": "stream",
     "text": [
      "c:\\users\\tsarcevic\\appdata\\local\\programs\\python\\python37-32\\lib\\site-packages\\sklearn\\ensemble\\weight_boosting.py:29: DeprecationWarning: numpy.core.umath_tests is an internal NumPy module and should not be imported. It will be removed in a future NumPy release.\n",
      "  from numpy.core.umath_tests import inner1d\n"
     ]
    }
   ],
   "source": [
    "import pandas as pd\n",
    "import matplotlib.pyplot as plt\n",
    "import numpy as np\n",
    "import seaborn as sns\n",
    "import pickle\n",
    "from sklearn import metrics, preprocessing, model_selection\n",
    "from sklearn.ensemble import RandomForestClassifier"
   ]
  },
  {
   "cell_type": "code",
   "execution_count": 2,
   "metadata": {},
   "outputs": [],
   "source": [
    "# reads the data from the csv file with specific filepath\n",
    "def read_anon_data(k):\n",
    "    directory = \"../../data/ARX/without-hierarchies/adult_k\"\n",
    "    ext = \".csv\"\n",
    "    filepath = directory + str(k) + ext\n",
    "    dataset = pd.read_csv(filepath, sep=r'\\s*,\\s*', na_values=\"*\", engine='python')\n",
    "    return dataset"
   ]
  },
  {
   "cell_type": "code",
   "execution_count": 3,
   "metadata": {},
   "outputs": [
    {
     "data": {
      "text/html": [
       "<div>\n",
       "<style scoped>\n",
       "    .dataframe tbody tr th:only-of-type {\n",
       "        vertical-align: middle;\n",
       "    }\n",
       "\n",
       "    .dataframe tbody tr th {\n",
       "        vertical-align: top;\n",
       "    }\n",
       "\n",
       "    .dataframe thead th {\n",
       "        text-align: right;\n",
       "    }\n",
       "</style>\n",
       "<table border=\"1\" class=\"dataframe\">\n",
       "  <thead>\n",
       "    <tr style=\"text-align: right;\">\n",
       "      <th></th>\n",
       "      <th>age</th>\n",
       "      <th>workclass</th>\n",
       "      <th>fnlwgt</th>\n",
       "      <th>education-num</th>\n",
       "      <th>marital-status</th>\n",
       "      <th>occupation</th>\n",
       "      <th>relationship</th>\n",
       "      <th>race</th>\n",
       "      <th>sex</th>\n",
       "      <th>capital-gain</th>\n",
       "      <th>capital-loss</th>\n",
       "      <th>hours-per-week</th>\n",
       "      <th>native-country</th>\n",
       "      <th>income</th>\n",
       "    </tr>\n",
       "  </thead>\n",
       "  <tbody>\n",
       "    <tr>\n",
       "      <th>0</th>\n",
       "      <td>39</td>\n",
       "      <td>State-gov</td>\n",
       "      <td>77516</td>\n",
       "      <td>13</td>\n",
       "      <td>Never-married</td>\n",
       "      <td>Adm-clerical</td>\n",
       "      <td>Not-in-family</td>\n",
       "      <td>White</td>\n",
       "      <td>Male</td>\n",
       "      <td>2174</td>\n",
       "      <td>0</td>\n",
       "      <td>40</td>\n",
       "      <td>United-States</td>\n",
       "      <td>&lt;=50K</td>\n",
       "    </tr>\n",
       "    <tr>\n",
       "      <th>1</th>\n",
       "      <td>50</td>\n",
       "      <td>Self-emp-not-inc</td>\n",
       "      <td>83311</td>\n",
       "      <td>13</td>\n",
       "      <td>Married-civ-spouse</td>\n",
       "      <td>Exec-managerial</td>\n",
       "      <td>Husband</td>\n",
       "      <td>White</td>\n",
       "      <td>Male</td>\n",
       "      <td>0</td>\n",
       "      <td>0</td>\n",
       "      <td>13</td>\n",
       "      <td>United-States</td>\n",
       "      <td>&lt;=50K</td>\n",
       "    </tr>\n",
       "    <tr>\n",
       "      <th>2</th>\n",
       "      <td>38</td>\n",
       "      <td>Private</td>\n",
       "      <td>215646</td>\n",
       "      <td>9</td>\n",
       "      <td>Divorced</td>\n",
       "      <td>Handlers-cleaners</td>\n",
       "      <td>Not-in-family</td>\n",
       "      <td>White</td>\n",
       "      <td>Male</td>\n",
       "      <td>0</td>\n",
       "      <td>0</td>\n",
       "      <td>40</td>\n",
       "      <td>United-States</td>\n",
       "      <td>&lt;=50K</td>\n",
       "    </tr>\n",
       "    <tr>\n",
       "      <th>3</th>\n",
       "      <td>53</td>\n",
       "      <td>Private</td>\n",
       "      <td>234721</td>\n",
       "      <td>7</td>\n",
       "      <td>Married-civ-spouse</td>\n",
       "      <td>Handlers-cleaners</td>\n",
       "      <td>Husband</td>\n",
       "      <td>Black</td>\n",
       "      <td>Male</td>\n",
       "      <td>0</td>\n",
       "      <td>0</td>\n",
       "      <td>40</td>\n",
       "      <td>United-States</td>\n",
       "      <td>&lt;=50K</td>\n",
       "    </tr>\n",
       "    <tr>\n",
       "      <th>4</th>\n",
       "      <td>28</td>\n",
       "      <td>Private</td>\n",
       "      <td>338409</td>\n",
       "      <td>13</td>\n",
       "      <td>Married-civ-spouse</td>\n",
       "      <td>Prof-specialty</td>\n",
       "      <td>Wife</td>\n",
       "      <td>Black</td>\n",
       "      <td>Female</td>\n",
       "      <td>0</td>\n",
       "      <td>0</td>\n",
       "      <td>40</td>\n",
       "      <td>Non-US</td>\n",
       "      <td>&lt;=50K</td>\n",
       "    </tr>\n",
       "    <tr>\n",
       "      <th>5</th>\n",
       "      <td>37</td>\n",
       "      <td>Private</td>\n",
       "      <td>284582</td>\n",
       "      <td>14</td>\n",
       "      <td>Married-civ-spouse</td>\n",
       "      <td>Exec-managerial</td>\n",
       "      <td>Wife</td>\n",
       "      <td>White</td>\n",
       "      <td>Female</td>\n",
       "      <td>0</td>\n",
       "      <td>0</td>\n",
       "      <td>40</td>\n",
       "      <td>United-States</td>\n",
       "      <td>&lt;=50K</td>\n",
       "    </tr>\n",
       "    <tr>\n",
       "      <th>6</th>\n",
       "      <td>49</td>\n",
       "      <td>Private</td>\n",
       "      <td>160187</td>\n",
       "      <td>5</td>\n",
       "      <td>Married-spouse-absent</td>\n",
       "      <td>Other-service</td>\n",
       "      <td>Not-in-family</td>\n",
       "      <td>Black</td>\n",
       "      <td>Female</td>\n",
       "      <td>0</td>\n",
       "      <td>0</td>\n",
       "      <td>16</td>\n",
       "      <td>Non-US</td>\n",
       "      <td>&lt;=50K</td>\n",
       "    </tr>\n",
       "    <tr>\n",
       "      <th>7</th>\n",
       "      <td>52</td>\n",
       "      <td>Self-emp-not-inc</td>\n",
       "      <td>209642</td>\n",
       "      <td>9</td>\n",
       "      <td>Married-civ-spouse</td>\n",
       "      <td>Exec-managerial</td>\n",
       "      <td>Husband</td>\n",
       "      <td>White</td>\n",
       "      <td>Male</td>\n",
       "      <td>0</td>\n",
       "      <td>0</td>\n",
       "      <td>45</td>\n",
       "      <td>United-States</td>\n",
       "      <td>&gt;50K</td>\n",
       "    </tr>\n",
       "    <tr>\n",
       "      <th>8</th>\n",
       "      <td>31</td>\n",
       "      <td>Private</td>\n",
       "      <td>45781</td>\n",
       "      <td>14</td>\n",
       "      <td>Never-married</td>\n",
       "      <td>Prof-specialty</td>\n",
       "      <td>Not-in-family</td>\n",
       "      <td>White</td>\n",
       "      <td>Female</td>\n",
       "      <td>14084</td>\n",
       "      <td>0</td>\n",
       "      <td>50</td>\n",
       "      <td>United-States</td>\n",
       "      <td>&gt;50K</td>\n",
       "    </tr>\n",
       "    <tr>\n",
       "      <th>9</th>\n",
       "      <td>42</td>\n",
       "      <td>Private</td>\n",
       "      <td>159449</td>\n",
       "      <td>13</td>\n",
       "      <td>Married-civ-spouse</td>\n",
       "      <td>Exec-managerial</td>\n",
       "      <td>Husband</td>\n",
       "      <td>White</td>\n",
       "      <td>Male</td>\n",
       "      <td>5178</td>\n",
       "      <td>0</td>\n",
       "      <td>40</td>\n",
       "      <td>United-States</td>\n",
       "      <td>&gt;50K</td>\n",
       "    </tr>\n",
       "  </tbody>\n",
       "</table>\n",
       "</div>"
      ],
      "text/plain": [
       "   age         workclass  fnlwgt  education-num         marital-status  \\\n",
       "0   39         State-gov   77516             13          Never-married   \n",
       "1   50  Self-emp-not-inc   83311             13     Married-civ-spouse   \n",
       "2   38           Private  215646              9               Divorced   \n",
       "3   53           Private  234721              7     Married-civ-spouse   \n",
       "4   28           Private  338409             13     Married-civ-spouse   \n",
       "5   37           Private  284582             14     Married-civ-spouse   \n",
       "6   49           Private  160187              5  Married-spouse-absent   \n",
       "7   52  Self-emp-not-inc  209642              9     Married-civ-spouse   \n",
       "8   31           Private   45781             14          Never-married   \n",
       "9   42           Private  159449             13     Married-civ-spouse   \n",
       "\n",
       "          occupation   relationship   race     sex  capital-gain  \\\n",
       "0       Adm-clerical  Not-in-family  White    Male          2174   \n",
       "1    Exec-managerial        Husband  White    Male             0   \n",
       "2  Handlers-cleaners  Not-in-family  White    Male             0   \n",
       "3  Handlers-cleaners        Husband  Black    Male             0   \n",
       "4     Prof-specialty           Wife  Black  Female             0   \n",
       "5    Exec-managerial           Wife  White  Female             0   \n",
       "6      Other-service  Not-in-family  Black  Female             0   \n",
       "7    Exec-managerial        Husband  White    Male             0   \n",
       "8     Prof-specialty  Not-in-family  White  Female         14084   \n",
       "9    Exec-managerial        Husband  White    Male          5178   \n",
       "\n",
       "   capital-loss  hours-per-week native-country income  \n",
       "0             0              40  United-States  <=50K  \n",
       "1             0              13  United-States  <=50K  \n",
       "2             0              40  United-States  <=50K  \n",
       "3             0              40  United-States  <=50K  \n",
       "4             0              40         Non-US  <=50K  \n",
       "5             0              40  United-States  <=50K  \n",
       "6             0              16         Non-US  <=50K  \n",
       "7             0              45  United-States   >50K  \n",
       "8             0              50  United-States   >50K  \n",
       "9             0              40  United-States   >50K  "
      ]
     },
     "execution_count": 3,
     "metadata": {},
     "output_type": "execute_result"
    }
   ],
   "source": [
    "# import non-anonymized dataset\n",
    "dataset = read_anon_data(1)\n",
    "dataset.head(10)"
   ]
  },
  {
   "cell_type": "code",
   "execution_count": 6,
   "metadata": {},
   "outputs": [],
   "source": [
    "def number_encode_features(ds):\n",
    "    result = ds.copy()\n",
    "    encoders = {}\n",
    "    for feature in result.columns:\n",
    "        if result.dtypes[feature] == np.object:\n",
    "            encoders[feature] = preprocessing.LabelEncoder()\n",
    "            result[feature] = encoders[feature].fit_transform(result[feature].astype(str))\n",
    "    return result, encoders"
   ]
  },
  {
   "cell_type": "code",
   "execution_count": 7,
   "metadata": {},
   "outputs": [],
   "source": [
    "dataset_encoded, encoders = number_encode_features(dataset)"
   ]
  },
  {
   "cell_type": "code",
   "execution_count": 8,
   "metadata": {},
   "outputs": [
    {
     "data": {
      "text/plain": [
       "(30162, 13)"
      ]
     },
     "execution_count": 8,
     "metadata": {},
     "output_type": "execute_result"
    }
   ],
   "source": [
    "# define target value\n",
    "y_enc = dataset_encoded['education-num']\n",
    "X_enc = dataset_encoded.drop('education-num', axis=1)\n",
    "\n",
    "# scale\n",
    "scaler = preprocessing.StandardScaler()\n",
    "X_enc = pd.DataFrame(scaler.fit_transform(X_enc), columns=X_enc.columns)\n",
    "X_enc.shape"
   ]
  },
  {
   "cell_type": "code",
   "execution_count": 9,
   "metadata": {},
   "outputs": [],
   "source": [
    "binary_data = pd.get_dummies(dataset)\n",
    "\n",
    "y_bin = binary_data['education-num']\n",
    "X_bin = binary_data.drop('education-num', axis=1)\n",
    "\n",
    "# scale \n",
    "X_bin = pd.DataFrame(scaler.fit_transform(X_bin), columns=X_bin.columns)"
   ]
  },
  {
   "cell_type": "code",
   "execution_count": 10,
   "metadata": {},
   "outputs": [
    {
     "data": {
      "text/plain": [
       "Index(['age', 'fnlwgt', 'capital-gain', 'capital-loss', 'hours-per-week',\n",
       "       'workclass_Federal-gov', 'workclass_Local-gov', 'workclass_Private',\n",
       "       'workclass_Self-emp-inc', 'workclass_Self-emp-not-inc',\n",
       "       'workclass_State-gov', 'workclass_Without-pay',\n",
       "       'marital-status_Divorced', 'marital-status_Married-AF-spouse',\n",
       "       'marital-status_Married-civ-spouse',\n",
       "       'marital-status_Married-spouse-absent', 'marital-status_Never-married',\n",
       "       'marital-status_Separated', 'marital-status_Widowed',\n",
       "       'occupation_Adm-clerical', 'occupation_Armed-Forces',\n",
       "       'occupation_Craft-repair', 'occupation_Exec-managerial',\n",
       "       'occupation_Farming-fishing', 'occupation_Handlers-cleaners',\n",
       "       'occupation_Machine-op-inspct', 'occupation_Other-service',\n",
       "       'occupation_Priv-house-serv', 'occupation_Prof-specialty',\n",
       "       'occupation_Protective-serv', 'occupation_Sales',\n",
       "       'occupation_Tech-support', 'occupation_Transport-moving',\n",
       "       'relationship_Husband', 'relationship_Not-in-family',\n",
       "       'relationship_Other-relative', 'relationship_Own-child',\n",
       "       'relationship_Unmarried', 'relationship_Wife',\n",
       "       'race_Amer-Indian-Eskimo', 'race_Asian-Pac-Islander', 'race_Black',\n",
       "       'race_Other', 'race_White', 'sex_Female', 'sex_Male',\n",
       "       'native-country_Non-US', 'native-country_United-States', 'income_<=50K',\n",
       "       'income_>50K'],\n",
       "      dtype='object')"
      ]
     },
     "execution_count": 10,
     "metadata": {},
     "output_type": "execute_result"
    }
   ],
   "source": [
    "X_bin.columns"
   ]
  },
  {
   "cell_type": "code",
   "execution_count": 11,
   "metadata": {},
   "outputs": [],
   "source": [
    "# remove redundant binary data\n",
    "del X_bin['sex_Male'], X_bin['income_<=50K'], X_bin['native-country_Non-US']"
   ]
  },
  {
   "cell_type": "code",
   "execution_count": 12,
   "metadata": {},
   "outputs": [
    {
     "name": "stdout",
     "output_type": "stream",
     "text": [
      "F1 score (number encoded data): 0.58 (+/- 0.01)\n",
      "F1 score (binary attributes): 0.58 (+/- 0.01)\n"
     ]
    }
   ],
   "source": [
    "clf = RandomForestClassifier(random_state=0)\n",
    "\n",
    "# cross validation scores \n",
    "scores = model_selection.cross_val_score(clf, X_enc, y_enc, cv=10, scoring='f1_micro')\n",
    "print(\"F1 score (number encoded data): %0.2f (+/- %0.2f)\" \n",
    "      % (scores.mean(), scores.std() * 2))\n",
    "scores = model_selection.cross_val_score(clf, X_bin, y_bin, cv=model_selection.StratifiedKFold(n_splits=10, shuffle=True), scoring='f1_micro')\n",
    "print(\"F1 score (binary attributes): %0.2f (+/- %0.2f)\" \n",
    "      % (scores.mean(), scores.std() * 2))"
   ]
  },
  {
   "cell_type": "code",
   "execution_count": 13,
   "metadata": {},
   "outputs": [
    {
     "name": "stdout",
     "output_type": "stream",
     "text": [
      "0.5819242755785425\n",
      "0.5819242755785425\n"
     ]
    }
   ],
   "source": [
    "predicted = model_selection.cross_val_predict(clf, X_bin, y_bin, cv=10)\n",
    "f1_k1 = metrics.f1_score(y_enc, predicted, average='micro')\n",
    "print(f1_k1)\n",
    "print(metrics.accuracy_score(y_enc, predicted))"
   ]
  },
  {
   "cell_type": "markdown",
   "metadata": {},
   "source": [
    "## 2. 3-anonymous data classification"
   ]
  },
  {
   "cell_type": "markdown",
   "metadata": {},
   "source": [
    "We check performance of 3-anonymous data obtained with ARX tool with the following settings:\n",
    "<ul>\n",
    "<li>partial anonymization with defined hierarchies\n",
    "<li>partial anonymization without defined hierarchies\n",
    "<li>partial anonymization only for non-countinuous data with defined hierarchies"
   ]
  },
  {
   "cell_type": "markdown",
   "metadata": {},
   "source": [
    "### 2.1. Partial anonymization with defined hierarchies"
   ]
  },
  {
   "cell_type": "code",
   "execution_count": 14,
   "metadata": {},
   "outputs": [
    {
     "name": "stdout",
     "output_type": "stream",
     "text": [
      "F1 score: 0.12 (+/- 0.21)\n"
     ]
    }
   ],
   "source": [
    "#read data\n",
    "dataset = pd.read_csv(\"../../data/ARX/multi-class-edu/adult_k3.csv\", sep=r'\\s*,\\s*', na_values=\"*\", engine='python')\n",
    "\n",
    "# preprocess\n",
    "del dataset['fnlwgt']\n",
    "dataset_encoded, encoders = number_encode_features(dataset)\n",
    "\n",
    "# define target value\n",
    "y = dataset_encoded['education-num']\n",
    "X = dataset_encoded.drop('education-num', axis=1)\n",
    "\n",
    "# scale\n",
    "scaler = preprocessing.StandardScaler()\n",
    "X = pd.DataFrame(scaler.fit_transform(X), columns=X.columns)\n",
    "\n",
    "# cross validation scores \n",
    "scores = model_selection.cross_val_score(clf, X, y, cv=10, scoring='f1_micro')\n",
    "print(\"F1 score: %0.2f (+/- %0.2f)\" \n",
    "      % (scores.mean(), scores.std() * 2))"
   ]
  },
  {
   "cell_type": "code",
   "execution_count": 15,
   "metadata": {},
   "outputs": [
    {
     "name": "stdout",
     "output_type": "stream",
     "text": [
      "0.5418738810423712\n"
     ]
    }
   ],
   "source": [
    "# prediction\n",
    "predicted = model_selection.cross_val_predict(clf, X, y, cv=model_selection.StratifiedKFold(n_splits=10, shuffle=True))\n",
    "f1_k3 = metrics.f1_score(y, predicted, average='micro')\n",
    "print(f1_k3)"
   ]
  },
  {
   "cell_type": "markdown",
   "metadata": {},
   "source": [
    "F1 score is extremelly low. The reason can be the partial anonymization itself and generalized values that it produces. Let's just see the distribution for attribut *age* for the picture."
   ]
  },
  {
   "cell_type": "code",
   "execution_count": 16,
   "metadata": {},
   "outputs": [
    {
     "data": {
      "text/plain": [
       "<matplotlib.axes._subplots.AxesSubplot at 0x1e796c50>"
      ]
     },
     "execution_count": 16,
     "metadata": {},
     "output_type": "execute_result"
    },
    {
     "data": {
      "image/png": "[encoded data removed]",
      "text/plain": [
       "<Figure size 1080x360 with 1 Axes>"
      ]
     },
     "metadata": {},
     "output_type": "display_data"
    }
   ],
   "source": [
    "dataset['age'].value_counts().plot(kind='bar', figsize=(15,5))"
   ]
  },
  {
   "cell_type": "markdown",
   "metadata": {},
   "source": [
    "Clearly too many values to deal with, and more importanly, it's also not quite clear how Random Forest should interpret them."
   ]
  },
  {
   "cell_type": "markdown",
   "metadata": {},
   "source": [
    "### 2.2. Partial anonymization without hierarchies"
   ]
  },
  {
   "cell_type": "code",
   "execution_count": 17,
   "metadata": {},
   "outputs": [
    {
     "data": {
      "text/html": [
       "<div>\n",
       "<style scoped>\n",
       "    .dataframe tbody tr th:only-of-type {\n",
       "        vertical-align: middle;\n",
       "    }\n",
       "\n",
       "    .dataframe tbody tr th {\n",
       "        vertical-align: top;\n",
       "    }\n",
       "\n",
       "    .dataframe thead th {\n",
       "        text-align: right;\n",
       "    }\n",
       "</style>\n",
       "<table border=\"1\" class=\"dataframe\">\n",
       "  <thead>\n",
       "    <tr style=\"text-align: right;\">\n",
       "      <th></th>\n",
       "      <th>age</th>\n",
       "      <th>workclass</th>\n",
       "      <th>fnlwgt</th>\n",
       "      <th>education-num</th>\n",
       "      <th>marital-status</th>\n",
       "      <th>occupation</th>\n",
       "      <th>relationship</th>\n",
       "      <th>race</th>\n",
       "      <th>sex</th>\n",
       "      <th>capital-gain</th>\n",
       "      <th>capital-loss</th>\n",
       "      <th>hours-per-week</th>\n",
       "      <th>native-country</th>\n",
       "      <th>income</th>\n",
       "    </tr>\n",
       "  </thead>\n",
       "  <tbody>\n",
       "    <tr>\n",
       "      <th>0</th>\n",
       "      <td>42.0</td>\n",
       "      <td>Federal-gov</td>\n",
       "      <td>NaN</td>\n",
       "      <td>12</td>\n",
       "      <td>Divorced</td>\n",
       "      <td>Adm-clerical</td>\n",
       "      <td>Not-in-family</td>\n",
       "      <td>White</td>\n",
       "      <td>Female</td>\n",
       "      <td>0</td>\n",
       "      <td>0</td>\n",
       "      <td>40.0</td>\n",
       "      <td>United-States</td>\n",
       "      <td>&lt;=50K</td>\n",
       "    </tr>\n",
       "    <tr>\n",
       "      <th>1</th>\n",
       "      <td>42.0</td>\n",
       "      <td>Federal-gov</td>\n",
       "      <td>NaN</td>\n",
       "      <td>9</td>\n",
       "      <td>Divorced</td>\n",
       "      <td>Adm-clerical</td>\n",
       "      <td>Not-in-family</td>\n",
       "      <td>White</td>\n",
       "      <td>Female</td>\n",
       "      <td>0</td>\n",
       "      <td>0</td>\n",
       "      <td>40.0</td>\n",
       "      <td>United-States</td>\n",
       "      <td>&lt;=50K</td>\n",
       "    </tr>\n",
       "    <tr>\n",
       "      <th>2</th>\n",
       "      <td>42.0</td>\n",
       "      <td>Federal-gov</td>\n",
       "      <td>NaN</td>\n",
       "      <td>9</td>\n",
       "      <td>Divorced</td>\n",
       "      <td>Adm-clerical</td>\n",
       "      <td>Not-in-family</td>\n",
       "      <td>White</td>\n",
       "      <td>Female</td>\n",
       "      <td>0</td>\n",
       "      <td>0</td>\n",
       "      <td>40.0</td>\n",
       "      <td>United-States</td>\n",
       "      <td>&lt;=50K</td>\n",
       "    </tr>\n",
       "    <tr>\n",
       "      <th>3</th>\n",
       "      <td>37.0</td>\n",
       "      <td>Local-gov</td>\n",
       "      <td>NaN</td>\n",
       "      <td>10</td>\n",
       "      <td>Divorced</td>\n",
       "      <td>Adm-clerical</td>\n",
       "      <td>Unmarried</td>\n",
       "      <td>White</td>\n",
       "      <td>Female</td>\n",
       "      <td>0</td>\n",
       "      <td>0</td>\n",
       "      <td>40.0</td>\n",
       "      <td>United-States</td>\n",
       "      <td>&lt;=50K</td>\n",
       "    </tr>\n",
       "    <tr>\n",
       "      <th>4</th>\n",
       "      <td>37.0</td>\n",
       "      <td>Local-gov</td>\n",
       "      <td>NaN</td>\n",
       "      <td>9</td>\n",
       "      <td>Divorced</td>\n",
       "      <td>Adm-clerical</td>\n",
       "      <td>Unmarried</td>\n",
       "      <td>White</td>\n",
       "      <td>Female</td>\n",
       "      <td>0</td>\n",
       "      <td>0</td>\n",
       "      <td>40.0</td>\n",
       "      <td>United-States</td>\n",
       "      <td>&lt;=50K</td>\n",
       "    </tr>\n",
       "  </tbody>\n",
       "</table>\n",
       "</div>"
      ],
      "text/plain": [
       "    age    workclass  fnlwgt  education-num marital-status    occupation  \\\n",
       "0  42.0  Federal-gov     NaN             12       Divorced  Adm-clerical   \n",
       "1  42.0  Federal-gov     NaN              9       Divorced  Adm-clerical   \n",
       "2  42.0  Federal-gov     NaN              9       Divorced  Adm-clerical   \n",
       "3  37.0    Local-gov     NaN             10       Divorced  Adm-clerical   \n",
       "4  37.0    Local-gov     NaN              9       Divorced  Adm-clerical   \n",
       "\n",
       "    relationship   race     sex  capital-gain  capital-loss  hours-per-week  \\\n",
       "0  Not-in-family  White  Female             0             0            40.0   \n",
       "1  Not-in-family  White  Female             0             0            40.0   \n",
       "2  Not-in-family  White  Female             0             0            40.0   \n",
       "3      Unmarried  White  Female             0             0            40.0   \n",
       "4      Unmarried  White  Female             0             0            40.0   \n",
       "\n",
       "  native-country income  \n",
       "0  United-States  <=50K  \n",
       "1  United-States  <=50K  \n",
       "2  United-States  <=50K  \n",
       "3  United-States  <=50K  \n",
       "4  United-States  <=50K  "
      ]
     },
     "execution_count": 17,
     "metadata": {},
     "output_type": "execute_result"
    }
   ],
   "source": [
    "# import 3-anonymous dataset\n",
    "k = 3\n",
    "dataset = read_anon_data(k) \n",
    "dataset.head()"
   ]
  },
  {
   "cell_type": "code",
   "execution_count": 18,
   "metadata": {},
   "outputs": [
    {
     "data": {
      "text/html": [
       "<div>\n",
       "<style scoped>\n",
       "    .dataframe tbody tr th:only-of-type {\n",
       "        vertical-align: middle;\n",
       "    }\n",
       "\n",
       "    .dataframe tbody tr th {\n",
       "        vertical-align: top;\n",
       "    }\n",
       "\n",
       "    .dataframe thead th {\n",
       "        text-align: right;\n",
       "    }\n",
       "</style>\n",
       "<table border=\"1\" class=\"dataframe\">\n",
       "  <thead>\n",
       "    <tr style=\"text-align: right;\">\n",
       "      <th></th>\n",
       "      <th>age</th>\n",
       "      <th>workclass</th>\n",
       "      <th>education-num</th>\n",
       "      <th>marital-status</th>\n",
       "      <th>occupation</th>\n",
       "      <th>relationship</th>\n",
       "      <th>race</th>\n",
       "      <th>sex</th>\n",
       "      <th>capital-gain</th>\n",
       "      <th>capital-loss</th>\n",
       "      <th>hours-per-week</th>\n",
       "      <th>native-country</th>\n",
       "      <th>income</th>\n",
       "    </tr>\n",
       "  </thead>\n",
       "  <tbody>\n",
       "    <tr>\n",
       "      <th>0</th>\n",
       "      <td>42</td>\n",
       "      <td>Federal-gov</td>\n",
       "      <td>12</td>\n",
       "      <td>Divorced</td>\n",
       "      <td>Adm-clerical</td>\n",
       "      <td>Not-in-family</td>\n",
       "      <td>White</td>\n",
       "      <td>Female</td>\n",
       "      <td>0</td>\n",
       "      <td>0</td>\n",
       "      <td>40</td>\n",
       "      <td>United-States</td>\n",
       "      <td>&lt;=50K</td>\n",
       "    </tr>\n",
       "    <tr>\n",
       "      <th>1</th>\n",
       "      <td>42</td>\n",
       "      <td>Federal-gov</td>\n",
       "      <td>9</td>\n",
       "      <td>Divorced</td>\n",
       "      <td>Adm-clerical</td>\n",
       "      <td>Not-in-family</td>\n",
       "      <td>White</td>\n",
       "      <td>Female</td>\n",
       "      <td>0</td>\n",
       "      <td>0</td>\n",
       "      <td>40</td>\n",
       "      <td>United-States</td>\n",
       "      <td>&lt;=50K</td>\n",
       "    </tr>\n",
       "    <tr>\n",
       "      <th>2</th>\n",
       "      <td>42</td>\n",
       "      <td>Federal-gov</td>\n",
       "      <td>9</td>\n",
       "      <td>Divorced</td>\n",
       "      <td>Adm-clerical</td>\n",
       "      <td>Not-in-family</td>\n",
       "      <td>White</td>\n",
       "      <td>Female</td>\n",
       "      <td>0</td>\n",
       "      <td>0</td>\n",
       "      <td>40</td>\n",
       "      <td>United-States</td>\n",
       "      <td>&lt;=50K</td>\n",
       "    </tr>\n",
       "    <tr>\n",
       "      <th>3</th>\n",
       "      <td>37</td>\n",
       "      <td>Local-gov</td>\n",
       "      <td>10</td>\n",
       "      <td>Divorced</td>\n",
       "      <td>Adm-clerical</td>\n",
       "      <td>Unmarried</td>\n",
       "      <td>White</td>\n",
       "      <td>Female</td>\n",
       "      <td>0</td>\n",
       "      <td>0</td>\n",
       "      <td>40</td>\n",
       "      <td>United-States</td>\n",
       "      <td>&lt;=50K</td>\n",
       "    </tr>\n",
       "    <tr>\n",
       "      <th>4</th>\n",
       "      <td>37</td>\n",
       "      <td>Local-gov</td>\n",
       "      <td>9</td>\n",
       "      <td>Divorced</td>\n",
       "      <td>Adm-clerical</td>\n",
       "      <td>Unmarried</td>\n",
       "      <td>White</td>\n",
       "      <td>Female</td>\n",
       "      <td>0</td>\n",
       "      <td>0</td>\n",
       "      <td>40</td>\n",
       "      <td>United-States</td>\n",
       "      <td>&lt;=50K</td>\n",
       "    </tr>\n",
       "  </tbody>\n",
       "</table>\n",
       "</div>"
      ],
      "text/plain": [
       "  age    workclass  education-num marital-status    occupation   relationship  \\\n",
       "0  42  Federal-gov             12       Divorced  Adm-clerical  Not-in-family   \n",
       "1  42  Federal-gov              9       Divorced  Adm-clerical  Not-in-family   \n",
       "2  42  Federal-gov              9       Divorced  Adm-clerical  Not-in-family   \n",
       "3  37    Local-gov             10       Divorced  Adm-clerical      Unmarried   \n",
       "4  37    Local-gov              9       Divorced  Adm-clerical      Unmarried   \n",
       "\n",
       "    race     sex  capital-gain  capital-loss hours-per-week native-country  \\\n",
       "0  White  Female             0             0             40  United-States   \n",
       "1  White  Female             0             0             40  United-States   \n",
       "2  White  Female             0             0             40  United-States   \n",
       "3  White  Female             0             0             40  United-States   \n",
       "4  White  Female             0             0             40  United-States   \n",
       "\n",
       "  income  \n",
       "0  <=50K  \n",
       "1  <=50K  \n",
       "2  <=50K  \n",
       "3  <=50K  \n",
       "4  <=50K  "
      ]
     },
     "execution_count": 18,
     "metadata": {},
     "output_type": "execute_result"
    }
   ],
   "source": [
    "# we don't want float values\n",
    "dataset['age'] = dataset['age'].astype(object)\n",
    "dataset['hours-per-week'] = dataset['hours-per-week'].astype(object)\n",
    "\n",
    "# also remove entirely anonymized 'fnlwgt'\n",
    "del dataset['fnlwgt']\n",
    "\n",
    "dataset.head()"
   ]
  },
  {
   "cell_type": "code",
   "execution_count": 19,
   "metadata": {},
   "outputs": [
    {
     "data": {
      "text/plain": [
       "<matplotlib.axes._subplots.AxesSubplot at 0x1e7a0ad0>"
      ]
     },
     "execution_count": 19,
     "metadata": {},
     "output_type": "execute_result"
    },
    {
     "data": {
      "image/png": "[encoded data removed]",
      "text/plain": [
       "<Figure size 432x288 with 1 Axes>"
      ]
     },
     "metadata": {},
     "output_type": "display_data"
    }
   ],
   "source": [
    "sns.heatmap(dataset.isnull(), cbar=False)"
   ]
  },
  {
   "cell_type": "code",
   "execution_count": 20,
   "metadata": {},
   "outputs": [],
   "source": [
    "dataset_encoded, encoders = number_encode_features(dataset)"
   ]
  },
  {
   "cell_type": "code",
   "execution_count": 21,
   "metadata": {},
   "outputs": [],
   "source": [
    "dataset.to_csv(\"../../data/ARX/without-contin-hie/adult_k3_edu_grouped.csv\")"
   ]
  },
  {
   "cell_type": "code",
   "execution_count": 35,
   "metadata": {},
   "outputs": [
    {
     "data": {
      "text/plain": [
       "(30162, 12)"
      ]
     },
     "execution_count": 35,
     "metadata": {},
     "output_type": "execute_result"
    }
   ],
   "source": [
    "# define target value\n",
    "y_enc = dataset_encoded['education-num']\n",
    "X_enc = dataset_encoded.drop('education-num', axis=1)\n",
    "\n",
    "# scale\n",
    "scaler = preprocessing.StandardScaler()\n",
    "X_enc = pd.DataFrame(scaler.fit_transform(X_enc), columns=X_enc.columns)\n",
    "X_enc.shape"
   ]
  },
  {
   "cell_type": "code",
   "execution_count": 36,
   "metadata": {},
   "outputs": [],
   "source": [
    "binary_data = pd.get_dummies(dataset)\n",
    "\n",
    "y_bin = binary_data['education-num']\n",
    "X_bin = binary_data.drop('education-num', axis=1)\n",
    "\n",
    "# scale \n",
    "X_bin = pd.DataFrame(scaler.fit_transform(X_bin), columns=X_bin.columns)"
   ]
  },
  {
   "cell_type": "code",
   "execution_count": 38,
   "metadata": {},
   "outputs": [
    {
     "name": "stdout",
     "output_type": "stream",
     "text": [
      "F1 score (number encoded data): 0.49 (+/- 0.01)\n",
      "F1 score (binary attributes): 0.50 (+/- 0.01)\n"
     ]
    }
   ],
   "source": [
    "# cross validation scores \n",
    "scores = model_selection.cross_val_score(clf, X_enc, y_enc, cv=model_selection.StratifiedKFold(n_splits=10, shuffle=False), scoring='f1_micro')\n",
    "print(\"F1 score (number encoded data): %0.2f (+/- %0.2f)\" \n",
    "      % (scores.mean(), scores.std() * 2))\n",
    "scores = model_selection.cross_val_score(clf, X_bin, y_bin, cv=model_selection.StratifiedKFold(n_splits=10, shuffle=False), scoring='f1_micro')\n",
    "print(\"F1 score (binary attributes): %0.2f (+/- %0.2f)\" \n",
    "      % (scores.mean(), scores.std() * 2))"
   ]
  },
  {
   "cell_type": "markdown",
   "metadata": {},
   "source": [
    "It's a huge variance so we can try to predict."
   ]
  },
  {
   "cell_type": "code",
   "execution_count": 42,
   "metadata": {},
   "outputs": [
    {
     "name": "stdout",
     "output_type": "stream",
     "text": [
      "0.49651879848816394\n"
     ]
    }
   ],
   "source": [
    "predicted = model_selection.cross_val_predict(clf, X_bin, y_bin, cv=model_selection.StratifiedKFold(n_splits=10, shuffle=True))\n",
    "f1_k3 = metrics.f1_score(y_enc, predicted, average='micro')\n",
    "print(f1_k3)"
   ]
  },
  {
   "cell_type": "markdown",
   "metadata": {},
   "source": [
    "F1 score got drastically better compared to the previous case, even though there's a lot missing values."
   ]
  },
  {
   "cell_type": "markdown",
   "metadata": {},
   "source": [
    "### 2.3. Partial anonymization of non-countinuous data with defined hierarchies"
   ]
  },
  {
   "cell_type": "markdown",
   "metadata": {},
   "source": [
    "As a tradeoff between the two methods before, we can try to still keep as many values as possible but anonymize the data in such way that continuous attributes are always entirely anonymized to the same level.\n",
    "*(Strong assumption is that it is imposible to do such anonymization in ARX, therefore the anonymized data will be prepared programatically: we will find the highest level of anonymity for each continuous attribute and anonymize all the values on that level according to rules. For the first try this is hardcoded.)*"
   ]
  },
  {
   "cell_type": "code",
   "execution_count": 6,
   "metadata": {},
   "outputs": [
    {
     "data": {
      "text/html": [
       "<div>\n",
       "<style scoped>\n",
       "    .dataframe tbody tr th:only-of-type {\n",
       "        vertical-align: middle;\n",
       "    }\n",
       "\n",
       "    .dataframe tbody tr th {\n",
       "        vertical-align: top;\n",
       "    }\n",
       "\n",
       "    .dataframe thead th {\n",
       "        text-align: right;\n",
       "    }\n",
       "</style>\n",
       "<table border=\"1\" class=\"dataframe\">\n",
       "  <thead>\n",
       "    <tr style=\"text-align: right;\">\n",
       "      <th></th>\n",
       "      <th>age</th>\n",
       "      <th>workclass</th>\n",
       "      <th>fnlwgt</th>\n",
       "      <th>education-num</th>\n",
       "      <th>marital-status</th>\n",
       "      <th>occupation</th>\n",
       "      <th>relationship</th>\n",
       "      <th>race</th>\n",
       "      <th>sex</th>\n",
       "      <th>capital-gain</th>\n",
       "      <th>capital-loss</th>\n",
       "      <th>hours-per-week</th>\n",
       "      <th>native-country</th>\n",
       "      <th>income</th>\n",
       "    </tr>\n",
       "  </thead>\n",
       "  <tbody>\n",
       "    <tr>\n",
       "      <th>0</th>\n",
       "      <td>20s</td>\n",
       "      <td>NaN</td>\n",
       "      <td>NaN</td>\n",
       "      <td>10</td>\n",
       "      <td>NaN</td>\n",
       "      <td>NaN</td>\n",
       "      <td>NaN</td>\n",
       "      <td>NaN</td>\n",
       "      <td>Female</td>\n",
       "      <td>0</td>\n",
       "      <td>0</td>\n",
       "      <td>40</td>\n",
       "      <td>Non-US</td>\n",
       "      <td>&lt;=50K</td>\n",
       "    </tr>\n",
       "    <tr>\n",
       "      <th>1</th>\n",
       "      <td>20s</td>\n",
       "      <td>NaN</td>\n",
       "      <td>NaN</td>\n",
       "      <td>7</td>\n",
       "      <td>NaN</td>\n",
       "      <td>NaN</td>\n",
       "      <td>NaN</td>\n",
       "      <td>NaN</td>\n",
       "      <td>Female</td>\n",
       "      <td>0</td>\n",
       "      <td>0</td>\n",
       "      <td>40</td>\n",
       "      <td>Non-US</td>\n",
       "      <td>&lt;=50K</td>\n",
       "    </tr>\n",
       "    <tr>\n",
       "      <th>2</th>\n",
       "      <td>20s</td>\n",
       "      <td>NaN</td>\n",
       "      <td>NaN</td>\n",
       "      <td>5</td>\n",
       "      <td>NaN</td>\n",
       "      <td>NaN</td>\n",
       "      <td>NaN</td>\n",
       "      <td>NaN</td>\n",
       "      <td>Female</td>\n",
       "      <td>0</td>\n",
       "      <td>0</td>\n",
       "      <td>40</td>\n",
       "      <td>Non-US</td>\n",
       "      <td>&lt;=50K</td>\n",
       "    </tr>\n",
       "    <tr>\n",
       "      <th>3</th>\n",
       "      <td>40s</td>\n",
       "      <td>NaN</td>\n",
       "      <td>NaN</td>\n",
       "      <td>15</td>\n",
       "      <td>NaN</td>\n",
       "      <td>NaN</td>\n",
       "      <td>NaN</td>\n",
       "      <td>NaN</td>\n",
       "      <td>Female</td>\n",
       "      <td>0</td>\n",
       "      <td>0</td>\n",
       "      <td>40</td>\n",
       "      <td>Non-US</td>\n",
       "      <td>&lt;=50K</td>\n",
       "    </tr>\n",
       "    <tr>\n",
       "      <th>4</th>\n",
       "      <td>40s</td>\n",
       "      <td>NaN</td>\n",
       "      <td>NaN</td>\n",
       "      <td>9</td>\n",
       "      <td>NaN</td>\n",
       "      <td>NaN</td>\n",
       "      <td>NaN</td>\n",
       "      <td>NaN</td>\n",
       "      <td>Female</td>\n",
       "      <td>0</td>\n",
       "      <td>0</td>\n",
       "      <td>40</td>\n",
       "      <td>Non-US</td>\n",
       "      <td>&lt;=50K</td>\n",
       "    </tr>\n",
       "  </tbody>\n",
       "</table>\n",
       "</div>"
      ],
      "text/plain": [
       "   age workclass  fnlwgt  education-num marital-status occupation  \\\n",
       "0  20s       NaN     NaN             10            NaN        NaN   \n",
       "1  20s       NaN     NaN              7            NaN        NaN   \n",
       "2  20s       NaN     NaN              5            NaN        NaN   \n",
       "3  40s       NaN     NaN             15            NaN        NaN   \n",
       "4  40s       NaN     NaN              9            NaN        NaN   \n",
       "\n",
       "  relationship race     sex  capital-gain  capital-loss hours-per-week  \\\n",
       "0          NaN  NaN  Female             0             0             40   \n",
       "1          NaN  NaN  Female             0             0             40   \n",
       "2          NaN  NaN  Female             0             0             40   \n",
       "3          NaN  NaN  Female             0             0             40   \n",
       "4          NaN  NaN  Female             0             0             40   \n",
       "\n",
       "  native-country income  \n",
       "0         Non-US  <=50K  \n",
       "1         Non-US  <=50K  \n",
       "2         Non-US  <=50K  \n",
       "3         Non-US  <=50K  \n",
       "4         Non-US  <=50K  "
      ]
     },
     "execution_count": 6,
     "metadata": {},
     "output_type": "execute_result"
    }
   ],
   "source": [
    "# read the anonymized data\n",
    "dataset = pd.read_csv(\"../../data/ARX/without-contin-hie/adult_k3.csv\", sep=r'\\s*,\\s*', na_values=\"*\", engine='python')\n",
    "dataset.head()"
   ]
  },
  {
   "cell_type": "code",
   "execution_count": 7,
   "metadata": {},
   "outputs": [
    {
     "name": "stdout",
     "output_type": "stream",
     "text": [
      "<class 'pandas.core.frame.DataFrame'>\n",
      "RangeIndex: 30162 entries, 0 to 30161\n",
      "Data columns (total 14 columns):\n",
      "age               30053 non-null object\n",
      "workclass         27513 non-null object\n",
      "fnlwgt            0 non-null float64\n",
      "education-num     30162 non-null int64\n",
      "marital-status    29737 non-null object\n",
      "occupation        22013 non-null object\n",
      "relationship      28698 non-null object\n",
      "race              27958 non-null object\n",
      "sex               30053 non-null object\n",
      "capital-gain      30162 non-null int64\n",
      "capital-loss      30162 non-null int64\n",
      "hours-per-week    30053 non-null object\n",
      "native-country    30053 non-null object\n",
      "income            30053 non-null object\n",
      "dtypes: float64(1), int64(3), object(10)\n",
      "memory usage: 2.1+ MB\n"
     ]
    }
   ],
   "source": [
    "dataset.info()"
   ]
  },
  {
   "cell_type": "markdown",
   "metadata": {},
   "source": [
    "There's a low percentage of rows that miss age or hours-per-week values so we will remove them, as well as columns with all missing values."
   ]
  },
  {
   "cell_type": "code",
   "execution_count": 8,
   "metadata": {},
   "outputs": [
    {
     "data": {
      "text/plain": [
       "(30053, 13)"
      ]
     },
     "execution_count": 8,
     "metadata": {},
     "output_type": "execute_result"
    }
   ],
   "source": [
    "dataset = dataset.dropna(axis=1, how='all')\n",
    "dataset = dataset.dropna(axis=0, subset=['age', 'hours-per-week'])\n",
    "dataset.shape"
   ]
  },
  {
   "cell_type": "markdown",
   "metadata": {},
   "source": [
    "Let's start with our anonymization. Let's first see what are the values like. We have previously already seen the distribution of age so let's now see *hours-per-week*."
   ]
  },
  {
   "cell_type": "code",
   "execution_count": 9,
   "metadata": {},
   "outputs": [
    {
     "data": {
      "text/plain": [
       "<matplotlib.axes._subplots.AxesSubplot at 0x1d77f8b0>"
      ]
     },
     "execution_count": 9,
     "metadata": {},
     "output_type": "execute_result"
    },
    {
     "data": {
      "image/png": "[encoded data removed]",
      "text/plain": [
       "<Figure size 864x288 with 1 Axes>"
      ]
     },
     "metadata": {},
     "output_type": "display_data"
    }
   ],
   "source": [
    "dataset['hours-per-week'].value_counts().plot(kind='bar', figsize=(12,4))"
   ]
  },
  {
   "cell_type": "markdown",
   "metadata": {},
   "source": [
    "Those two are only originally continuous attributes. We will generalize them to the highest generalization level contained in anonymized dataset."
   ]
  },
  {
   "cell_type": "code",
   "execution_count": 7,
   "metadata": {},
   "outputs": [
    {
     "data": {
      "text/html": [
       "<div>\n",
       "<style scoped>\n",
       "    .dataframe tbody tr th:only-of-type {\n",
       "        vertical-align: middle;\n",
       "    }\n",
       "\n",
       "    .dataframe tbody tr th {\n",
       "        vertical-align: top;\n",
       "    }\n",
       "\n",
       "    .dataframe thead th {\n",
       "        text-align: right;\n",
       "    }\n",
       "</style>\n",
       "<table border=\"1\" class=\"dataframe\">\n",
       "  <thead>\n",
       "    <tr style=\"text-align: right;\">\n",
       "      <th></th>\n",
       "      <th>1</th>\n",
       "      <th>2</th>\n",
       "      <th>3</th>\n",
       "    </tr>\n",
       "  </thead>\n",
       "  <tbody>\n",
       "    <tr>\n",
       "      <th>0</th>\n",
       "      <td>17</td>\n",
       "      <td>17-20</td>\n",
       "      <td>17-20</td>\n",
       "    </tr>\n",
       "    <tr>\n",
       "      <th>1</th>\n",
       "      <td>18</td>\n",
       "      <td>17-20</td>\n",
       "      <td>17-20</td>\n",
       "    </tr>\n",
       "    <tr>\n",
       "      <th>2</th>\n",
       "      <td>19</td>\n",
       "      <td>17-20</td>\n",
       "      <td>17-20</td>\n",
       "    </tr>\n",
       "    <tr>\n",
       "      <th>3</th>\n",
       "      <td>20</td>\n",
       "      <td>20-25</td>\n",
       "      <td>20s</td>\n",
       "    </tr>\n",
       "    <tr>\n",
       "      <th>4</th>\n",
       "      <td>21</td>\n",
       "      <td>20-25</td>\n",
       "      <td>20s</td>\n",
       "    </tr>\n",
       "  </tbody>\n",
       "</table>\n",
       "</div>"
      ],
      "text/plain": [
       "    1      2      3\n",
       "0  17  17-20  17-20\n",
       "1  18  17-20  17-20\n",
       "2  19  17-20  17-20\n",
       "3  20  20-25    20s\n",
       "4  21  20-25    20s"
      ]
     },
     "execution_count": 7,
     "metadata": {},
     "output_type": "execute_result"
    }
   ],
   "source": [
    "age = pd.read_csv(\"../../data/ARX/multi-class-edu/hie_age.csv\", \n",
    "                 sep=r'\\s*,\\s*', na_values=\"*\", engine='python', names=['1','2','3','4'])\n",
    "age = age.dropna(axis=1, how='all')\n",
    "age.head()"
   ]
  },
  {
   "cell_type": "code",
   "execution_count": 8,
   "metadata": {},
   "outputs": [],
   "source": [
    "# dictionary for generalization levels\n",
    "age_levels = {level : list(age[level]) for level in age.columns}\n",
    "age_levels['1'] = [str(val) for val in age_levels['1']]"
   ]
  },
  {
   "cell_type": "code",
   "execution_count": 9,
   "metadata": {},
   "outputs": [],
   "source": [
    "#dictionary for conversions from level to level\n",
    "#last level is not contained \n",
    "age_conversions = {}\n",
    "for i,c in enumerate(age.columns):\n",
    "    if i<2:\n",
    "        next_level = str(i+2)\n",
    "        #print(\"c \" + c)\n",
    "        #print(\"next \" + next_level)\n",
    "    # todo check if last\n",
    "    else: \n",
    "        continue\n",
    "    for j,val in enumerate(age_levels[c]):\n",
    "        if val == \"17-20\" or val == \"70+\":\n",
    "            continue\n",
    "        #print(val)\n",
    "        #print(age_levels[next_level][j])\n",
    "        age_conversions[val] = age_levels[next_level][j]"
   ]
  },
  {
   "cell_type": "code",
   "execution_count": 10,
   "metadata": {},
   "outputs": [],
   "source": [
    "hpw = pd.read_csv(\"../../data/ARX/hie_hpw.csv\", \n",
    "                 sep=r'\\s*,\\s*', na_values=\"*\", engine='python', names=['1','2','3'])\n",
    "hpw = hpw.dropna(axis=1, how='all')"
   ]
  },
  {
   "cell_type": "code",
   "execution_count": 11,
   "metadata": {},
   "outputs": [],
   "source": [
    "# dictionary for generalization levels\n",
    "hpw_levels = {level : list(hpw[level]) for level in hpw.columns}\n",
    "hpw_levels['1'] = [str(val) for val in hpw_levels['1']]"
   ]
  },
  {
   "cell_type": "code",
   "execution_count": 12,
   "metadata": {},
   "outputs": [],
   "source": [
    "#dictionary for conversions from level to level\n",
    "#last level is not contained \n",
    "hpw_conversions = {}\n",
    "for i,c in enumerate(hpw.columns):\n",
    "    if i<1:\n",
    "        next_level = str(i+2)\n",
    "    else: \n",
    "        continue\n",
    "    for j,val in enumerate(hpw_levels[c]):\n",
    "        if val == \"40\":\n",
    "            continue\n",
    "        hpw_conversions[val] = hpw_levels[next_level][j]"
   ]
  },
  {
   "cell_type": "code",
   "execution_count": 31,
   "metadata": {},
   "outputs": [],
   "source": [
    "def which_level(val, att):\n",
    "    if val is None:\n",
    "        return None\n",
    "    if att == \"age\":\n",
    "        if str(val) in age_levels['1']:\n",
    "            return 1\n",
    "        elif str(val) in age_levels['2']:\n",
    "            return 2\n",
    "        elif str(val) in age_levels['3']:\n",
    "            return 3\n",
    "        else:\n",
    "            return None\n",
    "    elif att == \"hours-per-week\" or att == \"hpw\":\n",
    "        if str(val) in hpw_levels['1']:\n",
    "            return 1\n",
    "        elif str(val) in hpw_levels['2']:\n",
    "            return 2\n",
    "        else: \n",
    "            return None\n",
    "    else:\n",
    "        return None"
   ]
  },
  {
   "cell_type": "code",
   "execution_count": 14,
   "metadata": {},
   "outputs": [],
   "source": [
    "def generalize_to_level(level, value, att):\n",
    "    if (att==\"age\" and level>3) or (att==\"hpw\" and level>2) or (att==\"hours-per-week\" and level>2):\n",
    "        return None\n",
    "    current = which_level(value, att) \n",
    "    if current==level: \n",
    "        return value\n",
    "    elif current == None: \n",
    "        return None\n",
    "    elif current<level: \n",
    "        # upgrade\n",
    "        if att==\"age\":\n",
    "            if value==\"17-20\" or value==\"70+\": return value\n",
    "            new_value = age_conversions[value] \n",
    "        elif att==\"hpw\" or att==\"hours-per-week\":\n",
    "            if value=='40': return value\n",
    "            new_value = hpw_conversions[value]\n",
    "        # send to next level\n",
    "        return generalize_to_level(level, new_value, att) "
   ]
  },
  {
   "cell_type": "markdown",
   "metadata": {},
   "source": [
    "The terrain is prepared, now we can do our anonymization."
   ]
  },
  {
   "cell_type": "code",
   "execution_count": 18,
   "metadata": {},
   "outputs": [
    {
     "name": "stdout",
     "output_type": "stream",
     "text": [
      "3\n"
     ]
    }
   ],
   "source": [
    "max_level = 0\n",
    "for age in dataset['age']:\n",
    "    if which_level(age, \"age\")>max_level:\n",
    "        max_level = which_level(age, \"age\")\n",
    "print(max_level)\n",
    "for i,age in enumerate(dataset['age']):\n",
    "    dataset['age'].at[i] = generalize_to_level(max_level, age, \"age\")"
   ]
  },
  {
   "cell_type": "code",
   "execution_count": 19,
   "metadata": {},
   "outputs": [
    {
     "name": "stdout",
     "output_type": "stream",
     "text": [
      "2\n"
     ]
    }
   ],
   "source": [
    "max_level = 0\n",
    "for hpw in dataset['hours-per-week']:\n",
    "    if which_level(hpw, \"hours-per-week\")>max_level:\n",
    "        max_level = which_level(hpw, \"hours-per-week\")\n",
    "print(max_level)\n",
    "for i,hpw in enumerate(dataset['hours-per-week']):\n",
    "    dataset['hours-per-week'].at[i] = generalize_to_level(max_level, hpw, \"hours-per-week\")"
   ]
  },
  {
   "cell_type": "markdown",
   "metadata": {},
   "source": [
    "Those are our values now. "
   ]
  },
  {
   "cell_type": "code",
   "execution_count": 20,
   "metadata": {},
   "outputs": [],
   "source": [
    "dataset.to_csv(\"../../data/ARX/without-contin-hie/adult_k3_done.csv\")"
   ]
  },
  {
   "cell_type": "code",
   "execution_count": 20,
   "metadata": {},
   "outputs": [
    {
     "data": {
      "text/plain": [
       "<matplotlib.axes._subplots.AxesSubplot at 0x1d895350>"
      ]
     },
     "execution_count": 20,
     "metadata": {},
     "output_type": "execute_result"
    },
    {
     "data": {
      "image/png": "[encoded data removed]",
      "text/plain": [
       "<Figure size 864x216 with 2 Axes>"
      ]
     },
     "metadata": {},
     "output_type": "display_data"
    }
   ],
   "source": [
    "fig = plt.figure(figsize=(12,3))\n",
    "ax = fig.add_subplot(1,2,1)\n",
    "dataset['hours-per-week'].value_counts().plot(kind='bar', axes=ax)\n",
    "ax = fig.add_subplot(1,2,2)\n",
    "dataset['age'].value_counts().plot(kind='bar', axes=ax)"
   ]
  },
  {
   "cell_type": "code",
   "execution_count": 21,
   "metadata": {},
   "outputs": [],
   "source": [
    "dataset_encoded, encoders = number_encode_features(dataset)"
   ]
  },
  {
   "cell_type": "code",
   "execution_count": 22,
   "metadata": {},
   "outputs": [
    {
     "data": {
      "text/html": [
       "<div>\n",
       "<style scoped>\n",
       "    .dataframe tbody tr th:only-of-type {\n",
       "        vertical-align: middle;\n",
       "    }\n",
       "\n",
       "    .dataframe tbody tr th {\n",
       "        vertical-align: top;\n",
       "    }\n",
       "\n",
       "    .dataframe thead th {\n",
       "        text-align: right;\n",
       "    }\n",
       "</style>\n",
       "<table border=\"1\" class=\"dataframe\">\n",
       "  <thead>\n",
       "    <tr style=\"text-align: right;\">\n",
       "      <th></th>\n",
       "      <th>age</th>\n",
       "      <th>workclass</th>\n",
       "      <th>education-num</th>\n",
       "      <th>marital-status</th>\n",
       "      <th>occupation</th>\n",
       "      <th>relationship</th>\n",
       "      <th>race</th>\n",
       "      <th>sex</th>\n",
       "      <th>capital-gain</th>\n",
       "      <th>capital-loss</th>\n",
       "      <th>hours-per-week</th>\n",
       "      <th>native-country</th>\n",
       "      <th>income</th>\n",
       "    </tr>\n",
       "  </thead>\n",
       "  <tbody>\n",
       "    <tr>\n",
       "      <th>0</th>\n",
       "      <td>20s</td>\n",
       "      <td>NaN</td>\n",
       "      <td>3</td>\n",
       "      <td>NaN</td>\n",
       "      <td>NaN</td>\n",
       "      <td>NaN</td>\n",
       "      <td>NaN</td>\n",
       "      <td>Female</td>\n",
       "      <td>0</td>\n",
       "      <td>0</td>\n",
       "      <td>40</td>\n",
       "      <td>Non-US</td>\n",
       "      <td>&lt;=50K</td>\n",
       "    </tr>\n",
       "    <tr>\n",
       "      <th>1</th>\n",
       "      <td>20s</td>\n",
       "      <td>NaN</td>\n",
       "      <td>2</td>\n",
       "      <td>NaN</td>\n",
       "      <td>NaN</td>\n",
       "      <td>NaN</td>\n",
       "      <td>NaN</td>\n",
       "      <td>Female</td>\n",
       "      <td>0</td>\n",
       "      <td>0</td>\n",
       "      <td>40</td>\n",
       "      <td>Non-US</td>\n",
       "      <td>&lt;=50K</td>\n",
       "    </tr>\n",
       "    <tr>\n",
       "      <th>2</th>\n",
       "      <td>20s</td>\n",
       "      <td>NaN</td>\n",
       "      <td>2</td>\n",
       "      <td>NaN</td>\n",
       "      <td>NaN</td>\n",
       "      <td>NaN</td>\n",
       "      <td>NaN</td>\n",
       "      <td>Female</td>\n",
       "      <td>0</td>\n",
       "      <td>0</td>\n",
       "      <td>40</td>\n",
       "      <td>Non-US</td>\n",
       "      <td>&lt;=50K</td>\n",
       "    </tr>\n",
       "    <tr>\n",
       "      <th>3</th>\n",
       "      <td>40s</td>\n",
       "      <td>NaN</td>\n",
       "      <td>4</td>\n",
       "      <td>NaN</td>\n",
       "      <td>NaN</td>\n",
       "      <td>NaN</td>\n",
       "      <td>NaN</td>\n",
       "      <td>Female</td>\n",
       "      <td>0</td>\n",
       "      <td>0</td>\n",
       "      <td>40</td>\n",
       "      <td>Non-US</td>\n",
       "      <td>&lt;=50K</td>\n",
       "    </tr>\n",
       "    <tr>\n",
       "      <th>4</th>\n",
       "      <td>40s</td>\n",
       "      <td>NaN</td>\n",
       "      <td>2</td>\n",
       "      <td>NaN</td>\n",
       "      <td>NaN</td>\n",
       "      <td>NaN</td>\n",
       "      <td>NaN</td>\n",
       "      <td>Female</td>\n",
       "      <td>0</td>\n",
       "      <td>0</td>\n",
       "      <td>40</td>\n",
       "      <td>Non-US</td>\n",
       "      <td>&lt;=50K</td>\n",
       "    </tr>\n",
       "  </tbody>\n",
       "</table>\n",
       "</div>"
      ],
      "text/plain": [
       "   age workclass  education-num marital-status occupation relationship race  \\\n",
       "0  20s       NaN              3            NaN        NaN          NaN  NaN   \n",
       "1  20s       NaN              2            NaN        NaN          NaN  NaN   \n",
       "2  20s       NaN              2            NaN        NaN          NaN  NaN   \n",
       "3  40s       NaN              4            NaN        NaN          NaN  NaN   \n",
       "4  40s       NaN              2            NaN        NaN          NaN  NaN   \n",
       "\n",
       "      sex  capital-gain  capital-loss hours-per-week native-country income  \n",
       "0  Female             0             0             40         Non-US  <=50K  \n",
       "1  Female             0             0             40         Non-US  <=50K  \n",
       "2  Female             0             0             40         Non-US  <=50K  \n",
       "3  Female             0             0             40         Non-US  <=50K  \n",
       "4  Female             0             0             40         Non-US  <=50K  "
      ]
     },
     "execution_count": 22,
     "metadata": {},
     "output_type": "execute_result"
    }
   ],
   "source": [
    "dataset.head()"
   ]
  },
  {
   "cell_type": "code",
   "execution_count": 23,
   "metadata": {},
   "outputs": [],
   "source": [
    "clf = RandomForestClassifier()"
   ]
  },
  {
   "cell_type": "code",
   "execution_count": 24,
   "metadata": {},
   "outputs": [
    {
     "name": "stdout",
     "output_type": "stream",
     "text": [
      "F1 score (number encoded data): 0.11 (+/- 0.22)\n",
      "F1 score (binary attributes): 0.13 (+/- 0.27)\n",
      "Accuracy (binary attributes): 0.14 (+/- 0.28)\n"
     ]
    }
   ],
   "source": [
    "# define target value\n",
    "y = dataset_encoded['education-num']\n",
    "X = dataset_encoded.drop('education-num', axis=1)\n",
    "\n",
    "# scale\n",
    "scaler = preprocessing.StandardScaler()\n",
    "X = pd.DataFrame(scaler.fit_transform(X), columns=X.columns)\n",
    "\n",
    "binary_data = pd.get_dummies(dataset)\n",
    "\n",
    "y_bin = binary_data['education-num']\n",
    "X_bin = binary_data.drop('education-num', axis=1)\n",
    "\n",
    "# scale \n",
    "X_bin = pd.DataFrame(scaler.fit_transform(X_bin), columns=X_bin.columns)\n",
    "\n",
    "# cross validation scores \n",
    "scores = model_selection.cross_val_score(clf, X, y, cv=model_selection.StratifiedKFold(n_splits=10, shuffle=False), scoring='f1_micro')\n",
    "print(\"F1 score (number encoded data): %0.2f (+/- %0.2f)\" \n",
    "      % (scores.mean(), scores.std() * 2))\n",
    "scores = model_selection.cross_val_score(clf, X_bin, y_bin, cv=model_selection.StratifiedKFold(n_splits=10, shuffle=False), scoring='f1_micro')\n",
    "print(\"F1 score (binary attributes): %0.2f (+/- %0.2f)\" \n",
    "      % (scores.mean(), scores.std() * 2))\n",
    "scores = model_selection.cross_val_score(clf, X_bin, y_bin, cv=model_selection.StratifiedKFold(n_splits=10, shuffle=False), scoring='accuracy')\n",
    "print(\"Accuracy (binary attributes): %0.2f (+/- %0.2f)\" \n",
    "      % (scores.mean(), scores.std() * 2))"
   ]
  },
  {
   "cell_type": "code",
   "execution_count": 25,
   "metadata": {},
   "outputs": [],
   "source": [
    "prediction = model_selection.cross_val_predict(clf, X_bin, y_bin, cv=10)"
   ]
  },
  {
   "cell_type": "code",
   "execution_count": 26,
   "metadata": {},
   "outputs": [
    {
     "data": {
      "text/plain": [
       "0.13516121518650384"
      ]
     },
     "execution_count": 26,
     "metadata": {},
     "output_type": "execute_result"
    }
   ],
   "source": [
    "metrics.accuracy_score(y_bin, prediction)"
   ]
  },
  {
   "cell_type": "markdown",
   "metadata": {},
   "source": [
    "Because the performance is still bad, we can conclude that any encoding of categorical data does not work fine with tree classifiers in scikit-learn. For that reason we use another classification tool - Weka - to obtain results and use them in the following parts for vizualization and comparison."
   ]
  },
  {
   "cell_type": "markdown",
   "metadata": {},
   "source": [
    "The f1 (micro average) score from Weka for database anonymized in described manner wiht k=3 is **57.2522%**.\n",
    "\n",
    "\n",
    "For the original dataset the f1 score (micro) was also slightly better than scikit implementation: **59.2766%**"
   ]
  },
  {
   "cell_type": "markdown",
   "metadata": {},
   "source": [
    "## Performance comparison"
   ]
  },
  {
   "cell_type": "markdown",
   "metadata": {},
   "source": [
    "As stated before, f1 scores are obtained from Weka.\n",
    "\n",
    "We preprocess the data as described in 2.3.:"
   ]
  },
  {
   "cell_type": "code",
   "execution_count": 36,
   "metadata": {},
   "outputs": [],
   "source": [
    "# preprocessing\n",
    "k_values = [23, 27, 31, 35, 100]\n",
    "# k_values = [1, 3, 7, 11, 15, 19] #, 23, 27, 31, 35, 100]\n",
    "\n",
    "for k in k_values:\n",
    "    if k is 1 or k is 3:\n",
    "        continue\n",
    "        \n",
    "    # import data\n",
    "    dataset = pd.read_csv(\"../../data/ARX/without-contin-hie/adult_k\" + str(k) + \".csv\", \n",
    "                          sep=r'\\s*,\\s*', na_values=\"*\", engine='python')\n",
    "    \n",
    "    # remove missings\n",
    "    dataset = dataset.dropna(axis=1, how='all')\n",
    "    #dataset = dataset.dropna(axis=0, subset=['age', 'hours-per-week'])\n",
    "    \n",
    "    # remove local anonymization for continuous attributes:\n",
    "    #  age\n",
    "    max_level = 0\n",
    "    for age in dataset['age']:\n",
    "        if not(which_level(age, \"age\") is None) and which_level(age, \"age\") > max_level:\n",
    "            max_level = which_level(age, \"age\")\n",
    "    for i, age in enumerate(dataset['age']):\n",
    "        dataset['age'].at[i] = generalize_to_level(max_level, age, \"age\")\n",
    "    #  hours-per-week\n",
    "    max_level = 0\n",
    "    for hpw in dataset['hours-per-week']:\n",
    "        if not(which_level(hpw, \"hpw\") is None) and which_level(hpw, \"hours-per-week\") > max_level:\n",
    "            max_level = which_level(hpw, \"hours-per-week\")\n",
    "    for i, hpw in enumerate(dataset['hours-per-week']):\n",
    "        dataset['hours-per-week'].at[i] = generalize_to_level(max_level, hpw, \"hours-per-week\")\n",
    "    \n",
    "    # save preprocessed dataset\n",
    "    dataset.to_csv(\"../../data/ARX/without-contin-hie/adult_k\" + str(k) + \"_done.csv\", \n",
    "                   index=False)"
   ]
  },
  {
   "cell_type": "code",
   "execution_count": 51,
   "metadata": {},
   "outputs": [],
   "source": [
    "k_values = [1, 3, 7, 11, 15, 19, 23, 27, 31, 35, 100]\n",
    "# read f1 scores obtained using Weka \n",
    "with open(\"../../data/ARX/without-contin-hie/f1_scores_Random_Forest_Weka.txt\") as f:\n",
    "    lines = f.readlines()\n",
    "f1_scores = [float(score.rstrip('\\n')) for score in lines]"
   ]
  },
  {
   "cell_type": "code",
   "execution_count": 52,
   "metadata": {},
   "outputs": [
    {
     "data": {
      "text/plain": [
       "Text(0.5,0,'k')"
      ]
     },
     "execution_count": 52,
     "metadata": {},
     "output_type": "execute_result"
    },
    {
     "data": {
      "image/png": "[encoded data removed]",
      "text/plain": [
       "<Figure size 432x288 with 1 Axes>"
      ]
     },
     "metadata": {},
     "output_type": "display_data"
    }
   ],
   "source": [
    "# visualize how f1 score depends on k\n",
    "fig = plt.figure()\n",
    "ax = fig.add_subplot(1, 1, 1)\n",
    "ax.set_title('Random Forest')\n",
    "\n",
    "plt.plot(k_values, f1_scores, 'bo', k_values, f1_scores, 'k')\n",
    "plt.ylabel('f1 score')\n",
    "plt.xlabel('k')"
   ]
  },
  {
   "cell_type": "code",
   "execution_count": 81,
   "metadata": {},
   "outputs": [],
   "source": [
    "# pickle f1 scores \n",
    "outfile = open('../../data/ARX/without-hierarchies/RF_f1_scores', 'wb')\n",
    "pickle.dump(f1_scores, outfile)\n",
    "outfile.close()"
   ]
  },
  {
   "cell_type": "markdown",
   "metadata": {},
   "source": [
    "After numerous experiments, those results make some sense. \n",
    "\n",
    "Experiments:\n",
    "<ol>\n",
    "    <li>Well defined attribute hierarcies for anonymization, global anonymization (entire column anonymized to the same anonymization level) and RandomForestClassifier from scikit-learn as a classifier.\n",
    "        <ul>\n",
    "            <li>Results from paper are not obtained by global anonymization, so there's no relevance.</li>\n",
    "        </ul>\n",
    "    </li>\n",
    "    <li>Well defined attribute hierarchies for anonymization, local anonymization (a single column contains values anonymized to different anonymization levels\n",
    "        <ul>\n",
    "            <li>Anonymized dataset results with columns containing a large number different values due to local anonymization</li>\n",
    "            <li>Mixing continuous and ordinal/categorical values in a single attribute</li>\n",
    "            <li>F1 score is extremely low</li>\n",
    "        </ul>\n",
    "    </li>\n",
    "    <li>Hierarchies for attributes not defined at all, local anonymization \n",
    "        <ul>\n",
    "            <li>Already for small k (k=3) results with dataset with around 70% percent completely anonymized rows, i.e. rows with all missing values. \n",
    "        </ul>\n",
    "    </li>\n",
    "    <li>Hierarchies defined fairly well, local anonymization performed for categorical data, global anonymization performed on continuous data, scikit's RandomForestClassifier used for classification.\n",
    "        <ul>\n",
    "            <li>Bad f1 score for some reason (probably due to lack of good implementation for categorical data for this classifier)\n",
    "        </ul>\n",
    "    </li>\n",
    "    <li>Hierarchies defined fairly well, local anonymization performed for categorical data, global anonymization performed on continuous data, scikit's RandomForestClassifier used for classification.\n",
    "        <ul>\n",
    "            <li>Results slightly better than in paper</li>\n",
    "            <li>Also behavior is different - f1 lowering instead of growing</li>\n",
    "        </ul>\n",
    "    </li>\n",
    "</ol>\n",
    "\n",
    "The main problem with reconstucting the results were the unknown key configurations, for example:\n",
    "<ul>\n",
    "    <li>It's unknown how exaclty hierarchies for anonymization were defined\n",
    "    <li>The same anonymization tool not available\n",
    "    <li>Unknown tool/library for classification task\n",
    "    <li>Unknown how datasets were preprocessed\n",
    "</ul>"
   ]
  }
 ],
 "metadata": {
  "kernelspec": {
   "display_name": "Python 3",
   "language": "python",
   "name": "python3"
  },
  "language_info": {
   "codemirror_mode": {
    "name": "ipython",
    "version": 3
   },
   "file_extension": ".py",
   "mimetype": "text/x-python",
   "name": "python",
   "nbconvert_exporter": "python",
   "pygments_lexer": "ipython3",
   "version": "3.7.0"
  }
 },
 "nbformat": 4,
 "nbformat_minor": 2
}
